{
 "cells": [
  {
   "cell_type": "code",
   "execution_count": 84,
   "id": "37ca0d8f",
   "metadata": {},
   "outputs": [],
   "source": [
    "using CategoricalArrays, Clp, CSV, DataFrames, GLPK, JuMP"
   ]
  },
  {
   "cell_type": "markdown",
   "id": "938f9920",
   "metadata": {},
   "source": [
    "## Challenge description"
   ]
  },
  {
   "cell_type": "markdown",
   "id": "bbeb70c9",
   "metadata": {},
   "source": [
    "Challenge information & credit:\n",
    "- The challenge was created by _Maurice Garfinkel (At AllState)_, as motivation & practice for learning Optimization techniques particular Linear Optimization (due on 2023-04-18).\n",
    "- Credit goes to _Maurice Garfinkel (At AllState)_, for creating such a thoughtfully made challenge in order to start learning \"Optimization Techniques\".\n",
    "\n",
    "Challenge:\n",
    "- From the list of `./data/McDonalds.csv` menu items choose items for 30 days that minimize the total calories while meeting the limits in `./data/nutrient_limits.csv`.\n",
    "    - Furthermore:\n",
    "        - A menu item can be chosen only once in a day (i.e. In one day cannot choose the same menu item twice). \n",
    "        - The meal for each day needs to have at least 3 mains from either {\"Entrees\", \"Burgers\", \"Sandwiches\"}.\n",
    "        - Fractional meals are okay.\n",
    "- Show that the solution has a value of `54983.2`."
   ]
  },
  {
   "cell_type": "markdown",
   "id": "aa5af503",
   "metadata": {},
   "source": [
    "## Intuition/motivation for the solution"
   ]
  },
  {
   "cell_type": "markdown",
   "id": "7da911b7",
   "metadata": {},
   "source": [
    "1. First note that this is an optimization problem, since there are multiple combinations McDonalds meals for 30 days, and we need to pick an optimal combination subject to the calory & nutrient constraints.\n",
    "2. This is a \"Linear Programming\" problem, since \"Linear Programming\" problems are special class of Optimization problems where the \"requirements\" are represented by linear relationships.\n",
    "\n",
    "Therefore, since \"Optimization\" & \"Linear Programming\" are well established problem solving techiniques for exactly these kinds of problems, we should at least first start to solve with these.\n",
    "\n",
    "Reference:\n",
    "- [Wikipedia: Linear Programming](https://en.wikipedia.org/wiki/Linear_programming)"
   ]
  },
  {
   "cell_type": "markdown",
   "id": "f5433502",
   "metadata": {},
   "source": [
    "## Get data"
   ]
  },
  {
   "cell_type": "code",
   "execution_count": 42,
   "id": "b9dfcd60",
   "metadata": {},
   "outputs": [
    {
     "data": {
      "text/html": [
       "<div><div style = \"float: left;\"><span>9×3 DataFrame</span></div><div style = \"clear: both;\"></div></div><div class = \"data-frame\" style = \"overflow-x: scroll;\"><table class = \"data-frame\" style = \"margin-bottom: 6px;\"><thead><tr class = \"header\"><th class = \"rowNumber\" style = \"font-weight: bold; text-align: right;\">Row</th><th style = \"text-align: left;\">Nutrient</th><th style = \"text-align: left;\">Lower_Limit</th><th style = \"text-align: left;\">Upper_Limit</th></tr><tr class = \"subheader headerLastRow\"><th class = \"rowNumber\" style = \"font-weight: bold; text-align: right;\"></th><th title = \"String15\" style = \"text-align: left;\">String15</th><th title = \"Union{Missing, Int64}\" style = \"text-align: left;\">Int64?</th><th title = \"Float64\" style = \"text-align: left;\">Float64</th></tr></thead><tbody><tr><td class = \"rowNumber\" style = \"font-weight: bold; text-align: right;\">1</td><td style = \"text-align: left;\">Total_Fat</td><td style = \"text-align: right;\">70</td><td style = \"text-align: right;\">90.0</td></tr><tr><td class = \"rowNumber\" style = \"font-weight: bold; text-align: right;\">2</td><td style = \"text-align: left;\">Saturated_Fat</td><td style = \"text-align: right;\">20</td><td style = \"text-align: right;\">30.0</td></tr><tr><td class = \"rowNumber\" style = \"font-weight: bold; text-align: right;\">3</td><td style = \"text-align: left;\">Trans_Fat</td><td style = \"font-style: italic; text-align: right;\">missing</td><td style = \"text-align: right;\">2.75</td></tr><tr><td class = \"rowNumber\" style = \"font-weight: bold; text-align: right;\">4</td><td style = \"text-align: left;\">Cholesterol</td><td style = \"font-style: italic; text-align: right;\">missing</td><td style = \"text-align: right;\">300.0</td></tr><tr><td class = \"rowNumber\" style = \"font-weight: bold; text-align: right;\">5</td><td style = \"text-align: left;\">Sodium</td><td style = \"font-style: italic; text-align: right;\">missing</td><td style = \"text-align: right;\">2300.0</td></tr><tr><td class = \"rowNumber\" style = \"font-weight: bold; text-align: right;\">6</td><td style = \"text-align: left;\">Carbohydrates</td><td style = \"text-align: right;\">225</td><td style = \"text-align: right;\">400.0</td></tr><tr><td class = \"rowNumber\" style = \"font-weight: bold; text-align: right;\">7</td><td style = \"text-align: left;\">Protein</td><td style = \"text-align: right;\">50</td><td style = \"text-align: right;\">220.0</td></tr><tr><td class = \"rowNumber\" style = \"font-weight: bold; text-align: right;\">8</td><td style = \"text-align: left;\">Sugar</td><td style = \"font-style: italic; text-align: right;\">missing</td><td style = \"text-align: right;\">36.0</td></tr><tr><td class = \"rowNumber\" style = \"font-weight: bold; text-align: right;\">9</td><td style = \"text-align: left;\">Fiber</td><td style = \"text-align: right;\">25</td><td style = \"text-align: right;\">38.0</td></tr></tbody></table></div>"
      ],
      "text/latex": [
       "\\begin{tabular}{r|ccc}\n",
       "\t& Nutrient & Lower\\_Limit & Upper\\_Limit\\\\\n",
       "\t\\hline\n",
       "\t& String15 & Int64? & Float64\\\\\n",
       "\t\\hline\n",
       "\t1 & Total\\_Fat & 70 & 90.0 \\\\\n",
       "\t2 & Saturated\\_Fat & 20 & 30.0 \\\\\n",
       "\t3 & Trans\\_Fat & \\emph{missing} & 2.75 \\\\\n",
       "\t4 & Cholesterol & \\emph{missing} & 300.0 \\\\\n",
       "\t5 & Sodium & \\emph{missing} & 2300.0 \\\\\n",
       "\t6 & Carbohydrates & 225 & 400.0 \\\\\n",
       "\t7 & Protein & 50 & 220.0 \\\\\n",
       "\t8 & Sugar & \\emph{missing} & 36.0 \\\\\n",
       "\t9 & Fiber & 25 & 38.0 \\\\\n",
       "\\end{tabular}\n"
      ],
      "text/plain": [
       "\u001b[1m9×3 DataFrame\u001b[0m\n",
       "\u001b[1m Row \u001b[0m│\u001b[1m Nutrient      \u001b[0m\u001b[1m Lower_Limit \u001b[0m\u001b[1m Upper_Limit \u001b[0m\n",
       "     │\u001b[90m String15      \u001b[0m\u001b[90m Int64?      \u001b[0m\u001b[90m Float64     \u001b[0m\n",
       "─────┼─────────────────────────────────────────\n",
       "   1 │ Total_Fat               70        90.0\n",
       "   2 │ Saturated_Fat           20        30.0\n",
       "   3 │ Trans_Fat     \u001b[90m     missing \u001b[0m        2.75\n",
       "   4 │ Cholesterol   \u001b[90m     missing \u001b[0m      300.0\n",
       "   5 │ Sodium        \u001b[90m     missing \u001b[0m     2300.0\n",
       "   6 │ Carbohydrates          225       400.0\n",
       "   7 │ Protein                 50       220.0\n",
       "   8 │ Sugar         \u001b[90m     missing \u001b[0m       36.0\n",
       "   9 │ Fiber                   25        38.0"
      ]
     },
     "execution_count": 42,
     "metadata": {},
     "output_type": "execute_result"
    }
   ],
   "source": [
    "df_mcdonalds_menu = CSV.read(\"./data/McDonalds.csv\", DataFrame)\n",
    "df_nutrient_limits = CSV.read(\"./data/nutrient_limits.csv\", DataFrame)"
   ]
  },
  {
   "cell_type": "markdown",
   "id": "0b14f98e",
   "metadata": {},
   "source": [
    "## Briefly look at the data"
   ]
  },
  {
   "cell_type": "markdown",
   "id": "df71cb93",
   "metadata": {},
   "source": [
    "### McDonalds menu"
   ]
  },
  {
   "cell_type": "code",
   "execution_count": 3,
   "id": "316683e1",
   "metadata": {},
   "outputs": [
    {
     "data": {
      "text/html": [
       "<div><div style = \"float: left;\"><span>2×12 DataFrame</span></div><div style = \"clear: both;\"></div></div><div class = \"data-frame\" style = \"overflow-x: scroll;\"><table class = \"data-frame\" style = \"margin-bottom: 6px;\"><thead><tr class = \"header\"><th class = \"rowNumber\" style = \"font-weight: bold; text-align: right;\">Row</th><th style = \"text-align: left;\">Restaurant_Item_Name</th><th style = \"text-align: left;\">Food_Category</th><th style = \"text-align: left;\">Calories</th><th style = \"text-align: left;\">Total_Fat</th><th style = \"text-align: left;\">Saturated_Fat</th><th style = \"text-align: left;\">Trans_Fat</th><th style = \"text-align: left;\">Cholesterol</th><th style = \"text-align: left;\">Sodium</th><th style = \"text-align: left;\">Carbohydrates</th><th style = \"text-align: left;\">Protein</th><th style = \"text-align: left;\">Sugar</th><th style = \"text-align: left;\">Dietary_Fiber</th></tr><tr class = \"subheader headerLastRow\"><th class = \"rowNumber\" style = \"font-weight: bold; text-align: right;\"></th><th title = \"String\" style = \"text-align: left;\">String</th><th title = \"String31\" style = \"text-align: left;\">String31</th><th title = \"Float64\" style = \"text-align: left;\">Float64</th><th title = \"Float64\" style = \"text-align: left;\">Float64</th><th title = \"Float64\" style = \"text-align: left;\">Float64</th><th title = \"Float64\" style = \"text-align: left;\">Float64</th><th title = \"Float64\" style = \"text-align: left;\">Float64</th><th title = \"Float64\" style = \"text-align: left;\">Float64</th><th title = \"Float64\" style = \"text-align: left;\">Float64</th><th title = \"Float64\" style = \"text-align: left;\">Float64</th><th title = \"Float64\" style = \"text-align: left;\">Float64</th><th title = \"Float64\" style = \"text-align: left;\">Float64</th></tr></thead><tbody><tr><td class = \"rowNumber\" style = \"font-weight: bold; text-align: right;\">1</td><td style = \"text-align: left;\">McDonald&apos;s Dr Pepper Large</td><td style = \"text-align: left;\">Beverages</td><td style = \"text-align: right;\">290.0</td><td style = \"text-align: right;\">0.0</td><td style = \"text-align: right;\">0.0</td><td style = \"text-align: right;\">0.0</td><td style = \"text-align: right;\">0.0</td><td style = \"text-align: right;\">95.0</td><td style = \"text-align: right;\">79.0</td><td style = \"text-align: right;\">0.0</td><td style = \"text-align: right;\">78.0</td><td style = \"text-align: right;\">0.0</td></tr><tr><td class = \"rowNumber\" style = \"font-weight: bold; text-align: right;\">2</td><td style = \"text-align: left;\">McDonald&apos;s Dr Pepper Medium</td><td style = \"text-align: left;\">Beverages</td><td style = \"text-align: right;\">210.0</td><td style = \"text-align: right;\">0.0</td><td style = \"text-align: right;\">0.0</td><td style = \"text-align: right;\">0.0</td><td style = \"text-align: right;\">0.0</td><td style = \"text-align: right;\">70.0</td><td style = \"text-align: right;\">58.0</td><td style = \"text-align: right;\">0.0</td><td style = \"text-align: right;\">57.0</td><td style = \"text-align: right;\">0.0</td></tr></tbody></table></div>"
      ],
      "text/latex": [
       "\\begin{tabular}{r|cccccc}\n",
       "\t& Restaurant\\_Item\\_Name & Food\\_Category & Calories & Total\\_Fat & Saturated\\_Fat & \\\\\n",
       "\t\\hline\n",
       "\t& String & String31 & Float64 & Float64 & Float64 & \\\\\n",
       "\t\\hline\n",
       "\t1 & McDonald's Dr Pepper Large & Beverages & 290.0 & 0.0 & 0.0 & $\\dots$ \\\\\n",
       "\t2 & McDonald's Dr Pepper Medium & Beverages & 210.0 & 0.0 & 0.0 & $\\dots$ \\\\\n",
       "\\end{tabular}\n"
      ],
      "text/plain": [
       "\u001b[1m2×12 DataFrame\u001b[0m\n",
       "\u001b[1m Row \u001b[0m│\u001b[1m Restaurant_Item_Name        \u001b[0m\u001b[1m Food_Category \u001b[0m\u001b[1m Calories \u001b[0m\u001b[1m Total_Fat \u001b[0m\u001b[1m Satura\u001b[0m ⋯\n",
       "     │\u001b[90m String                      \u001b[0m\u001b[90m String31      \u001b[0m\u001b[90m Float64  \u001b[0m\u001b[90m Float64   \u001b[0m\u001b[90m Float6\u001b[0m ⋯\n",
       "─────┼──────────────────────────────────────────────────────────────────────────\n",
       "   1 │ McDonald's Dr Pepper Large   Beverages         290.0        0.0         ⋯\n",
       "   2 │ McDonald's Dr Pepper Medium  Beverages         210.0        0.0\n",
       "\u001b[36m                                                               8 columns omitted\u001b[0m"
      ]
     },
     "execution_count": 3,
     "metadata": {},
     "output_type": "execute_result"
    }
   ],
   "source": [
    "first(df_mcdonalds_menu, 2)"
   ]
  },
  {
   "cell_type": "code",
   "execution_count": 9,
   "id": "17fb933f",
   "metadata": {},
   "outputs": [
    {
     "name": "stdout",
     "output_type": "stream",
     "text": [
      "443"
     ]
    },
    {
     "data": {
      "text/plain": [
       "96"
      ]
     },
     "execution_count": 9,
     "metadata": {},
     "output_type": "execute_result"
    }
   ],
   "source": [
    "# Check if Calories are unique\n",
    "\n",
    "print(nrow(df_mcdonalds_menu))\n",
    "length(unique(df_mcdonalds_menu.Calories))"
   ]
  },
  {
   "cell_type": "markdown",
   "id": "9726147c",
   "metadata": {},
   "source": [
    "### nutrient_limits"
   ]
  },
  {
   "cell_type": "code",
   "execution_count": 4,
   "id": "67ed2082",
   "metadata": {},
   "outputs": [
    {
     "data": {
      "text/html": [
       "<div><div style = \"float: left;\"><span>9×3 DataFrame</span></div><div style = \"clear: both;\"></div></div><div class = \"data-frame\" style = \"overflow-x: scroll;\"><table class = \"data-frame\" style = \"margin-bottom: 6px;\"><thead><tr class = \"header\"><th class = \"rowNumber\" style = \"font-weight: bold; text-align: right;\">Row</th><th style = \"text-align: left;\">Nutrient</th><th style = \"text-align: left;\">Lower_Limit</th><th style = \"text-align: left;\">Upper_Limit</th></tr><tr class = \"subheader headerLastRow\"><th class = \"rowNumber\" style = \"font-weight: bold; text-align: right;\"></th><th title = \"String15\" style = \"text-align: left;\">String15</th><th title = \"Union{Missing, Int64}\" style = \"text-align: left;\">Int64?</th><th title = \"Float64\" style = \"text-align: left;\">Float64</th></tr></thead><tbody><tr><td class = \"rowNumber\" style = \"font-weight: bold; text-align: right;\">1</td><td style = \"text-align: left;\">Total_Fat</td><td style = \"text-align: right;\">70</td><td style = \"text-align: right;\">90.0</td></tr><tr><td class = \"rowNumber\" style = \"font-weight: bold; text-align: right;\">2</td><td style = \"text-align: left;\">Saturated_Fat</td><td style = \"text-align: right;\">20</td><td style = \"text-align: right;\">30.0</td></tr><tr><td class = \"rowNumber\" style = \"font-weight: bold; text-align: right;\">3</td><td style = \"text-align: left;\">Trans_Fat</td><td style = \"font-style: italic; text-align: right;\">missing</td><td style = \"text-align: right;\">2.75</td></tr><tr><td class = \"rowNumber\" style = \"font-weight: bold; text-align: right;\">4</td><td style = \"text-align: left;\">Cholesterol</td><td style = \"font-style: italic; text-align: right;\">missing</td><td style = \"text-align: right;\">300.0</td></tr><tr><td class = \"rowNumber\" style = \"font-weight: bold; text-align: right;\">5</td><td style = \"text-align: left;\">Sodium</td><td style = \"font-style: italic; text-align: right;\">missing</td><td style = \"text-align: right;\">2300.0</td></tr><tr><td class = \"rowNumber\" style = \"font-weight: bold; text-align: right;\">6</td><td style = \"text-align: left;\">Carbohydrates</td><td style = \"text-align: right;\">225</td><td style = \"text-align: right;\">400.0</td></tr><tr><td class = \"rowNumber\" style = \"font-weight: bold; text-align: right;\">7</td><td style = \"text-align: left;\">Protein</td><td style = \"text-align: right;\">50</td><td style = \"text-align: right;\">220.0</td></tr><tr><td class = \"rowNumber\" style = \"font-weight: bold; text-align: right;\">8</td><td style = \"text-align: left;\">Sugar</td><td style = \"font-style: italic; text-align: right;\">missing</td><td style = \"text-align: right;\">36.0</td></tr><tr><td class = \"rowNumber\" style = \"font-weight: bold; text-align: right;\">9</td><td style = \"text-align: left;\">Fiber</td><td style = \"text-align: right;\">25</td><td style = \"text-align: right;\">38.0</td></tr></tbody></table></div>"
      ],
      "text/latex": [
       "\\begin{tabular}{r|ccc}\n",
       "\t& Nutrient & Lower\\_Limit & Upper\\_Limit\\\\\n",
       "\t\\hline\n",
       "\t& String15 & Int64? & Float64\\\\\n",
       "\t\\hline\n",
       "\t1 & Total\\_Fat & 70 & 90.0 \\\\\n",
       "\t2 & Saturated\\_Fat & 20 & 30.0 \\\\\n",
       "\t3 & Trans\\_Fat & \\emph{missing} & 2.75 \\\\\n",
       "\t4 & Cholesterol & \\emph{missing} & 300.0 \\\\\n",
       "\t5 & Sodium & \\emph{missing} & 2300.0 \\\\\n",
       "\t6 & Carbohydrates & 225 & 400.0 \\\\\n",
       "\t7 & Protein & 50 & 220.0 \\\\\n",
       "\t8 & Sugar & \\emph{missing} & 36.0 \\\\\n",
       "\t9 & Fiber & 25 & 38.0 \\\\\n",
       "\\end{tabular}\n"
      ],
      "text/plain": [
       "\u001b[1m9×3 DataFrame\u001b[0m\n",
       "\u001b[1m Row \u001b[0m│\u001b[1m Nutrient      \u001b[0m\u001b[1m Lower_Limit \u001b[0m\u001b[1m Upper_Limit \u001b[0m\n",
       "     │\u001b[90m String15      \u001b[0m\u001b[90m Int64?      \u001b[0m\u001b[90m Float64     \u001b[0m\n",
       "─────┼─────────────────────────────────────────\n",
       "   1 │ Total_Fat               70        90.0\n",
       "   2 │ Saturated_Fat           20        30.0\n",
       "   3 │ Trans_Fat     \u001b[90m     missing \u001b[0m        2.75\n",
       "   4 │ Cholesterol   \u001b[90m     missing \u001b[0m      300.0\n",
       "   5 │ Sodium        \u001b[90m     missing \u001b[0m     2300.0\n",
       "   6 │ Carbohydrates          225       400.0\n",
       "   7 │ Protein                 50       220.0\n",
       "   8 │ Sugar         \u001b[90m     missing \u001b[0m       36.0\n",
       "   9 │ Fiber                   25        38.0"
      ]
     },
     "execution_count": 4,
     "metadata": {},
     "output_type": "execute_result"
    }
   ],
   "source": [
    "df_nutrient_limits"
   ]
  },
  {
   "cell_type": "markdown",
   "id": "4f9f805f",
   "metadata": {},
   "source": [
    "## Feature engineering"
   ]
  },
  {
   "cell_type": "markdown",
   "id": "4b80ac4e",
   "metadata": {},
   "source": [
    "### Rename columns"
   ]
  },
  {
   "cell_type": "code",
   "execution_count": 43,
   "id": "31c71323",
   "metadata": {
    "collapsed": true
   },
   "outputs": [
    {
     "data": {
      "text/html": [
       "<div><div style = \"float: left;\"><span>443×12 DataFrame</span></div><div style = \"float: right;\"><span style = \"font-style: italic;\">418 rows omitted</span></div><div style = \"clear: both;\"></div></div><div class = \"data-frame\" style = \"overflow-x: scroll;\"><table class = \"data-frame\" style = \"margin-bottom: 6px;\"><thead><tr class = \"header\"><th class = \"rowNumber\" style = \"font-weight: bold; text-align: right;\">Row</th><th style = \"text-align: left;\">Restaurant_Item_Name</th><th style = \"text-align: left;\">Food_Category</th><th style = \"text-align: left;\">Calories</th><th style = \"text-align: left;\">Total_Fat</th><th style = \"text-align: left;\">Saturated_Fat</th><th style = \"text-align: left;\">Trans_Fat</th><th style = \"text-align: left;\">Cholesterol</th><th style = \"text-align: left;\">Sodium</th><th style = \"text-align: left;\">Carbohydrates</th><th style = \"text-align: left;\">Protein</th><th style = \"text-align: left;\">Sugar</th><th style = \"text-align: left;\">Fiber</th></tr><tr class = \"subheader headerLastRow\"><th class = \"rowNumber\" style = \"font-weight: bold; text-align: right;\"></th><th title = \"String\" style = \"text-align: left;\">String</th><th title = \"String31\" style = \"text-align: left;\">String31</th><th title = \"Float64\" style = \"text-align: left;\">Float64</th><th title = \"Float64\" style = \"text-align: left;\">Float64</th><th title = \"Float64\" style = \"text-align: left;\">Float64</th><th title = \"Float64\" style = \"text-align: left;\">Float64</th><th title = \"Float64\" style = \"text-align: left;\">Float64</th><th title = \"Float64\" style = \"text-align: left;\">Float64</th><th title = \"Float64\" style = \"text-align: left;\">Float64</th><th title = \"Float64\" style = \"text-align: left;\">Float64</th><th title = \"Float64\" style = \"text-align: left;\">Float64</th><th title = \"Float64\" style = \"text-align: left;\">Float64</th></tr></thead><tbody><tr><td class = \"rowNumber\" style = \"font-weight: bold; text-align: right;\">1</td><td style = \"text-align: left;\">McDonald&apos;s Dr Pepper Large</td><td style = \"text-align: left;\">Beverages</td><td style = \"text-align: right;\">290.0</td><td style = \"text-align: right;\">0.0</td><td style = \"text-align: right;\">0.0</td><td style = \"text-align: right;\">0.0</td><td style = \"text-align: right;\">0.0</td><td style = \"text-align: right;\">95.0</td><td style = \"text-align: right;\">79.0</td><td style = \"text-align: right;\">0.0</td><td style = \"text-align: right;\">78.0</td><td style = \"text-align: right;\">0.0</td></tr><tr><td class = \"rowNumber\" style = \"font-weight: bold; text-align: right;\">2</td><td style = \"text-align: left;\">McDonald&apos;s Dr Pepper Medium</td><td style = \"text-align: left;\">Beverages</td><td style = \"text-align: right;\">210.0</td><td style = \"text-align: right;\">0.0</td><td style = \"text-align: right;\">0.0</td><td style = \"text-align: right;\">0.0</td><td style = \"text-align: right;\">0.0</td><td style = \"text-align: right;\">70.0</td><td style = \"text-align: right;\">58.0</td><td style = \"text-align: right;\">0.0</td><td style = \"text-align: right;\">57.0</td><td style = \"text-align: right;\">0.0</td></tr><tr><td class = \"rowNumber\" style = \"font-weight: bold; text-align: right;\">3</td><td style = \"text-align: left;\">McDonald&apos;s Tangy Barbeque Sauce</td><td style = \"text-align: left;\">Toppings &amp; Ingredients</td><td style = \"text-align: right;\">45.0</td><td style = \"text-align: right;\">0.0</td><td style = \"text-align: right;\">0.0</td><td style = \"text-align: right;\">0.0</td><td style = \"text-align: right;\">0.0</td><td style = \"text-align: right;\">260.0</td><td style = \"text-align: right;\">11.0</td><td style = \"text-align: right;\">0.0</td><td style = \"text-align: right;\">9.0</td><td style = \"text-align: right;\">0.0</td></tr><tr><td class = \"rowNumber\" style = \"font-weight: bold; text-align: right;\">4</td><td style = \"text-align: left;\">McDonald&apos;s Sweet N Sour Sauce</td><td style = \"text-align: left;\">Toppings &amp; Ingredients</td><td style = \"text-align: right;\">50.0</td><td style = \"text-align: right;\">0.0</td><td style = \"text-align: right;\">0.0</td><td style = \"text-align: right;\">0.0</td><td style = \"text-align: right;\">0.0</td><td style = \"text-align: right;\">160.0</td><td style = \"text-align: right;\">11.0</td><td style = \"text-align: right;\">1.0</td><td style = \"text-align: right;\">9.0</td><td style = \"text-align: right;\">0.0</td></tr><tr><td class = \"rowNumber\" style = \"font-weight: bold; text-align: right;\">5</td><td style = \"text-align: left;\">McDonald&apos;s Hamburger</td><td style = \"text-align: left;\">Burgers</td><td style = \"text-align: right;\">250.0</td><td style = \"text-align: right;\">8.0</td><td style = \"text-align: right;\">3.0</td><td style = \"text-align: right;\">0.0</td><td style = \"text-align: right;\">30.0</td><td style = \"text-align: right;\">480.0</td><td style = \"text-align: right;\">31.0</td><td style = \"text-align: right;\">13.0</td><td style = \"text-align: right;\">6.0</td><td style = \"text-align: right;\">2.0</td></tr><tr><td class = \"rowNumber\" style = \"font-weight: bold; text-align: right;\">6</td><td style = \"text-align: left;\">McDonald&apos;s Cheeseburger</td><td style = \"text-align: left;\">Burgers</td><td style = \"text-align: right;\">300.0</td><td style = \"text-align: right;\">12.0</td><td style = \"text-align: right;\">5.0</td><td style = \"text-align: right;\">0.5</td><td style = \"text-align: right;\">40.0</td><td style = \"text-align: right;\">680.0</td><td style = \"text-align: right;\">33.0</td><td style = \"text-align: right;\">15.0</td><td style = \"text-align: right;\">7.0</td><td style = \"text-align: right;\">2.0</td></tr><tr><td class = \"rowNumber\" style = \"font-weight: bold; text-align: right;\">7</td><td style = \"text-align: left;\">McDonald&apos;s Double Cheeseburger</td><td style = \"text-align: left;\">Burgers</td><td style = \"text-align: right;\">430.0</td><td style = \"text-align: right;\">21.0</td><td style = \"text-align: right;\">11.0</td><td style = \"text-align: right;\">1.0</td><td style = \"text-align: right;\">85.0</td><td style = \"text-align: right;\">1040.0</td><td style = \"text-align: right;\">35.0</td><td style = \"text-align: right;\">25.0</td><td style = \"text-align: right;\">7.0</td><td style = \"text-align: right;\">2.0</td></tr><tr><td class = \"rowNumber\" style = \"font-weight: bold; text-align: right;\">8</td><td style = \"text-align: left;\">McDonald&apos;s Quarter Pounder w/ Cheese</td><td style = \"text-align: left;\">Burgers</td><td style = \"text-align: right;\">530.0</td><td style = \"text-align: right;\">27.0</td><td style = \"text-align: right;\">13.0</td><td style = \"text-align: right;\">1.5</td><td style = \"text-align: right;\">100.0</td><td style = \"text-align: right;\">1090.0</td><td style = \"text-align: right;\">41.0</td><td style = \"text-align: right;\">31.0</td><td style = \"text-align: right;\">10.0</td><td style = \"text-align: right;\">3.0</td></tr><tr><td class = \"rowNumber\" style = \"font-weight: bold; text-align: right;\">9</td><td style = \"text-align: left;\">McDonald&apos;s Big Mac</td><td style = \"text-align: left;\">Burgers</td><td style = \"text-align: right;\">540.0</td><td style = \"text-align: right;\">28.0</td><td style = \"text-align: right;\">10.0</td><td style = \"text-align: right;\">1.0</td><td style = \"text-align: right;\">80.0</td><td style = \"text-align: right;\">950.0</td><td style = \"text-align: right;\">46.0</td><td style = \"text-align: right;\">25.0</td><td style = \"text-align: right;\">9.0</td><td style = \"text-align: right;\">3.0</td></tr><tr><td class = \"rowNumber\" style = \"font-weight: bold; text-align: right;\">10</td><td style = \"text-align: left;\">McDonald&apos;s Double Quarter Pounder w/ Cheese</td><td style = \"text-align: left;\">Burgers</td><td style = \"text-align: right;\">770.0</td><td style = \"text-align: right;\">45.0</td><td style = \"text-align: right;\">21.0</td><td style = \"text-align: right;\">2.5</td><td style = \"text-align: right;\">175.0</td><td style = \"text-align: right;\">1290.0</td><td style = \"text-align: right;\">42.0</td><td style = \"text-align: right;\">51.0</td><td style = \"text-align: right;\">10.0</td><td style = \"text-align: right;\">3.0</td></tr><tr><td class = \"rowNumber\" style = \"font-weight: bold; text-align: right;\">11</td><td style = \"text-align: left;\">McDonald&apos;s McChicken</td><td style = \"text-align: left;\">Sandwiches</td><td style = \"text-align: right;\">350.0</td><td style = \"text-align: right;\">15.0</td><td style = \"text-align: right;\">3.5</td><td style = \"text-align: right;\">0.0</td><td style = \"text-align: right;\">40.0</td><td style = \"text-align: right;\">600.0</td><td style = \"text-align: right;\">40.0</td><td style = \"text-align: right;\">15.0</td><td style = \"text-align: right;\">5.0</td><td style = \"text-align: right;\">2.0</td></tr><tr><td class = \"rowNumber\" style = \"font-weight: bold; text-align: right;\">12</td><td style = \"text-align: left;\">McDonald&apos;s Filet O Fish</td><td style = \"text-align: left;\">Sandwiches</td><td style = \"text-align: right;\">390.0</td><td style = \"text-align: right;\">19.0</td><td style = \"text-align: right;\">4.0</td><td style = \"text-align: right;\">0.0</td><td style = \"text-align: right;\">45.0</td><td style = \"text-align: right;\">560.0</td><td style = \"text-align: right;\">38.0</td><td style = \"text-align: right;\">17.0</td><td style = \"text-align: right;\">5.0</td><td style = \"text-align: right;\">2.0</td></tr><tr><td class = \"rowNumber\" style = \"font-weight: bold; text-align: right;\">13</td><td style = \"text-align: left;\">McDonald&apos;s Sausage Biscuit w/ Egg Large</td><td style = \"text-align: left;\">Sandwiches</td><td style = \"text-align: right;\">530.0</td><td style = \"text-align: right;\">34.0</td><td style = \"text-align: right;\">14.0</td><td style = \"text-align: right;\">0.0</td><td style = \"text-align: right;\">210.0</td><td style = \"text-align: right;\">1160.0</td><td style = \"text-align: right;\">38.0</td><td style = \"text-align: right;\">17.0</td><td style = \"text-align: right;\">3.0</td><td style = \"text-align: right;\">2.0</td></tr><tr><td style = \"text-align: right;\">&vellip;</td><td style = \"text-align: right;\">&vellip;</td><td style = \"text-align: right;\">&vellip;</td><td style = \"text-align: right;\">&vellip;</td><td style = \"text-align: right;\">&vellip;</td><td style = \"text-align: right;\">&vellip;</td><td style = \"text-align: right;\">&vellip;</td><td style = \"text-align: right;\">&vellip;</td><td style = \"text-align: right;\">&vellip;</td><td style = \"text-align: right;\">&vellip;</td><td style = \"text-align: right;\">&vellip;</td><td style = \"text-align: right;\">&vellip;</td><td style = \"text-align: right;\">&vellip;</td></tr><tr><td class = \"rowNumber\" style = \"font-weight: bold; text-align: right;\">432</td><td style = \"text-align: left;\">McDonald&apos;s Filet O Fish</td><td style = \"text-align: left;\">Sandwiches</td><td style = \"text-align: right;\">410.0</td><td style = \"text-align: right;\">20.0</td><td style = \"text-align: right;\">5.0</td><td style = \"text-align: right;\">0.0</td><td style = \"text-align: right;\">50.0</td><td style = \"text-align: right;\">660.0</td><td style = \"text-align: right;\">39.0</td><td style = \"text-align: right;\">18.0</td><td style = \"text-align: right;\">5.0</td><td style = \"text-align: right;\">2.0</td></tr><tr><td class = \"rowNumber\" style = \"font-weight: bold; text-align: right;\">433</td><td style = \"text-align: left;\">McDonald&apos;s Extra Value Meal w/ Egg McMuffin</td><td style = \"text-align: left;\">Entrees</td><td style = \"text-align: right;\">450.0</td><td style = \"text-align: right;\">21.0</td><td style = \"text-align: right;\">7.0</td><td style = \"text-align: right;\">0.0</td><td style = \"text-align: right;\">245.0</td><td style = \"text-align: right;\">1070.0</td><td style = \"text-align: right;\">47.0</td><td style = \"text-align: right;\">21.0</td><td style = \"text-align: right;\">3.0</td><td style = \"text-align: right;\">3.0</td></tr><tr><td class = \"rowNumber\" style = \"font-weight: bold; text-align: right;\">434</td><td style = \"text-align: left;\">McDonald&apos;s McCafe Cappuccino w/ Whole Milk Small</td><td style = \"text-align: left;\">Beverages</td><td style = \"text-align: right;\">120.0</td><td style = \"text-align: right;\">6.0</td><td style = \"text-align: right;\">3.5</td><td style = \"text-align: right;\">0.0</td><td style = \"text-align: right;\">20.0</td><td style = \"text-align: right;\">80.0</td><td style = \"text-align: right;\">9.0</td><td style = \"text-align: right;\">6.0</td><td style = \"text-align: right;\">9.0</td><td style = \"text-align: right;\">0.0</td></tr><tr><td class = \"rowNumber\" style = \"font-weight: bold; text-align: right;\">435</td><td style = \"text-align: left;\">McDonald&apos;s Coca Cola Large</td><td style = \"text-align: left;\">Beverages</td><td style = \"text-align: right;\">290.0</td><td style = \"text-align: right;\">0.0</td><td style = \"text-align: right;\">0.0</td><td style = \"text-align: right;\">0.0</td><td style = \"text-align: right;\">0.0</td><td style = \"text-align: right;\">70.0</td><td style = \"text-align: right;\">77.0</td><td style = \"text-align: right;\">0.0</td><td style = \"text-align: right;\">77.0</td><td style = \"text-align: right;\">0.0</td></tr><tr><td class = \"rowNumber\" style = \"font-weight: bold; text-align: right;\">436</td><td style = \"text-align: left;\">McDonald&apos;s McCafe French Vanilla Iced Coffee w/ Light Cream Large</td><td style = \"text-align: left;\">Beverages</td><td style = \"text-align: right;\">220.0</td><td style = \"text-align: right;\">7.0</td><td style = \"text-align: right;\">4.5</td><td style = \"text-align: right;\">0.0</td><td style = \"text-align: right;\">30.0</td><td style = \"text-align: right;\">85.0</td><td style = \"text-align: right;\">40.0</td><td style = \"text-align: right;\">3.0</td><td style = \"text-align: right;\">37.0</td><td style = \"text-align: right;\">0.0</td></tr><tr><td class = \"rowNumber\" style = \"font-weight: bold; text-align: right;\">437</td><td style = \"text-align: left;\">McDonald&apos;s Extra Value Meal w/ 4 Pc Nuggets Medium Coke &amp; Medium Fries</td><td style = \"text-align: left;\">Entrees</td><td style = \"text-align: right;\">730.0</td><td style = \"text-align: right;\">27.0</td><td style = \"text-align: right;\">4.0</td><td style = \"text-align: right;\">0.0</td><td style = \"text-align: right;\">30.0</td><td style = \"text-align: right;\">620.0</td><td style = \"text-align: right;\">111.0</td><td style = \"text-align: right;\">14.0</td><td style = \"text-align: right;\">57.0</td><td style = \"text-align: right;\">5.0</td></tr><tr><td class = \"rowNumber\" style = \"font-weight: bold; text-align: right;\">438</td><td style = \"text-align: left;\">McDonald&apos;s McCafe Caramel Frappe Large</td><td style = \"text-align: left;\">Beverages</td><td style = \"text-align: right;\">670.0</td><td style = \"text-align: right;\">27.0</td><td style = \"text-align: right;\">17.0</td><td style = \"text-align: right;\">1.0</td><td style = \"text-align: right;\">95.0</td><td style = \"text-align: right;\">200.0</td><td style = \"text-align: right;\">96.0</td><td style = \"text-align: right;\">11.0</td><td style = \"text-align: right;\">89.0</td><td style = \"text-align: right;\">0.0</td></tr><tr><td class = \"rowNumber\" style = \"font-weight: bold; text-align: right;\">439</td><td style = \"text-align: left;\">McDonald&apos;s McCafe Frappe Chocolate Chip Small</td><td style = \"text-align: left;\">Beverages</td><td style = \"text-align: right;\">500.0</td><td style = \"text-align: right;\">22.0</td><td style = \"text-align: right;\">14.0</td><td style = \"text-align: right;\">1.0</td><td style = \"text-align: right;\">65.0</td><td style = \"text-align: right;\">130.0</td><td style = \"text-align: right;\">72.0</td><td style = \"text-align: right;\">8.0</td><td style = \"text-align: right;\">64.0</td><td style = \"text-align: right;\">1.0</td></tr><tr><td class = \"rowNumber\" style = \"font-weight: bold; text-align: right;\">440</td><td style = \"text-align: left;\">McDonald&apos;s Powerade Mountain Berry Blast Extra Small</td><td style = \"text-align: left;\">Beverages</td><td style = \"text-align: right;\">90.0</td><td style = \"text-align: right;\">0.0</td><td style = \"text-align: right;\">0.0</td><td style = \"text-align: right;\">0.0</td><td style = \"text-align: right;\">0.0</td><td style = \"text-align: right;\">110.0</td><td style = \"text-align: right;\">22.0</td><td style = \"text-align: right;\">0.0</td><td style = \"text-align: right;\">22.0</td><td style = \"text-align: right;\">0.0</td></tr><tr><td class = \"rowNumber\" style = \"font-weight: bold; text-align: right;\">441</td><td style = \"text-align: left;\">McDonald&apos;s Sausage Biscuit</td><td style = \"text-align: left;\">Sandwiches</td><td style = \"text-align: right;\">460.0</td><td style = \"text-align: right;\">30.0</td><td style = \"text-align: right;\">13.0</td><td style = \"text-align: right;\">0.0</td><td style = \"text-align: right;\">40.0</td><td style = \"text-align: right;\">1050.0</td><td style = \"text-align: right;\">36.0</td><td style = \"text-align: right;\">11.0</td><td style = \"text-align: right;\">3.0</td><td style = \"text-align: right;\">2.0</td></tr><tr><td class = \"rowNumber\" style = \"font-weight: bold; text-align: right;\">442</td><td style = \"text-align: left;\">McDonald&apos;s Bacon Egg &amp; Cheese Biscuit</td><td style = \"text-align: left;\">Sandwiches</td><td style = \"text-align: right;\">450.0</td><td style = \"text-align: right;\">24.0</td><td style = \"text-align: right;\">12.0</td><td style = \"text-align: right;\">0.0</td><td style = \"text-align: right;\">200.0</td><td style = \"text-align: right;\">1290.0</td><td style = \"text-align: right;\">40.0</td><td style = \"text-align: right;\">18.0</td><td style = \"text-align: right;\">3.0</td><td style = \"text-align: right;\">3.0</td></tr><tr><td class = \"rowNumber\" style = \"font-weight: bold; text-align: right;\">443</td><td style = \"text-align: left;\">McDonald&apos;s Steak Egg &amp; Cheese Biscuit</td><td style = \"text-align: left;\">Sandwiches</td><td style = \"text-align: right;\">530.0</td><td style = \"text-align: right;\">30.0</td><td style = \"text-align: right;\">15.0</td><td style = \"text-align: right;\">1.0</td><td style = \"text-align: right;\">230.0</td><td style = \"text-align: right;\">1490.0</td><td style = \"text-align: right;\">40.0</td><td style = \"text-align: right;\">25.0</td><td style = \"text-align: right;\">4.0</td><td style = \"text-align: right;\">3.0</td></tr></tbody></table></div>"
      ],
      "text/latex": [
       "\\begin{tabular}{r|ccc}\n",
       "\t& Restaurant\\_Item\\_Name & Food\\_Category & \\\\\n",
       "\t\\hline\n",
       "\t& String & String31 & \\\\\n",
       "\t\\hline\n",
       "\t1 & McDonald's Dr Pepper Large & Beverages & $\\dots$ \\\\\n",
       "\t2 & McDonald's Dr Pepper Medium & Beverages & $\\dots$ \\\\\n",
       "\t3 & McDonald's Tangy Barbeque Sauce & Toppings \\& Ingredients & $\\dots$ \\\\\n",
       "\t4 & McDonald's Sweet N Sour Sauce & Toppings \\& Ingredients & $\\dots$ \\\\\n",
       "\t5 & McDonald's Hamburger & Burgers & $\\dots$ \\\\\n",
       "\t6 & McDonald's Cheeseburger & Burgers & $\\dots$ \\\\\n",
       "\t7 & McDonald's Double Cheeseburger & Burgers & $\\dots$ \\\\\n",
       "\t8 & McDonald's Quarter Pounder w/ Cheese & Burgers & $\\dots$ \\\\\n",
       "\t9 & McDonald's Big Mac & Burgers & $\\dots$ \\\\\n",
       "\t10 & McDonald's Double Quarter Pounder w/ Cheese & Burgers & $\\dots$ \\\\\n",
       "\t11 & McDonald's McChicken & Sandwiches & $\\dots$ \\\\\n",
       "\t12 & McDonald's Filet O Fish & Sandwiches & $\\dots$ \\\\\n",
       "\t13 & McDonald's Sausage Biscuit w/ Egg Large & Sandwiches & $\\dots$ \\\\\n",
       "\t14 & McDonald's Egg McMuffin & Sandwiches & $\\dots$ \\\\\n",
       "\t15 & McDonald's Sausage McMuffin & Sandwiches & $\\dots$ \\\\\n",
       "\t16 & McDonald's Sausage McMuffin w/ Egg & Sandwiches & $\\dots$ \\\\\n",
       "\t17 & McDonald's Bacon Egg \\& Cheese Regular & Sandwiches & $\\dots$ \\\\\n",
       "\t18 & McDonald's Bacon Egg \\& Cheese on Scratch Biscuit Large & Sandwiches & $\\dots$ \\\\\n",
       "\t19 & McDonald's Sausage Biscuit w/ Egg Regular & Sandwiches & $\\dots$ \\\\\n",
       "\t20 & McDonald's Sausage Biscuit Regular & Sandwiches & $\\dots$ \\\\\n",
       "\t21 & McDonald's Sausage Biscuit on Scratch Biscuit Large & Sandwiches & $\\dots$ \\\\\n",
       "\t22 & McDonald's Sausage Burrito & Sandwiches & $\\dots$ \\\\\n",
       "\t23 & McDonald's 4 Chicken McNuggets & Entrees & $\\dots$ \\\\\n",
       "\t24 & McDonald's 6 Chicken McNuggets & Entrees & $\\dots$ \\\\\n",
       "\t25 & McDonald's 10 Chicken McNuggets & Entrees & $\\dots$ \\\\\n",
       "\t26 & McDonald's French Fries Small & Fried Potatoes & $\\dots$ \\\\\n",
       "\t27 & McDonald's French Fries Medium & Fried Potatoes & $\\dots$ \\\\\n",
       "\t28 & McDonald's French Fries Large & Fried Potatoes & $\\dots$ \\\\\n",
       "\t29 & McDonald's Bacon Ranch Salad w/ Grilled Chicken & Salads & $\\dots$ \\\\\n",
       "\t30 & McDonald's Bacon Ranch Salad w/ Buttermilk Crispy Chicken & Salads & $\\dots$ \\\\\n",
       "\t$\\dots$ & $\\dots$ & $\\dots$ &  \\\\\n",
       "\\end{tabular}\n"
      ],
      "text/plain": [
       "\u001b[1m443×12 DataFrame\u001b[0m\n",
       "\u001b[1m Row \u001b[0m│\u001b[1m Restaurant_Item_Name              \u001b[0m\u001b[1m Food_Category          \u001b[0m\u001b[1m Calories \u001b[0m\u001b[1m To\u001b[0m ⋯\n",
       "     │\u001b[90m String                            \u001b[0m\u001b[90m String31               \u001b[0m\u001b[90m Float64  \u001b[0m\u001b[90m Fl\u001b[0m ⋯\n",
       "─────┼──────────────────────────────────────────────────────────────────────────\n",
       "   1 │ McDonald's Dr Pepper Large         Beverages                  290.0     ⋯\n",
       "   2 │ McDonald's Dr Pepper Medium        Beverages                  210.0\n",
       "   3 │ McDonald's Tangy Barbeque Sauce    Toppings & Ingredients      45.0\n",
       "   4 │ McDonald's Sweet N Sour Sauce      Toppings & Ingredients      50.0\n",
       "   5 │ McDonald's Hamburger               Burgers                    250.0     ⋯\n",
       "   6 │ McDonald's Cheeseburger            Burgers                    300.0\n",
       "   7 │ McDonald's Double Cheeseburger     Burgers                    430.0\n",
       "   8 │ McDonald's Quarter Pounder w/ Ch…  Burgers                    530.0\n",
       "   9 │ McDonald's Big Mac                 Burgers                    540.0     ⋯\n",
       "  10 │ McDonald's Double Quarter Pounde…  Burgers                    770.0\n",
       "  11 │ McDonald's McChicken               Sandwiches                 350.0\n",
       "  ⋮  │                 ⋮                            ⋮                ⋮         ⋱\n",
       " 434 │ McDonald's McCafe Cappuccino w/ …  Beverages                  120.0\n",
       " 435 │ McDonald's Coca Cola Large         Beverages                  290.0     ⋯\n",
       " 436 │ McDonald's McCafe French Vanilla…  Beverages                  220.0\n",
       " 437 │ McDonald's Extra Value Meal w/ 4…  Entrees                    730.0\n",
       " 438 │ McDonald's McCafe Caramel Frappe…  Beverages                  670.0\n",
       " 439 │ McDonald's McCafe Frappe Chocola…  Beverages                  500.0     ⋯\n",
       " 440 │ McDonald's Powerade Mountain Ber…  Beverages                   90.0\n",
       " 441 │ McDonald's Sausage Biscuit         Sandwiches                 460.0\n",
       " 442 │ McDonald's Bacon Egg & Cheese Bi…  Sandwiches                 450.0\n",
       " 443 │ McDonald's Steak Egg & Cheese Bi…  Sandwiches                 530.0     ⋯\n",
       "\u001b[36m                                                  9 columns and 422 rows omitted\u001b[0m"
      ]
     },
     "execution_count": 43,
     "metadata": {},
     "output_type": "execute_result"
    }
   ],
   "source": [
    "# Rename Dietary_Fiber column to match name in nutrient_limits\n",
    "\n",
    "rename!(df_mcdonalds_menu, :Dietary_Fiber => :Fiber)"
   ]
  },
  {
   "cell_type": "markdown",
   "id": "cc1b450d",
   "metadata": {},
   "source": [
    "### Convert categorical data to the CategoricalArray data type"
   ]
  },
  {
   "cell_type": "code",
   "execution_count": 44,
   "id": "aabff423",
   "metadata": {},
   "outputs": [
    {
     "data": {
      "text/plain": [
       "9-element Vector{Int64}:\n",
       " 8\n",
       " 5\n",
       " 9\n",
       " 2\n",
       " 6\n",
       " 1\n",
       " 4\n",
       " 7\n",
       " 3"
      ]
     },
     "execution_count": 44,
     "metadata": {},
     "output_type": "execute_result"
    }
   ],
   "source": [
    "df_mcdonalds_menu.Restaurant_Item_Name = categorical(df_mcdonalds_menu.Restaurant_Item_Name)\n",
    "df_mcdonalds_menu.Food_Category = categorical(df_mcdonalds_menu.Food_Category)\n",
    "\n",
    "df_nutrient_limits.Nutrient = categorical(df_nutrient_limits.Nutrient)\n",
    "\n",
    "# Add numeric versions\n",
    "df_mcdonalds_menu.Restaurant_Item_Name_Num = levelcode.(df_mcdonalds_menu.Restaurant_Item_Name)\n",
    "df_mcdonalds_menu.Food_Category_Num = levelcode.(df_mcdonalds_menu.Food_Category)\n",
    "\n",
    "df_nutrient_limits.Nutrient_Num = levelcode.(df_nutrient_limits.Nutrient)\n"
   ]
  },
  {
   "cell_type": "markdown",
   "id": "b5ad54ea",
   "metadata": {},
   "source": [
    "### Fill in missing data"
   ]
  },
  {
   "cell_type": "code",
   "execution_count": 45,
   "id": "dfdd3ada",
   "metadata": {},
   "outputs": [
    {
     "data": {
      "text/plain": [
       "9-element Vector{Int64}:\n",
       "  70\n",
       "  20\n",
       "   0\n",
       "   0\n",
       "   0\n",
       " 225\n",
       "  50\n",
       "   0\n",
       "  25"
      ]
     },
     "execution_count": 45,
     "metadata": {},
     "output_type": "execute_result"
    }
   ],
   "source": [
    "df_nutrient_limits.Lower_Limit = coalesce.(df_nutrient_limits.Lower_Limit, 0)"
   ]
  },
  {
   "cell_type": "markdown",
   "id": "e8ede8e4",
   "metadata": {},
   "source": [
    "## Applying Linear Optimization "
   ]
  },
  {
   "cell_type": "code",
   "execution_count": 77,
   "id": "f13b2646",
   "metadata": {
    "collapsed": true
   },
   "outputs": [
    {
     "data": {
      "text/html": [
       "<div><div style = \"float: left;\"><span>331×14 DataFrame</span></div><div style = \"float: right;\"><span style = \"font-style: italic;\">306 rows omitted</span></div><div style = \"clear: both;\"></div></div><div class = \"data-frame\" style = \"overflow-x: scroll;\"><table class = \"data-frame\" style = \"margin-bottom: 6px;\"><thead><tr class = \"header\"><th class = \"rowNumber\" style = \"font-weight: bold; text-align: right;\">Row</th><th style = \"text-align: left;\">Restaurant_Item_Name</th><th style = \"text-align: left;\">Food_Category</th><th style = \"text-align: left;\">Calories</th><th style = \"text-align: left;\">Total_Fat</th><th style = \"text-align: left;\">Saturated_Fat</th><th style = \"text-align: left;\">Trans_Fat</th><th style = \"text-align: left;\">Cholesterol</th><th style = \"text-align: left;\">Sodium</th><th style = \"text-align: left;\">Carbohydrates</th><th style = \"text-align: left;\">Protein</th><th style = \"text-align: left;\">Sugar</th><th style = \"text-align: left;\">Fiber</th><th style = \"text-align: left;\">Restaurant_Item_Name_Num</th><th style = \"text-align: left;\">Food_Category_Num</th></tr><tr class = \"subheader headerLastRow\"><th class = \"rowNumber\" style = \"font-weight: bold; text-align: right;\"></th><th title = \"CategoricalValue{String, UInt32}\" style = \"text-align: left;\">Cat…</th><th title = \"CategoricalValue{String31, UInt32}\" style = \"text-align: left;\">Cat…</th><th title = \"Float64\" style = \"text-align: left;\">Float64</th><th title = \"Float64\" style = \"text-align: left;\">Float64</th><th title = \"Float64\" style = \"text-align: left;\">Float64</th><th title = \"Float64\" style = \"text-align: left;\">Float64</th><th title = \"Float64\" style = \"text-align: left;\">Float64</th><th title = \"Float64\" style = \"text-align: left;\">Float64</th><th title = \"Float64\" style = \"text-align: left;\">Float64</th><th title = \"Float64\" style = \"text-align: left;\">Float64</th><th title = \"Float64\" style = \"text-align: left;\">Float64</th><th title = \"Float64\" style = \"text-align: left;\">Float64</th><th title = \"Int64\" style = \"text-align: left;\">Int64</th><th title = \"Int64\" style = \"text-align: left;\">Int64</th></tr></thead><tbody><tr><td class = \"rowNumber\" style = \"font-weight: bold; text-align: right;\">1</td><td style = \"text-align: left;\">McDonald&apos;s Dr Pepper Large</td><td style = \"text-align: left;\">Beverages</td><td style = \"text-align: right;\">290.0</td><td style = \"text-align: right;\">0.0</td><td style = \"text-align: right;\">0.0</td><td style = \"text-align: right;\">0.0</td><td style = \"text-align: right;\">0.0</td><td style = \"text-align: right;\">95.0</td><td style = \"text-align: right;\">79.0</td><td style = \"text-align: right;\">0.0</td><td style = \"text-align: right;\">78.0</td><td style = \"text-align: right;\">0.0</td><td style = \"text-align: right;\">45</td><td style = \"text-align: right;\">2</td></tr><tr><td class = \"rowNumber\" style = \"font-weight: bold; text-align: right;\">2</td><td style = \"text-align: left;\">McDonald&apos;s Dr Pepper Medium</td><td style = \"text-align: left;\">Beverages</td><td style = \"text-align: right;\">210.0</td><td style = \"text-align: right;\">0.0</td><td style = \"text-align: right;\">0.0</td><td style = \"text-align: right;\">0.0</td><td style = \"text-align: right;\">0.0</td><td style = \"text-align: right;\">70.0</td><td style = \"text-align: right;\">58.0</td><td style = \"text-align: right;\">0.0</td><td style = \"text-align: right;\">57.0</td><td style = \"text-align: right;\">0.0</td><td style = \"text-align: right;\">46</td><td style = \"text-align: right;\">2</td></tr><tr><td class = \"rowNumber\" style = \"font-weight: bold; text-align: right;\">3</td><td style = \"text-align: left;\">McDonald&apos;s Tangy Barbeque Sauce</td><td style = \"text-align: left;\">Toppings &amp; Ingredients</td><td style = \"text-align: right;\">45.0</td><td style = \"text-align: right;\">0.0</td><td style = \"text-align: right;\">0.0</td><td style = \"text-align: right;\">0.0</td><td style = \"text-align: right;\">0.0</td><td style = \"text-align: right;\">260.0</td><td style = \"text-align: right;\">11.0</td><td style = \"text-align: right;\">0.0</td><td style = \"text-align: right;\">9.0</td><td style = \"text-align: right;\">0.0</td><td style = \"text-align: right;\">391</td><td style = \"text-align: right;\">9</td></tr><tr><td class = \"rowNumber\" style = \"font-weight: bold; text-align: right;\">4</td><td style = \"text-align: left;\">McDonald&apos;s Sweet N Sour Sauce</td><td style = \"text-align: left;\">Toppings &amp; Ingredients</td><td style = \"text-align: right;\">50.0</td><td style = \"text-align: right;\">0.0</td><td style = \"text-align: right;\">0.0</td><td style = \"text-align: right;\">0.0</td><td style = \"text-align: right;\">0.0</td><td style = \"text-align: right;\">160.0</td><td style = \"text-align: right;\">11.0</td><td style = \"text-align: right;\">1.0</td><td style = \"text-align: right;\">9.0</td><td style = \"text-align: right;\">0.0</td><td style = \"text-align: right;\">386</td><td style = \"text-align: right;\">9</td></tr><tr><td class = \"rowNumber\" style = \"font-weight: bold; text-align: right;\">5</td><td style = \"text-align: left;\">McDonald&apos;s French Fries Small</td><td style = \"text-align: left;\">Fried Potatoes</td><td style = \"text-align: right;\">230.0</td><td style = \"text-align: right;\">11.0</td><td style = \"text-align: right;\">1.5</td><td style = \"text-align: right;\">0.0</td><td style = \"text-align: right;\">0.0</td><td style = \"text-align: right;\">160.0</td><td style = \"text-align: right;\">29.0</td><td style = \"text-align: right;\">3.0</td><td style = \"text-align: right;\">0.0</td><td style = \"text-align: right;\">3.0</td><td style = \"text-align: right;\">97</td><td style = \"text-align: right;\">6</td></tr><tr><td class = \"rowNumber\" style = \"font-weight: bold; text-align: right;\">6</td><td style = \"text-align: left;\">McDonald&apos;s French Fries Medium</td><td style = \"text-align: left;\">Fried Potatoes</td><td style = \"text-align: right;\">340.0</td><td style = \"text-align: right;\">16.0</td><td style = \"text-align: right;\">2.0</td><td style = \"text-align: right;\">0.0</td><td style = \"text-align: right;\">0.0</td><td style = \"text-align: right;\">230.0</td><td style = \"text-align: right;\">44.0</td><td style = \"text-align: right;\">4.0</td><td style = \"text-align: right;\">0.0</td><td style = \"text-align: right;\">4.0</td><td style = \"text-align: right;\">96</td><td style = \"text-align: right;\">6</td></tr><tr><td class = \"rowNumber\" style = \"font-weight: bold; text-align: right;\">7</td><td style = \"text-align: left;\">McDonald&apos;s French Fries Large</td><td style = \"text-align: left;\">Fried Potatoes</td><td style = \"text-align: right;\">510.0</td><td style = \"text-align: right;\">24.0</td><td style = \"text-align: right;\">3.5</td><td style = \"text-align: right;\">0.0</td><td style = \"text-align: right;\">0.0</td><td style = \"text-align: right;\">350.0</td><td style = \"text-align: right;\">66.0</td><td style = \"text-align: right;\">7.0</td><td style = \"text-align: right;\">0.0</td><td style = \"text-align: right;\">6.0</td><td style = \"text-align: right;\">95</td><td style = \"text-align: right;\">6</td></tr><tr><td class = \"rowNumber\" style = \"font-weight: bold; text-align: right;\">8</td><td style = \"text-align: left;\">McDonald&apos;s Bacon Ranch Salad w/ Grilled Chicken</td><td style = \"text-align: left;\">Salads</td><td style = \"text-align: right;\">320.0</td><td style = \"text-align: right;\">14.0</td><td style = \"text-align: right;\">6.0</td><td style = \"text-align: right;\">0.0</td><td style = \"text-align: right;\">135.0</td><td style = \"text-align: right;\">1090.0</td><td style = \"text-align: right;\">9.0</td><td style = \"text-align: right;\">42.0</td><td style = \"text-align: right;\">4.0</td><td style = \"text-align: right;\">3.0</td><td style = \"text-align: right;\">23</td><td style = \"text-align: right;\">7</td></tr><tr><td class = \"rowNumber\" style = \"font-weight: bold; text-align: right;\">9</td><td style = \"text-align: left;\">McDonald&apos;s Bacon Ranch Salad w/ Buttermilk Crispy Chicken</td><td style = \"text-align: left;\">Salads</td><td style = \"text-align: right;\">490.0</td><td style = \"text-align: right;\">28.0</td><td style = \"text-align: right;\">8.0</td><td style = \"text-align: right;\">0.0</td><td style = \"text-align: right;\">95.0</td><td style = \"text-align: right;\">1120.0</td><td style = \"text-align: right;\">28.0</td><td style = \"text-align: right;\">33.0</td><td style = \"text-align: right;\">4.0</td><td style = \"text-align: right;\">4.0</td><td style = \"text-align: right;\">22</td><td style = \"text-align: right;\">7</td></tr><tr><td class = \"rowNumber\" style = \"font-weight: bold; text-align: right;\">10</td><td style = \"text-align: left;\">McDonald&apos;s Southwest Salad w/ Grilled Chicken</td><td style = \"text-align: left;\">Salads</td><td style = \"text-align: right;\">350.0</td><td style = \"text-align: right;\">12.0</td><td style = \"text-align: right;\">4.5</td><td style = \"text-align: right;\">0.0</td><td style = \"text-align: right;\">110.0</td><td style = \"text-align: right;\">930.0</td><td style = \"text-align: right;\">27.0</td><td style = \"text-align: right;\">37.0</td><td style = \"text-align: right;\">9.0</td><td style = \"text-align: right;\">6.0</td><td style = \"text-align: right;\">371</td><td style = \"text-align: right;\">7</td></tr><tr><td class = \"rowNumber\" style = \"font-weight: bold; text-align: right;\">11</td><td style = \"text-align: left;\">McDonald&apos;s Southwest Salad w/ Buttermilk Crispy Chicken</td><td style = \"text-align: left;\">Salads</td><td style = \"text-align: right;\">520.0</td><td style = \"text-align: right;\">25.0</td><td style = \"text-align: right;\">6.0</td><td style = \"text-align: right;\">0.0</td><td style = \"text-align: right;\">75.0</td><td style = \"text-align: right;\">960.0</td><td style = \"text-align: right;\">46.0</td><td style = \"text-align: right;\">28.0</td><td style = \"text-align: right;\">9.0</td><td style = \"text-align: right;\">8.0</td><td style = \"text-align: right;\">370</td><td style = \"text-align: right;\">7</td></tr><tr><td class = \"rowNumber\" style = \"font-weight: bold; text-align: right;\">12</td><td style = \"text-align: left;\">McDonald&apos;s Newman&apos;s Own Creamy Southwest Dressing</td><td style = \"text-align: left;\">Toppings &amp; Ingredients</td><td style = \"text-align: right;\">120.0</td><td style = \"text-align: right;\">8.0</td><td style = \"text-align: right;\">1.5</td><td style = \"text-align: right;\">0.0</td><td style = \"text-align: right;\">20.0</td><td style = \"text-align: right;\">300.0</td><td style = \"text-align: right;\">11.0</td><td style = \"text-align: right;\">1.0</td><td style = \"text-align: right;\">3.0</td><td style = \"text-align: right;\">0.0</td><td style = \"text-align: right;\">339</td><td style = \"text-align: right;\">9</td></tr><tr><td class = \"rowNumber\" style = \"font-weight: bold; text-align: right;\">13</td><td style = \"text-align: left;\">McDonald&apos;s Newman&apos;s Own Low Fat Balsamic Vinaigrette</td><td style = \"text-align: left;\">Toppings &amp; Ingredients</td><td style = \"text-align: right;\">35.0</td><td style = \"text-align: right;\">1.5</td><td style = \"text-align: right;\">0.0</td><td style = \"text-align: right;\">0.0</td><td style = \"text-align: right;\">0.0</td><td style = \"text-align: right;\">400.0</td><td style = \"text-align: right;\">5.0</td><td style = \"text-align: right;\">0.0</td><td style = \"text-align: right;\">3.0</td><td style = \"text-align: right;\">0.0</td><td style = \"text-align: right;\">340</td><td style = \"text-align: right;\">9</td></tr><tr><td style = \"text-align: right;\">&vellip;</td><td style = \"text-align: right;\">&vellip;</td><td style = \"text-align: right;\">&vellip;</td><td style = \"text-align: right;\">&vellip;</td><td style = \"text-align: right;\">&vellip;</td><td style = \"text-align: right;\">&vellip;</td><td style = \"text-align: right;\">&vellip;</td><td style = \"text-align: right;\">&vellip;</td><td style = \"text-align: right;\">&vellip;</td><td style = \"text-align: right;\">&vellip;</td><td style = \"text-align: right;\">&vellip;</td><td style = \"text-align: right;\">&vellip;</td><td style = \"text-align: right;\">&vellip;</td><td style = \"text-align: right;\">&vellip;</td><td style = \"text-align: right;\">&vellip;</td></tr><tr><td class = \"rowNumber\" style = \"font-weight: bold; text-align: right;\">320</td><td style = \"text-align: left;\">McDonald&apos;s Mayonnaise</td><td style = \"text-align: left;\">Toppings &amp; Ingredients</td><td style = \"text-align: right;\">90.0</td><td style = \"text-align: right;\">10.0</td><td style = \"text-align: right;\">1.5</td><td style = \"text-align: right;\">0.0</td><td style = \"text-align: right;\">0.0</td><td style = \"text-align: right;\">65.0</td><td style = \"text-align: right;\">0.0</td><td style = \"text-align: right;\">0.0</td><td style = \"text-align: right;\">0.0</td><td style = \"text-align: right;\">0.0</td><td style = \"text-align: right;\">126</td><td style = \"text-align: right;\">9</td></tr><tr><td class = \"rowNumber\" style = \"font-weight: bold; text-align: right;\">321</td><td style = \"text-align: left;\">McDonald&apos;s Tangy Barbeque Sauce</td><td style = \"text-align: left;\">Toppings &amp; Ingredients</td><td style = \"text-align: right;\">45.0</td><td style = \"text-align: right;\">0.0</td><td style = \"text-align: right;\">0.0</td><td style = \"text-align: right;\">0.0</td><td style = \"text-align: right;\">0.0</td><td style = \"text-align: right;\">250.0</td><td style = \"text-align: right;\">11.0</td><td style = \"text-align: right;\">0.0</td><td style = \"text-align: right;\">9.0</td><td style = \"text-align: right;\">0.0</td><td style = \"text-align: right;\">391</td><td style = \"text-align: right;\">9</td></tr><tr><td class = \"rowNumber\" style = \"font-weight: bold; text-align: right;\">322</td><td style = \"text-align: left;\">McDonald&apos;s McCafe Frappe Chocolate Chip Medium</td><td style = \"text-align: left;\">Beverages</td><td style = \"text-align: right;\">590.0</td><td style = \"text-align: right;\">33.0</td><td style = \"text-align: right;\">15.0</td><td style = \"text-align: right;\">1.5</td><td style = \"text-align: right;\">110.0</td><td style = \"text-align: right;\">960.0</td><td style = \"text-align: right;\">37.0</td><td style = \"text-align: right;\">37.0</td><td style = \"text-align: right;\">7.0</td><td style = \"text-align: right;\">2.0</td><td style = \"text-align: right;\">176</td><td style = \"text-align: right;\">2</td></tr><tr><td class = \"rowNumber\" style = \"font-weight: bold; text-align: right;\">323</td><td style = \"text-align: left;\">McDonald&apos;s McCafe French Vanilla Cappuccino w/ Whole Milk Small</td><td style = \"text-align: left;\">Beverages</td><td style = \"text-align: right;\">190.0</td><td style = \"text-align: right;\">5.0</td><td style = \"text-align: right;\">3.0</td><td style = \"text-align: right;\">0.0</td><td style = \"text-align: right;\">15.0</td><td style = \"text-align: right;\">70.0</td><td style = \"text-align: right;\">30.0</td><td style = \"text-align: right;\">6.0</td><td style = \"text-align: right;\">29.0</td><td style = \"text-align: right;\">0.0</td><td style = \"text-align: right;\">186</td><td style = \"text-align: right;\">2</td></tr><tr><td class = \"rowNumber\" style = \"font-weight: bold; text-align: right;\">324</td><td style = \"text-align: left;\">McDonald&apos;s McCafe Chocolate Shake Large</td><td style = \"text-align: left;\">Beverages</td><td style = \"text-align: right;\">850.0</td><td style = \"text-align: right;\">23.0</td><td style = \"text-align: right;\">14.0</td><td style = \"text-align: right;\">1.0</td><td style = \"text-align: right;\">90.0</td><td style = \"text-align: right;\">420.0</td><td style = \"text-align: right;\">110.0</td><td style = \"text-align: right;\">19.0</td><td style = \"text-align: right;\">122.0</td><td style = \"text-align: right;\">1.0</td><td style = \"text-align: right;\">162</td><td style = \"text-align: right;\">2</td></tr><tr><td class = \"rowNumber\" style = \"font-weight: bold; text-align: right;\">325</td><td style = \"text-align: left;\">McDonald&apos;s McCafe Mocha Frappe Large</td><td style = \"text-align: left;\">Beverages</td><td style = \"text-align: right;\">670.0</td><td style = \"text-align: right;\">26.0</td><td style = \"text-align: right;\">17.0</td><td style = \"text-align: right;\">1.0</td><td style = \"text-align: right;\">90.0</td><td style = \"text-align: right;\">190.0</td><td style = \"text-align: right;\">97.0</td><td style = \"text-align: right;\">11.0</td><td style = \"text-align: right;\">88.0</td><td style = \"text-align: right;\">1.0</td><td style = \"text-align: right;\">288</td><td style = \"text-align: right;\">2</td></tr><tr><td class = \"rowNumber\" style = \"font-weight: bold; text-align: right;\">326</td><td style = \"text-align: left;\">McDonald&apos;s McCafe Cappuccino w/ Whole Milk Small</td><td style = \"text-align: left;\">Beverages</td><td style = \"text-align: right;\">120.0</td><td style = \"text-align: right;\">6.0</td><td style = \"text-align: right;\">3.5</td><td style = \"text-align: right;\">0.0</td><td style = \"text-align: right;\">20.0</td><td style = \"text-align: right;\">80.0</td><td style = \"text-align: right;\">9.0</td><td style = \"text-align: right;\">6.0</td><td style = \"text-align: right;\">9.0</td><td style = \"text-align: right;\">0.0</td><td style = \"text-align: right;\">129</td><td style = \"text-align: right;\">2</td></tr><tr><td class = \"rowNumber\" style = \"font-weight: bold; text-align: right;\">327</td><td style = \"text-align: left;\">McDonald&apos;s Coca Cola Large</td><td style = \"text-align: left;\">Beverages</td><td style = \"text-align: right;\">290.0</td><td style = \"text-align: right;\">0.0</td><td style = \"text-align: right;\">0.0</td><td style = \"text-align: right;\">0.0</td><td style = \"text-align: right;\">0.0</td><td style = \"text-align: right;\">70.0</td><td style = \"text-align: right;\">77.0</td><td style = \"text-align: right;\">0.0</td><td style = \"text-align: right;\">77.0</td><td style = \"text-align: right;\">0.0</td><td style = \"text-align: right;\">36</td><td style = \"text-align: right;\">2</td></tr><tr><td class = \"rowNumber\" style = \"font-weight: bold; text-align: right;\">328</td><td style = \"text-align: left;\">McDonald&apos;s McCafe French Vanilla Iced Coffee w/ Light Cream Large</td><td style = \"text-align: left;\">Beverages</td><td style = \"text-align: right;\">220.0</td><td style = \"text-align: right;\">7.0</td><td style = \"text-align: right;\">4.5</td><td style = \"text-align: right;\">0.0</td><td style = \"text-align: right;\">30.0</td><td style = \"text-align: right;\">85.0</td><td style = \"text-align: right;\">40.0</td><td style = \"text-align: right;\">3.0</td><td style = \"text-align: right;\">37.0</td><td style = \"text-align: right;\">0.0</td><td style = \"text-align: right;\">187</td><td style = \"text-align: right;\">2</td></tr><tr><td class = \"rowNumber\" style = \"font-weight: bold; text-align: right;\">329</td><td style = \"text-align: left;\">McDonald&apos;s McCafe Caramel Frappe Large</td><td style = \"text-align: left;\">Beverages</td><td style = \"text-align: right;\">670.0</td><td style = \"text-align: right;\">27.0</td><td style = \"text-align: right;\">17.0</td><td style = \"text-align: right;\">1.0</td><td style = \"text-align: right;\">95.0</td><td style = \"text-align: right;\">200.0</td><td style = \"text-align: right;\">96.0</td><td style = \"text-align: right;\">11.0</td><td style = \"text-align: right;\">89.0</td><td style = \"text-align: right;\">0.0</td><td style = \"text-align: right;\">133</td><td style = \"text-align: right;\">2</td></tr><tr><td class = \"rowNumber\" style = \"font-weight: bold; text-align: right;\">330</td><td style = \"text-align: left;\">McDonald&apos;s McCafe Frappe Chocolate Chip Small</td><td style = \"text-align: left;\">Beverages</td><td style = \"text-align: right;\">500.0</td><td style = \"text-align: right;\">22.0</td><td style = \"text-align: right;\">14.0</td><td style = \"text-align: right;\">1.0</td><td style = \"text-align: right;\">65.0</td><td style = \"text-align: right;\">130.0</td><td style = \"text-align: right;\">72.0</td><td style = \"text-align: right;\">8.0</td><td style = \"text-align: right;\">64.0</td><td style = \"text-align: right;\">1.0</td><td style = \"text-align: right;\">177</td><td style = \"text-align: right;\">2</td></tr><tr><td class = \"rowNumber\" style = \"font-weight: bold; text-align: right;\">331</td><td style = \"text-align: left;\">McDonald&apos;s Powerade Mountain Berry Blast Extra Small</td><td style = \"text-align: left;\">Beverages</td><td style = \"text-align: right;\">90.0</td><td style = \"text-align: right;\">0.0</td><td style = \"text-align: right;\">0.0</td><td style = \"text-align: right;\">0.0</td><td style = \"text-align: right;\">0.0</td><td style = \"text-align: right;\">110.0</td><td style = \"text-align: right;\">22.0</td><td style = \"text-align: right;\">0.0</td><td style = \"text-align: right;\">22.0</td><td style = \"text-align: right;\">0.0</td><td style = \"text-align: right;\">351</td><td style = \"text-align: right;\">2</td></tr></tbody></table></div>"
      ],
      "text/latex": [
       "\\begin{tabular}{r|ccc}\n",
       "\t& Restaurant\\_Item\\_Name & Food\\_Category & \\\\\n",
       "\t\\hline\n",
       "\t& Cat… & Cat… & \\\\\n",
       "\t\\hline\n",
       "\t1 & McDonald's Dr Pepper Large & Beverages & $\\dots$ \\\\\n",
       "\t2 & McDonald's Dr Pepper Medium & Beverages & $\\dots$ \\\\\n",
       "\t3 & McDonald's Tangy Barbeque Sauce & Toppings \\& Ingredients & $\\dots$ \\\\\n",
       "\t4 & McDonald's Sweet N Sour Sauce & Toppings \\& Ingredients & $\\dots$ \\\\\n",
       "\t5 & McDonald's French Fries Small & Fried Potatoes & $\\dots$ \\\\\n",
       "\t6 & McDonald's French Fries Medium & Fried Potatoes & $\\dots$ \\\\\n",
       "\t7 & McDonald's French Fries Large & Fried Potatoes & $\\dots$ \\\\\n",
       "\t8 & McDonald's Bacon Ranch Salad w/ Grilled Chicken & Salads & $\\dots$ \\\\\n",
       "\t9 & McDonald's Bacon Ranch Salad w/ Buttermilk Crispy Chicken & Salads & $\\dots$ \\\\\n",
       "\t10 & McDonald's Southwest Salad w/ Grilled Chicken & Salads & $\\dots$ \\\\\n",
       "\t11 & McDonald's Southwest Salad w/ Buttermilk Crispy Chicken & Salads & $\\dots$ \\\\\n",
       "\t12 & McDonald's Newman's Own Creamy Southwest Dressing & Toppings \\& Ingredients & $\\dots$ \\\\\n",
       "\t13 & McDonald's Newman's Own Low Fat Balsamic Vinaigrette & Toppings \\& Ingredients & $\\dots$ \\\\\n",
       "\t14 & McDonald's Newman's Own Low Fat Family Recipe Italian Dressing & Toppings \\& Ingredients & $\\dots$ \\\\\n",
       "\t15 & McDonald's Newman's Own Ranch Dressing & Toppings \\& Ingredients & $\\dots$ \\\\\n",
       "\t16 & McDonald's Creamy Ranch Sauce & Toppings \\& Ingredients & $\\dots$ \\\\\n",
       "\t17 & McDonald's Honey & Toppings \\& Ingredients & $\\dots$ \\\\\n",
       "\t18 & McDonald's Hotcake Syrup & Toppings \\& Ingredients & $\\dots$ \\\\\n",
       "\t19 & McDonald's Chocolate Chip Cookie & Desserts & $\\dots$ \\\\\n",
       "\t20 & McDonald's Oatmeal Raisin Cookie & Desserts & $\\dots$ \\\\\n",
       "\t21 & McDonald's Baked Hot Apple Pie & Desserts & $\\dots$ \\\\\n",
       "\t22 & McDonald's Dr Pepper Extra Small & Beverages & $\\dots$ \\\\\n",
       "\t23 & McDonald's Side Salad & Salads & $\\dots$ \\\\\n",
       "\t24 & McDonald's Hash Brown & Fried Potatoes & $\\dots$ \\\\\n",
       "\t25 & McDonald's French Fries Kids & Fried Potatoes & $\\dots$ \\\\\n",
       "\t26 & McDonald's Kiddie Cone & Desserts & $\\dots$ \\\\\n",
       "\t27 & McDonald's Chopped Peanuts & Toppings \\& Ingredients & $\\dots$ \\\\\n",
       "\t28 & McDonald's Sugar Packet & Toppings \\& Ingredients & $\\dots$ \\\\\n",
       "\t29 & McDonald's Hot Caramel Sundae & Desserts & $\\dots$ \\\\\n",
       "\t30 & McDonald's Hot Fudge Sundae & Desserts & $\\dots$ \\\\\n",
       "\t$\\dots$ & $\\dots$ & $\\dots$ &  \\\\\n",
       "\\end{tabular}\n"
      ],
      "text/plain": [
       "\u001b[1m331×14 DataFrame\u001b[0m\n",
       "\u001b[1m Row \u001b[0m│\u001b[1m Restaurant_Item_Name              \u001b[0m\u001b[1m Food_Category          \u001b[0m\u001b[1m Calories \u001b[0m\u001b[1m To\u001b[0m ⋯\n",
       "     │\u001b[90m CategoricalValue…                 \u001b[0m\u001b[90m Categorical…           \u001b[0m\u001b[90m Float64  \u001b[0m\u001b[90m Fl\u001b[0m ⋯\n",
       "─────┼──────────────────────────────────────────────────────────────────────────\n",
       "   1 │ McDonald's Dr Pepper Large         Beverages                  290.0     ⋯\n",
       "   2 │ McDonald's Dr Pepper Medium        Beverages                  210.0\n",
       "   3 │ McDonald's Tangy Barbeque Sauce    Toppings & Ingredients      45.0\n",
       "   4 │ McDonald's Sweet N Sour Sauce      Toppings & Ingredients      50.0\n",
       "   5 │ McDonald's French Fries Small      Fried Potatoes             230.0     ⋯\n",
       "   6 │ McDonald's French Fries Medium     Fried Potatoes             340.0\n",
       "   7 │ McDonald's French Fries Large      Fried Potatoes             510.0\n",
       "   8 │ McDonald's Bacon Ranch Salad w/ …  Salads                     320.0\n",
       "   9 │ McDonald's Bacon Ranch Salad w/ …  Salads                     490.0     ⋯\n",
       "  10 │ McDonald's Southwest Salad w/ Gr…  Salads                     350.0\n",
       "  11 │ McDonald's Southwest Salad w/ Bu…  Salads                     520.0\n",
       "  ⋮  │                 ⋮                            ⋮                ⋮         ⋱\n",
       " 322 │ McDonald's McCafe Frappe Chocola…  Beverages                  590.0\n",
       " 323 │ McDonald's McCafe French Vanilla…  Beverages                  190.0     ⋯\n",
       " 324 │ McDonald's McCafe Chocolate Shak…  Beverages                  850.0\n",
       " 325 │ McDonald's McCafe Mocha Frappe L…  Beverages                  670.0\n",
       " 326 │ McDonald's McCafe Cappuccino w/ …  Beverages                  120.0\n",
       " 327 │ McDonald's Coca Cola Large         Beverages                  290.0     ⋯\n",
       " 328 │ McDonald's McCafe French Vanilla…  Beverages                  220.0\n",
       " 329 │ McDonald's McCafe Caramel Frappe…  Beverages                  670.0\n",
       " 330 │ McDonald's McCafe Frappe Chocola…  Beverages                  500.0\n",
       " 331 │ McDonald's Powerade Mountain Ber…  Beverages                   90.0     ⋯\n",
       "\u001b[36m                                                 11 columns and 310 rows omitted\u001b[0m"
      ]
     },
     "execution_count": 77,
     "metadata": {},
     "output_type": "execute_result"
    }
   ],
   "source": [
    "df_mcdonalds_menu__mains = filter((x) -> x.Food_Category in [\"Entrees\", \"Burgers\", \"Sandwiches\"], df_mcdonalds_menu)\n",
    "df_mcdonalds_menu__non_main = filter((x) -> !(x.Food_Category in [\"Entrees\", \"Burgers\", \"Sandwiches\"]), df_mcdonalds_menu)"
   ]
  },
  {
   "cell_type": "code",
   "execution_count": 85,
   "id": "983ff9d5",
   "metadata": {},
   "outputs": [
    {
     "data": {
      "text/plain": [
       "A JuMP Model\n",
       "Feasibility problem with:\n",
       "Variables: 0\n",
       "Model mode: AUTOMATIC\n",
       "CachingOptimizer state: EMPTY_OPTIMIZER\n",
       "Solver name: GLPK"
      ]
     },
     "execution_count": 85,
     "metadata": {},
     "output_type": "execute_result"
    }
   ],
   "source": [
    "model = Model(GLPK.Optimizer)"
   ]
  },
  {
   "cell_type": "code",
   "execution_count": 86,
   "id": "a527b2a1",
   "metadata": {},
   "outputs": [
    {
     "data": {
      "text/plain": [
       "112-element Vector{VariableRef}:\n",
       " constraint_mains[1]\n",
       " constraint_mains[2]\n",
       " constraint_mains[3]\n",
       " constraint_mains[4]\n",
       " constraint_mains[5]\n",
       " constraint_mains[6]\n",
       " constraint_mains[7]\n",
       " constraint_mains[8]\n",
       " constraint_mains[9]\n",
       " constraint_mains[10]\n",
       " constraint_mains[11]\n",
       " constraint_mains[12]\n",
       " constraint_mains[13]\n",
       " ⋮\n",
       " constraint_mains[101]\n",
       " constraint_mains[102]\n",
       " constraint_mains[103]\n",
       " constraint_mains[104]\n",
       " constraint_mains[105]\n",
       " constraint_mains[106]\n",
       " constraint_mains[107]\n",
       " constraint_mains[108]\n",
       " constraint_mains[109]\n",
       " constraint_mains[110]\n",
       " constraint_mains[111]\n",
       " constraint_mains[112]"
      ]
     },
     "execution_count": 86,
     "metadata": {},
     "output_type": "execute_result"
    }
   ],
   "source": [
    "n_mains = nrow(df_mcdonalds_menu__mains)\n",
    "n_non_main = nrow(df_mcdonalds_menu__non_main)\n",
    "\n",
    "@variable(model, xm[1:n_mains] >= 0)\n",
    "@variable(model, xnm[1:n_non_main] >= 0)\n",
    "@variable(model, constraint_mains[1:n_mains], Bin)"
   ]
  },
  {
   "cell_type": "code",
   "execution_count": 73,
   "id": "0eee055a",
   "metadata": {},
   "outputs": [
    {
     "data": {
      "text/latex": [
       "$$ 290 x_{1} + 210 x_{2} + 45 x_{3} + 50 x_{4} + 250 x_{5} + 300 x_{6} + 430 x_{7} + 530 x_{8} + 540 x_{9} + 770 x_{10} + 350 x_{11} + 390 x_{12} + 530 x_{13} + 290 x_{14} + 400 x_{15} + 470 x_{16} + 450 x_{17} + 480 x_{18} + 530 x_{19} + 460 x_{20} + 490 x_{21} + 290 x_{22} + 180 x_{23} + 270 x_{24} + 440 x_{25} + 230 x_{26} + 340 x_{27} + 510 x_{28} + 320 x_{29} + 490 x_{30} + 350 x_{31} + 520 x_{32} + 120 x_{33} + 35 x_{34} + 50 x_{35} + 200 x_{36} + 110 x_{37} + 50 x_{38} + 190 x_{39} + 170 x_{40} + 140 x_{41} + 230 x_{42} + 520 x_{43} + 550 x_{44} + 750 x_{45} + 120 x_{46} + 420 x_{47} + 430 x_{48} + 330 x_{49} + 15 x_{50} + 150 x_{51} + 550 x_{52} + 380 x_{53} + 1080 x_{54} + 310 x_{55} + 260 x_{56} + 150 x_{57} + 110 x_{58} + 45 x_{59} + 45 x_{60} + 15 x_{61} + 340 x_{62} + 330 x_{63} + 630 x_{64} + 510 x_{65} + 420 x_{66} + 280 x_{67} + 200 x_{68} + 20 x_{69} + 100 x_{70} + 80 x_{71} + 170 x_{72} + 170 x_{73} + 170 x_{74} + 170 x_{75} + 100 x_{76} + 110 x_{77} + 110 x_{78} + 120 x_{79} + 300 x_{80} + 220 x_{81} + 120 x_{82} + 300 x_{83} + 220 x_{84} + 130 x_{85} + 90 x_{86} + 70 x_{87} + 230 x_{88} + 160 x_{89} + 230 x_{90} + 160 x_{91} + 5 x_{92} + 5 x_{93} + 60 x_{94} + 70 x_{95} + 170 x_{96} + 130 x_{97} + 120 x_{98} + 290 x_{99} + 210 x_{100} + 160 x_{101} + 90 x_{102} + 210 x_{103} + 280 x_{104} + 120 x_{105} + 150 x_{106} + 200 x_{107} + 340 x_{108} + 270 x_{109} + 450 x_{110} + 130 x_{111} + 140 x_{112} + 180 x_{113} + 190 x_{114} + 240 x_{115} + 330 x_{116} + 200 x_{117} + 520 x_{118} + 840 x_{119} + 630 x_{120} + 210 x_{121} + 610 x_{122} + 810 x_{123} + 340 x_{124} + 130 x_{125} + 250 x_{126} + 530 x_{127} + 630 x_{128} + 840 x_{129} + 470 x_{130} + 280 x_{131} + 370 x_{132} + 230 x_{133} + 330 x_{134} + 490 x_{135} + 270 x_{136} + 390 x_{137} + 310 x_{138} + 380 x_{139} + 470 x_{140} + 240 x_{141} + 300 x_{142} + 170 x_{143} + 890 x_{144} + 15 x_{145} + 500 x_{146} + 580 x_{147} + 750 x_{148} + 400 x_{149} + 500 x_{150} + 220 x_{151} + 410 x_{152} + 290 x_{153} + 170 x_{154} + 220 x_{155} + 320 x_{156} + 300 x_{157} + 370 x_{158} + 460 x_{159} + 430 x_{160} + 260 x_{161} + 320 x_{162} + 210 x_{163} + 270 x_{164} + 390 x_{165} + 160 x_{166} + 200 x_{167} + 300 x_{168} + 320 x_{169} + 210 x_{170} + 190 x_{171} + 150 x_{172} + 380 x_{173} + 260 x_{174} + 340 x_{175} + 360 x_{176} + 270 x_{177} + 280 x_{178} + 510 x_{179} + 620 x_{180} + 830 x_{181} + 530 x_{182} + 630 x_{183} + 840 x_{184} + 500 x_{185} + 600 x_{186} + 800 x_{187} + 290 x_{188} + 450 x_{189} + 130 x_{190} + 470 x_{191} + 500 x_{192} + 500 x_{193} + 670 x_{194} + 420 x_{195} + 670 x_{196} + 410 x_{197} + 340 x_{198} + 500 x_{199} + 210 x_{200} + 170 x_{201} + 310 x_{202} + 280 x_{203} + 210 x_{204} + 170 x_{205} + 280 x_{206} + 290 x_{207} + 420 x_{208} + 150 x_{209} + 230 x_{210} + 190 x_{211} + 290 x_{212} + 100 x_{213} + 330 x_{214} + 270 x_{215} + 260 x_{216} + 320 x_{217} + 440 x_{218} + 270 x_{219} + 220 x_{220} + 400 x_{221} + 160 x_{222} + 380 x_{223} + 320 x_{224} + 380 x_{225} + 1770 x_{226} + 530 x_{227} + 250 x_{228} + 560 x_{229} + 80 x_{230} + 35 x_{231} + 350 x_{232} + 220 x_{233} + 420 x_{234} + 520 x_{235} + 220 x_{236} + 340 x_{237} + 310 x_{238} + 380 x_{239} + 480 x_{240} + 260 x_{241} + 380 x_{242} + 90 x_{243} + 50 x_{244} + 150 x_{245} + 100 x_{246} + 70 x_{247} + 150 x_{248} + 100 x_{249} + 60 x_{250} + 45 x_{251} + 30 x_{252} + 20 x_{253} + 200 x_{254} + 300 x_{255} + 340 x_{256} + 120 x_{257} + 330 x_{258} + 360 x_{259} + 200 x_{260} + 570 x_{261} + 50 x_{262} + 480 x_{263} + 390 x_{264} + 320 x_{265} + 540 x_{266} + 440 x_{267} + 360 x_{268} + 160 x_{269} + 170 x_{270} + 130 x_{271} + 80 x_{272} + 500 x_{273} + 410 x_{274} + 340 x_{275} + 430 x_{276} + 600 x_{277} + 570 x_{278} + 620 x_{279} + 450 x_{280} + 440 x_{281} + 680 x_{282} + 580 x_{283} + 700 x_{284} + 930 x_{285} + 1090 x_{286} + 1130 x_{287} + 1000 x_{288} + 1330 x_{289} + 940 x_{290} + 1090 x_{291} + 310 x_{292} + 50 x_{293} + 320 x_{294} + 290 x_{295} + 580 x_{296} + 440 x_{297} + 510 x_{298} + 800 x_{299} + 300 x_{300} + 1440 x_{301} + 230 x_{302} + 35 x_{303} + 140 x_{304} + 380 x_{305} + 110 x_{306} + 170 x_{307} + 600 x_{308} + 700 x_{309} + 210 x_{310} + 630 x_{311} + 730 x_{312} + 35 x_{313} + 120 x_{314} + 260 x_{315} + 150 x_{316} + 970 x_{317} + 120 x_{318} + 580 x_{319} + 50 x_{320} + 600 x_{321} + 280 x_{322} + 90 x_{323} + 490 x_{324} + 310 x_{325} + 410 x_{326} + 530 x_{327} + 370 x_{328} + 320 x_{329} + 150 x_{330} + 260 x_{331} + 190 x_{332} + 760 x_{333} + 100 x_{334} + 680 x_{335} + 420 x_{336} + 530 x_{337} + 120 x_{338} + 1090 x_{339} + 150 x_{340} + 220 x_{341} + 150 x_{342} + 120 x_{343} + 340 x_{344} + 520 x_{345} + 320 x_{346} + 570 x_{347} + 510 x_{348} + 10 x_{349} + 1350 x_{350} + 270 x_{351} + 230 x_{352} + 50 x_{353} + 470 x_{354} + 820 x_{355} + 290 x_{356} + 1000 x_{357} + 140 x_{358} + 350 x_{359} + 120 x_{360} + 450 x_{361} + 450 x_{362} + 230 x_{363} + 150 x_{364} + 420 x_{365} + 580 x_{366} + 630 x_{367} + 140 x_{368} + 520 x_{369} + 420 x_{370} + 350 x_{371} + 710 x_{372} + 620 x_{373} + 700 x_{374} + 320 x_{375} + 810 x_{376} + 680 x_{377} + 600 x_{378} + 380 x_{379} + 320 x_{380} + 120 x_{381} + 310 x_{382} + 600 x_{383} + 140 x_{384} + 1210 x_{385} + 400 x_{386} + 640 x_{387} + 150 x_{388} + 810 x_{389} + 890 x_{390} + 1130 x_{391} + 140 x_{392} + 700 x_{393} + 550 x_{394} + 150 x_{395} + 600 x_{396} + 210 x_{397} + 510 x_{398} + 260 x_{399} + 500 x_{400} + 680 x_{401} + 2500 x_{402} + 30 x_{403} + 400 x_{404} + 70 x_{405} + 270 x_{406} + 570 x_{407} + 490 x_{408} + 120 x_{409} + 210 x_{410} + 90 x_{411} + 300 x_{412} + 1330 x_{413} + 160 x_{414} + 380 x_{415} + 250 x_{416} + 940 x_{417} + 240 x_{418} + 510 x_{419} + 120 x_{420} + 790 x_{421} + 190 x_{422} + 5 x_{423} + 90 x_{424} + 45 x_{425} + 590 x_{426} + 620 x_{427} + 1090 x_{428} + 190 x_{429} + 850 x_{430} + 670 x_{431} + 410 x_{432} + 450 x_{433} + 120 x_{434} + 290 x_{435} + 220 x_{436} + 730 x_{437} + 670 x_{438} + 500 x_{439} + 90 x_{440} + 460 x_{441} + 450 x_{442} + 530 x_{443} $$"
      ],
      "text/plain": [
       "290 x[1] + 210 x[2] + 45 x[3] + 50 x[4] + 250 x[5] + 300 x[6] + 430 x[7] + 530 x[8] + 540 x[9] + 770 x[10] + 350 x[11] + 390 x[12] + 530 x[13] + 290 x[14] + 400 x[15] + 470 x[16] + 450 x[17] + 480 x[18] + 530 x[19] + 460 x[20] + 490 x[21] + 290 x[22] + 180 x[23] + 270 x[24] + 440 x[25] + 230 x[26] + 340 x[27] + 510 x[28] + 320 x[29] + 490 x[30] + 350 x[31] + 520 x[32] + 120 x[33] + 35 x[34] + 50 x[35] + 200 x[36] + 110 x[37] + 50 x[38] + 190 x[39] + 170 x[40] + 140 x[41] + 230 x[42] + 520 x[43] + 550 x[44] + 750 x[45] + 120 x[46] + 420 x[47] + 430 x[48] + 330 x[49] + 15 x[50] + 150 x[51] + 550 x[52] + 380 x[53] + 1080 x[54] + 310 x[55] + 260 x[56] + 150 x[57] + 110 x[58] + 45 x[59] + 45 x[60] + 15 x[61] + 340 x[62] + 330 x[63] + 630 x[64] + 510 x[65] + 420 x[66] + 280 x[67] + 200 x[68] + 20 x[69] + 100 x[70] + 80 x[71] + 170 x[72] + 170 x[73] + 170 x[74] + 170 x[75] + 100 x[76] + 110 x[77] + 110 x[78] + 120 x[79] + 300 x[80] + 220 x[81] + 120 x[82] + 300 x[83] + 220 x[84] + 130 x[85] + 90 x[86] + 70 x[87] + 230 x[88] + 160 x[89] + 230 x[90] + 160 x[91] + 5 x[92] + 5 x[93] + 60 x[94] + 70 x[95] + 170 x[96] + 130 x[97] + 120 x[98] + 290 x[99] + 210 x[100] + 160 x[101] + 90 x[102] + 210 x[103] + 280 x[104] + 120 x[105] + 150 x[106] + 200 x[107] + 340 x[108] + 270 x[109] + 450 x[110] + 130 x[111] + 140 x[112] + 180 x[113] + 190 x[114] + 240 x[115] + 330 x[116] + 200 x[117] + 520 x[118] + 840 x[119] + 630 x[120] + 210 x[121] + 610 x[122] + 810 x[123] + 340 x[124] + 130 x[125] + 250 x[126] + 530 x[127] + 630 x[128] + 840 x[129] + 470 x[130] + 280 x[131] + 370 x[132] + 230 x[133] + 330 x[134] + 490 x[135] + 270 x[136] + 390 x[137] + 310 x[138] + 380 x[139] + 470 x[140] + 240 x[141] + 300 x[142] + 170 x[143] + 890 x[144] + 15 x[145] + 500 x[146] + 580 x[147] + 750 x[148] + 400 x[149] + 500 x[150] + 220 x[151] + 410 x[152] + 290 x[153] + 170 x[154] + 220 x[155] + 320 x[156] + 300 x[157] + 370 x[158] + 460 x[159] + 430 x[160] + 260 x[161] + 320 x[162] + 210 x[163] + 270 x[164] + 390 x[165] + 160 x[166] + 200 x[167] + 300 x[168] + 320 x[169] + 210 x[170] + 190 x[171] + 150 x[172] + 380 x[173] + 260 x[174] + 340 x[175] + 360 x[176] + 270 x[177] + 280 x[178] + 510 x[179] + 620 x[180] + 830 x[181] + 530 x[182] + 630 x[183] + 840 x[184] + 500 x[185] + 600 x[186] + 800 x[187] + 290 x[188] + 450 x[189] + 130 x[190] + 470 x[191] + 500 x[192] + 500 x[193] + 670 x[194] + 420 x[195] + 670 x[196] + 410 x[197] + 340 x[198] + 500 x[199] + 210 x[200] + 170 x[201] + 310 x[202] + 280 x[203] + 210 x[204] + 170 x[205] + 280 x[206] + 290 x[207] + 420 x[208] + 150 x[209] + 230 x[210] + 190 x[211] + 290 x[212] + 100 x[213] + 330 x[214] + 270 x[215] + 260 x[216] + 320 x[217] + 440 x[218] + 270 x[219] + 220 x[220] + 400 x[221] + 160 x[222] + 380 x[223] + 320 x[224] + 380 x[225] + 1770 x[226] + 530 x[227] + 250 x[228] + 560 x[229] + 80 x[230] + 35 x[231] + 350 x[232] + 220 x[233] + 420 x[234] + 520 x[235] + 220 x[236] + 340 x[237] + 310 x[238] + 380 x[239] + 480 x[240] + 260 x[241] + 380 x[242] + 90 x[243] + 50 x[244] + 150 x[245] + 100 x[246] + 70 x[247] + 150 x[248] + 100 x[249] + 60 x[250] + 45 x[251] + 30 x[252] + 20 x[253] + 200 x[254] + 300 x[255] + 340 x[256] + 120 x[257] + 330 x[258] + 360 x[259] + 200 x[260] + 570 x[261] + 50 x[262] + 480 x[263] + 390 x[264] + 320 x[265] + 540 x[266] + 440 x[267] + 360 x[268] + 160 x[269] + 170 x[270] + 130 x[271] + 80 x[272] + 500 x[273] + 410 x[274] + 340 x[275] + 430 x[276] + 600 x[277] + 570 x[278] + 620 x[279] + 450 x[280] + 440 x[281] + 680 x[282] + 580 x[283] + 700 x[284] + 930 x[285] + 1090 x[286] + 1130 x[287] + 1000 x[288] + 1330 x[289] + 940 x[290] + 1090 x[291] + 310 x[292] + 50 x[293] + 320 x[294] + 290 x[295] + 580 x[296] + 440 x[297] + 510 x[298] + 800 x[299] + 300 x[300] + 1440 x[301] + 230 x[302] + 35 x[303] + 140 x[304] + 380 x[305] + 110 x[306] + 170 x[307] + 600 x[308] + 700 x[309] + 210 x[310] + 630 x[311] + 730 x[312] + 35 x[313] + 120 x[314] + 260 x[315] + 150 x[316] + 970 x[317] + 120 x[318] + 580 x[319] + 50 x[320] + 600 x[321] + 280 x[322] + 90 x[323] + 490 x[324] + 310 x[325] + 410 x[326] + 530 x[327] + 370 x[328] + 320 x[329] + 150 x[330] + 260 x[331] + 190 x[332] + 760 x[333] + 100 x[334] + 680 x[335] + 420 x[336] + 530 x[337] + 120 x[338] + 1090 x[339] + 150 x[340] + 220 x[341] + 150 x[342] + 120 x[343] + 340 x[344] + 520 x[345] + 320 x[346] + 570 x[347] + 510 x[348] + 10 x[349] + 1350 x[350] + 270 x[351] + 230 x[352] + 50 x[353] + 470 x[354] + 820 x[355] + 290 x[356] + 1000 x[357] + 140 x[358] + 350 x[359] + 120 x[360] + 450 x[361] + 450 x[362] + 230 x[363] + 150 x[364] + 420 x[365] + 580 x[366] + 630 x[367] + 140 x[368] + 520 x[369] + 420 x[370] + 350 x[371] + 710 x[372] + 620 x[373] + 700 x[374] + 320 x[375] + 810 x[376] + 680 x[377] + 600 x[378] + 380 x[379] + 320 x[380] + 120 x[381] + 310 x[382] + 600 x[383] + 140 x[384] + 1210 x[385] + 400 x[386] + 640 x[387] + 150 x[388] + 810 x[389] + 890 x[390] + 1130 x[391] + 140 x[392] + 700 x[393] + 550 x[394] + 150 x[395] + 600 x[396] + 210 x[397] + 510 x[398] + 260 x[399] + 500 x[400] + 680 x[401] + 2500 x[402] + 30 x[403] + 400 x[404] + 70 x[405] + 270 x[406] + 570 x[407] + 490 x[408] + 120 x[409] + 210 x[410] + 90 x[411] + 300 x[412] + 1330 x[413] + 160 x[414] + 380 x[415] + 250 x[416] + 940 x[417] + 240 x[418] + 510 x[419] + 120 x[420] + 790 x[421] + 190 x[422] + 5 x[423] + 90 x[424] + 45 x[425] + 590 x[426] + 620 x[427] + 1090 x[428] + 190 x[429] + 850 x[430] + 670 x[431] + 410 x[432] + 450 x[433] + 120 x[434] + 290 x[435] + 220 x[436] + 730 x[437] + 670 x[438] + 500 x[439] + 90 x[440] + 460 x[441] + 450 x[442] + 530 x[443]"
      ]
     },
     "execution_count": 73,
     "metadata": {},
     "output_type": "execute_result"
    }
   ],
   "source": [
    "@objective(model, Min, sum(df_mcdonalds_menu_.Calories[i]*x[i] for i in 1:n))"
   ]
  },
  {
   "cell_type": "markdown",
   "id": "bbdf03c5",
   "metadata": {},
   "source": [
    "----"
   ]
  },
  {
   "cell_type": "code",
   "execution_count": null,
   "id": "9d669215",
   "metadata": {},
   "outputs": [],
   "source": []
  },
  {
   "cell_type": "code",
   "execution_count": null,
   "id": "f3d7cd61",
   "metadata": {},
   "outputs": [],
   "source": []
  },
  {
   "cell_type": "code",
   "execution_count": 53,
   "id": "536dab6b",
   "metadata": {},
   "outputs": [
    {
     "data": {
      "text/html": [
       "<div><div style = \"float: left;\"><span>1×4 DataFrame</span></div><div style = \"clear: both;\"></div></div><div class = \"data-frame\" style = \"overflow-x: scroll;\"><table class = \"data-frame\" style = \"margin-bottom: 6px;\"><thead><tr class = \"header\"><th class = \"rowNumber\" style = \"font-weight: bold; text-align: right;\">Row</th><th style = \"text-align: left;\">item_min</th><th style = \"text-align: left;\">item_max</th><th style = \"text-align: left;\">food_category_min</th><th style = \"text-align: left;\">food_category_max</th></tr><tr class = \"subheader headerLastRow\"><th class = \"rowNumber\" style = \"font-weight: bold; text-align: right;\"></th><th title = \"Int64\" style = \"text-align: left;\">Int64</th><th title = \"Int64\" style = \"text-align: left;\">Int64</th><th title = \"Int64\" style = \"text-align: left;\">Int64</th><th title = \"Int64\" style = \"text-align: left;\">Int64</th></tr></thead><tbody><tr><td class = \"rowNumber\" style = \"font-weight: bold; text-align: right;\">1</td><td style = \"text-align: right;\">1</td><td style = \"text-align: right;\">400</td><td style = \"text-align: right;\">1</td><td style = \"text-align: right;\">9</td></tr></tbody></table></div>"
      ],
      "text/latex": [
       "\\begin{tabular}{r|cccc}\n",
       "\t& item\\_min & item\\_max & food\\_category\\_min & food\\_category\\_max\\\\\n",
       "\t\\hline\n",
       "\t& Int64 & Int64 & Int64 & Int64\\\\\n",
       "\t\\hline\n",
       "\t1 & 1 & 400 & 1 & 9 \\\\\n",
       "\\end{tabular}\n"
      ],
      "text/plain": [
       "\u001b[1m1×4 DataFrame\u001b[0m\n",
       "\u001b[1m Row \u001b[0m│\u001b[1m item_min \u001b[0m\u001b[1m item_max \u001b[0m\u001b[1m food_category_min \u001b[0m\u001b[1m food_category_max \u001b[0m\n",
       "     │\u001b[90m Int64    \u001b[0m\u001b[90m Int64    \u001b[0m\u001b[90m Int64             \u001b[0m\u001b[90m Int64             \u001b[0m\n",
       "─────┼──────────────────────────────────────────────────────────\n",
       "   1 │        1       400                  1                  9"
      ]
     },
     "execution_count": 53,
     "metadata": {},
     "output_type": "execute_result"
    }
   ],
   "source": [
    "domain_menu_variables = unique(\n",
    "    select(\n",
    "        df_mcdonalds_menu, \n",
    "        :Restaurant_Item_Name_Num => minimum => :item_min,\n",
    "        :Restaurant_Item_Name_Num => maximum => :item_max,\n",
    "        :Food_Category_Num => minimum => :food_category_min,\n",
    "        :Food_Category_Num => maximum => :food_category_max,\n",
    "    )\n",
    ")"
   ]
  },
  {
   "cell_type": "code",
   "execution_count": 54,
   "id": "f0587695",
   "metadata": {},
   "outputs": [
    {
     "data": {
      "text/html": [
       "<div><div style = \"float: left;\"><span>1×2 DataFrame</span></div><div style = \"clear: both;\"></div></div><div class = \"data-frame\" style = \"overflow-x: scroll;\"><table class = \"data-frame\" style = \"margin-bottom: 6px;\"><thead><tr class = \"header\"><th class = \"rowNumber\" style = \"font-weight: bold; text-align: right;\">Row</th><th style = \"text-align: left;\">item_min</th><th style = \"text-align: left;\">food_category_min</th></tr><tr class = \"subheader headerLastRow\"><th class = \"rowNumber\" style = \"font-weight: bold; text-align: right;\"></th><th title = \"Int64\" style = \"text-align: left;\">Int64</th><th title = \"Int64\" style = \"text-align: left;\">Int64</th></tr></thead><tbody><tr><td class = \"rowNumber\" style = \"font-weight: bold; text-align: right;\">1</td><td style = \"text-align: right;\">1</td><td style = \"text-align: right;\">1</td></tr></tbody></table></div>"
      ],
      "text/latex": [
       "\\begin{tabular}{r|cc}\n",
       "\t& item\\_min & food\\_category\\_min\\\\\n",
       "\t\\hline\n",
       "\t& Int64 & Int64\\\\\n",
       "\t\\hline\n",
       "\t1 & 1 & 1 \\\\\n",
       "\\end{tabular}\n"
      ],
      "text/plain": [
       "\u001b[1m1×2 DataFrame\u001b[0m\n",
       "\u001b[1m Row \u001b[0m│\u001b[1m item_min \u001b[0m\u001b[1m food_category_min \u001b[0m\n",
       "     │\u001b[90m Int64    \u001b[0m\u001b[90m Int64             \u001b[0m\n",
       "─────┼─────────────────────────────\n",
       "   1 │        1                  1"
      ]
     },
     "execution_count": 54,
     "metadata": {},
     "output_type": "execute_result"
    }
   ],
   "source": [
    "domain_menu_variables[!, r\"min\"]"
   ]
  },
  {
   "cell_type": "code",
   "execution_count": null,
   "id": "a33818d9",
   "metadata": {},
   "outputs": [],
   "source": []
  },
  {
   "cell_type": "code",
   "execution_count": null,
   "id": "42a706b7",
   "metadata": {},
   "outputs": [],
   "source": []
  },
  {
   "cell_type": "code",
   "execution_count": null,
   "id": "5cec3298",
   "metadata": {},
   "outputs": [],
   "source": []
  },
  {
   "cell_type": "code",
   "execution_count": null,
   "id": "41a62d11",
   "metadata": {},
   "outputs": [],
   "source": [
    "model = Model()\n",
    "S = [2, 5, 6, 8, 10]\n",
    "@variable(model, x, Int)\n",
    "@variable(model, z[1:length(S)], Bin)\n",
    "@constraint(model, sum(z) == 1)\n",
    "@constraint(model, x == sum(S[i] * z[i] for i = 1:length(S))"
   ]
  }
 ],
 "metadata": {
  "kernelspec": {
   "display_name": "Julia 1.8.5",
   "language": "julia",
   "name": "julia-1.8"
  },
  "language_info": {
   "file_extension": ".jl",
   "mimetype": "application/julia",
   "name": "julia",
   "version": "1.8.5"
  }
 },
 "nbformat": 4,
 "nbformat_minor": 5
}
