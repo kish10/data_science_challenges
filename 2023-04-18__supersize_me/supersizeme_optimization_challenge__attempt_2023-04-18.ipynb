{
 "cells": [
  {
   "cell_type": "code",
   "execution_count": 12,
   "id": "37ca0d8f",
   "metadata": {},
   "outputs": [],
   "source": [
    "using CategoricalArrays, Clp, CSV, DataFrames, GLPK, HiGHS, JuMP"
   ]
  },
  {
   "cell_type": "markdown",
   "id": "938f9920",
   "metadata": {},
   "source": [
    "## Challenge description"
   ]
  },
  {
   "cell_type": "markdown",
   "id": "bbeb70c9",
   "metadata": {},
   "source": [
    "Challenge information & credit:\n",
    "- The challenge was created by _Maurice Garfinkel (At AllState)_, as motivation & practice for learning Optimization techniques particular Linear Optimization (due on 2023-04-18).\n",
    "- Credit goes to _Maurice Garfinkel (At AllState)_, for creating such a thoughtfully made challenge in order to start learning \"Optimization Techniques\".\n",
    "\n",
    "Challenge:\n",
    "- From the list of `./data/McDonalds.csv` menu items choose items for 30 days that minimize the total calories while meeting the limits in `./data/nutrient_limits.csv`.\n",
    "    - Furthermore:\n",
    "        - A menu item can be chosen only once in a day (i.e. In one day cannot choose the same menu item twice). \n",
    "        - The meal for each day needs to have at least 3 mains from either {\"Entrees\", \"Burgers\", \"Sandwiches\"}.\n",
    "        - Fractional meals are okay.\n",
    "- Show that the solution has a value of `54983.2`."
   ]
  },
  {
   "cell_type": "markdown",
   "id": "aa5af503",
   "metadata": {},
   "source": [
    "## Intuition/motivation for the solution"
   ]
  },
  {
   "cell_type": "markdown",
   "id": "7da911b7",
   "metadata": {},
   "source": [
    "1. First note that this is an optimization problem, since there are multiple combinations McDonalds meals for 30 days, and we need to pick an optimal combination subject to the calory & nutrient constraints.\n",
    "2. This is a \"Linear Programming\" problem, since \"Linear Programming\" problems are special class of Optimization problems where the \"requirements\" are represented by linear relationships.\n",
    "\n",
    "Therefore, since \"Optimization\" & \"Linear Programming\" are well established problem solving techiniques for exactly these kinds of problems, we should at least first start to solve with these.\n",
    "\n",
    "Reference:\n",
    "- [Wikipedia: Linear Programming](https://en.wikipedia.org/wiki/Linear_programming)"
   ]
  },
  {
   "cell_type": "markdown",
   "id": "f5433502",
   "metadata": {},
   "source": [
    "## Get data"
   ]
  },
  {
   "cell_type": "code",
   "execution_count": 2,
   "id": "b9dfcd60",
   "metadata": {},
   "outputs": [
    {
     "data": {
      "text/html": [
       "<div><div style = \"float: left;\"><span>9×3 DataFrame</span></div><div style = \"clear: both;\"></div></div><div class = \"data-frame\" style = \"overflow-x: scroll;\"><table class = \"data-frame\" style = \"margin-bottom: 6px;\"><thead><tr class = \"header\"><th class = \"rowNumber\" style = \"font-weight: bold; text-align: right;\">Row</th><th style = \"text-align: left;\">Nutrient</th><th style = \"text-align: left;\">Lower_Limit</th><th style = \"text-align: left;\">Upper_Limit</th></tr><tr class = \"subheader headerLastRow\"><th class = \"rowNumber\" style = \"font-weight: bold; text-align: right;\"></th><th title = \"String15\" style = \"text-align: left;\">String15</th><th title = \"Union{Missing, Int64}\" style = \"text-align: left;\">Int64?</th><th title = \"Float64\" style = \"text-align: left;\">Float64</th></tr></thead><tbody><tr><td class = \"rowNumber\" style = \"font-weight: bold; text-align: right;\">1</td><td style = \"text-align: left;\">Total_Fat</td><td style = \"text-align: right;\">70</td><td style = \"text-align: right;\">90.0</td></tr><tr><td class = \"rowNumber\" style = \"font-weight: bold; text-align: right;\">2</td><td style = \"text-align: left;\">Saturated_Fat</td><td style = \"text-align: right;\">20</td><td style = \"text-align: right;\">30.0</td></tr><tr><td class = \"rowNumber\" style = \"font-weight: bold; text-align: right;\">3</td><td style = \"text-align: left;\">Trans_Fat</td><td style = \"font-style: italic; text-align: right;\">missing</td><td style = \"text-align: right;\">2.75</td></tr><tr><td class = \"rowNumber\" style = \"font-weight: bold; text-align: right;\">4</td><td style = \"text-align: left;\">Cholesterol</td><td style = \"font-style: italic; text-align: right;\">missing</td><td style = \"text-align: right;\">300.0</td></tr><tr><td class = \"rowNumber\" style = \"font-weight: bold; text-align: right;\">5</td><td style = \"text-align: left;\">Sodium</td><td style = \"font-style: italic; text-align: right;\">missing</td><td style = \"text-align: right;\">2300.0</td></tr><tr><td class = \"rowNumber\" style = \"font-weight: bold; text-align: right;\">6</td><td style = \"text-align: left;\">Carbohydrates</td><td style = \"text-align: right;\">225</td><td style = \"text-align: right;\">400.0</td></tr><tr><td class = \"rowNumber\" style = \"font-weight: bold; text-align: right;\">7</td><td style = \"text-align: left;\">Protein</td><td style = \"text-align: right;\">50</td><td style = \"text-align: right;\">220.0</td></tr><tr><td class = \"rowNumber\" style = \"font-weight: bold; text-align: right;\">8</td><td style = \"text-align: left;\">Sugar</td><td style = \"font-style: italic; text-align: right;\">missing</td><td style = \"text-align: right;\">36.0</td></tr><tr><td class = \"rowNumber\" style = \"font-weight: bold; text-align: right;\">9</td><td style = \"text-align: left;\">Fiber</td><td style = \"text-align: right;\">25</td><td style = \"text-align: right;\">38.0</td></tr></tbody></table></div>"
      ],
      "text/latex": [
       "\\begin{tabular}{r|ccc}\n",
       "\t& Nutrient & Lower\\_Limit & Upper\\_Limit\\\\\n",
       "\t\\hline\n",
       "\t& String15 & Int64? & Float64\\\\\n",
       "\t\\hline\n",
       "\t1 & Total\\_Fat & 70 & 90.0 \\\\\n",
       "\t2 & Saturated\\_Fat & 20 & 30.0 \\\\\n",
       "\t3 & Trans\\_Fat & \\emph{missing} & 2.75 \\\\\n",
       "\t4 & Cholesterol & \\emph{missing} & 300.0 \\\\\n",
       "\t5 & Sodium & \\emph{missing} & 2300.0 \\\\\n",
       "\t6 & Carbohydrates & 225 & 400.0 \\\\\n",
       "\t7 & Protein & 50 & 220.0 \\\\\n",
       "\t8 & Sugar & \\emph{missing} & 36.0 \\\\\n",
       "\t9 & Fiber & 25 & 38.0 \\\\\n",
       "\\end{tabular}\n"
      ],
      "text/plain": [
       "\u001b[1m9×3 DataFrame\u001b[0m\n",
       "\u001b[1m Row \u001b[0m│\u001b[1m Nutrient      \u001b[0m\u001b[1m Lower_Limit \u001b[0m\u001b[1m Upper_Limit \u001b[0m\n",
       "     │\u001b[90m String15      \u001b[0m\u001b[90m Int64?      \u001b[0m\u001b[90m Float64     \u001b[0m\n",
       "─────┼─────────────────────────────────────────\n",
       "   1 │ Total_Fat               70        90.0\n",
       "   2 │ Saturated_Fat           20        30.0\n",
       "   3 │ Trans_Fat     \u001b[90m     missing \u001b[0m        2.75\n",
       "   4 │ Cholesterol   \u001b[90m     missing \u001b[0m      300.0\n",
       "   5 │ Sodium        \u001b[90m     missing \u001b[0m     2300.0\n",
       "   6 │ Carbohydrates          225       400.0\n",
       "   7 │ Protein                 50       220.0\n",
       "   8 │ Sugar         \u001b[90m     missing \u001b[0m       36.0\n",
       "   9 │ Fiber                   25        38.0"
      ]
     },
     "execution_count": 2,
     "metadata": {},
     "output_type": "execute_result"
    }
   ],
   "source": [
    "df_mcdonalds_menu = CSV.read(\"./data/McDonalds.csv\", DataFrame)\n",
    "df_nutrient_limits = CSV.read(\"./data/nutrient_limits.csv\", DataFrame)"
   ]
  },
  {
   "cell_type": "markdown",
   "id": "0b14f98e",
   "metadata": {},
   "source": [
    "## Briefly look at the data"
   ]
  },
  {
   "cell_type": "markdown",
   "id": "df71cb93",
   "metadata": {},
   "source": [
    "### McDonalds menu"
   ]
  },
  {
   "cell_type": "code",
   "execution_count": 3,
   "id": "316683e1",
   "metadata": {},
   "outputs": [
    {
     "data": {
      "text/html": [
       "<div><div style = \"float: left;\"><span>2×12 DataFrame</span></div><div style = \"clear: both;\"></div></div><div class = \"data-frame\" style = \"overflow-x: scroll;\"><table class = \"data-frame\" style = \"margin-bottom: 6px;\"><thead><tr class = \"header\"><th class = \"rowNumber\" style = \"font-weight: bold; text-align: right;\">Row</th><th style = \"text-align: left;\">Restaurant_Item_Name</th><th style = \"text-align: left;\">Food_Category</th><th style = \"text-align: left;\">Calories</th><th style = \"text-align: left;\">Total_Fat</th><th style = \"text-align: left;\">Saturated_Fat</th><th style = \"text-align: left;\">Trans_Fat</th><th style = \"text-align: left;\">Cholesterol</th><th style = \"text-align: left;\">Sodium</th><th style = \"text-align: left;\">Carbohydrates</th><th style = \"text-align: left;\">Protein</th><th style = \"text-align: left;\">Sugar</th><th style = \"text-align: left;\">Dietary_Fiber</th></tr><tr class = \"subheader headerLastRow\"><th class = \"rowNumber\" style = \"font-weight: bold; text-align: right;\"></th><th title = \"String\" style = \"text-align: left;\">String</th><th title = \"String31\" style = \"text-align: left;\">String31</th><th title = \"Float64\" style = \"text-align: left;\">Float64</th><th title = \"Float64\" style = \"text-align: left;\">Float64</th><th title = \"Float64\" style = \"text-align: left;\">Float64</th><th title = \"Float64\" style = \"text-align: left;\">Float64</th><th title = \"Float64\" style = \"text-align: left;\">Float64</th><th title = \"Float64\" style = \"text-align: left;\">Float64</th><th title = \"Float64\" style = \"text-align: left;\">Float64</th><th title = \"Float64\" style = \"text-align: left;\">Float64</th><th title = \"Float64\" style = \"text-align: left;\">Float64</th><th title = \"Float64\" style = \"text-align: left;\">Float64</th></tr></thead><tbody><tr><td class = \"rowNumber\" style = \"font-weight: bold; text-align: right;\">1</td><td style = \"text-align: left;\">McDonald&apos;s Dr Pepper Large</td><td style = \"text-align: left;\">Beverages</td><td style = \"text-align: right;\">290.0</td><td style = \"text-align: right;\">0.0</td><td style = \"text-align: right;\">0.0</td><td style = \"text-align: right;\">0.0</td><td style = \"text-align: right;\">0.0</td><td style = \"text-align: right;\">95.0</td><td style = \"text-align: right;\">79.0</td><td style = \"text-align: right;\">0.0</td><td style = \"text-align: right;\">78.0</td><td style = \"text-align: right;\">0.0</td></tr><tr><td class = \"rowNumber\" style = \"font-weight: bold; text-align: right;\">2</td><td style = \"text-align: left;\">McDonald&apos;s Dr Pepper Medium</td><td style = \"text-align: left;\">Beverages</td><td style = \"text-align: right;\">210.0</td><td style = \"text-align: right;\">0.0</td><td style = \"text-align: right;\">0.0</td><td style = \"text-align: right;\">0.0</td><td style = \"text-align: right;\">0.0</td><td style = \"text-align: right;\">70.0</td><td style = \"text-align: right;\">58.0</td><td style = \"text-align: right;\">0.0</td><td style = \"text-align: right;\">57.0</td><td style = \"text-align: right;\">0.0</td></tr></tbody></table></div>"
      ],
      "text/latex": [
       "\\begin{tabular}{r|cccccc}\n",
       "\t& Restaurant\\_Item\\_Name & Food\\_Category & Calories & Total\\_Fat & Saturated\\_Fat & \\\\\n",
       "\t\\hline\n",
       "\t& String & String31 & Float64 & Float64 & Float64 & \\\\\n",
       "\t\\hline\n",
       "\t1 & McDonald's Dr Pepper Large & Beverages & 290.0 & 0.0 & 0.0 & $\\dots$ \\\\\n",
       "\t2 & McDonald's Dr Pepper Medium & Beverages & 210.0 & 0.0 & 0.0 & $\\dots$ \\\\\n",
       "\\end{tabular}\n"
      ],
      "text/plain": [
       "\u001b[1m2×12 DataFrame\u001b[0m\n",
       "\u001b[1m Row \u001b[0m│\u001b[1m Restaurant_Item_Name        \u001b[0m\u001b[1m Food_Category \u001b[0m\u001b[1m Calories \u001b[0m\u001b[1m Total_Fat \u001b[0m\u001b[1m Satura\u001b[0m ⋯\n",
       "     │\u001b[90m String                      \u001b[0m\u001b[90m String31      \u001b[0m\u001b[90m Float64  \u001b[0m\u001b[90m Float64   \u001b[0m\u001b[90m Float6\u001b[0m ⋯\n",
       "─────┼──────────────────────────────────────────────────────────────────────────\n",
       "   1 │ McDonald's Dr Pepper Large   Beverages         290.0        0.0         ⋯\n",
       "   2 │ McDonald's Dr Pepper Medium  Beverages         210.0        0.0\n",
       "\u001b[36m                                                               8 columns omitted\u001b[0m"
      ]
     },
     "execution_count": 3,
     "metadata": {},
     "output_type": "execute_result"
    }
   ],
   "source": [
    "first(df_mcdonalds_menu, 2)"
   ]
  },
  {
   "cell_type": "code",
   "execution_count": 4,
   "id": "17fb933f",
   "metadata": {},
   "outputs": [
    {
     "name": "stdout",
     "output_type": "stream",
     "text": [
      "443"
     ]
    },
    {
     "data": {
      "text/plain": [
       "96"
      ]
     },
     "execution_count": 4,
     "metadata": {},
     "output_type": "execute_result"
    }
   ],
   "source": [
    "# Check if Calories are unique\n",
    "\n",
    "print(nrow(df_mcdonalds_menu))\n",
    "length(unique(df_mcdonalds_menu.Calories))"
   ]
  },
  {
   "cell_type": "markdown",
   "id": "9726147c",
   "metadata": {},
   "source": [
    "### nutrient_limits"
   ]
  },
  {
   "cell_type": "code",
   "execution_count": 5,
   "id": "67ed2082",
   "metadata": {},
   "outputs": [
    {
     "data": {
      "text/html": [
       "<div><div style = \"float: left;\"><span>9×3 DataFrame</span></div><div style = \"clear: both;\"></div></div><div class = \"data-frame\" style = \"overflow-x: scroll;\"><table class = \"data-frame\" style = \"margin-bottom: 6px;\"><thead><tr class = \"header\"><th class = \"rowNumber\" style = \"font-weight: bold; text-align: right;\">Row</th><th style = \"text-align: left;\">Nutrient</th><th style = \"text-align: left;\">Lower_Limit</th><th style = \"text-align: left;\">Upper_Limit</th></tr><tr class = \"subheader headerLastRow\"><th class = \"rowNumber\" style = \"font-weight: bold; text-align: right;\"></th><th title = \"String15\" style = \"text-align: left;\">String15</th><th title = \"Union{Missing, Int64}\" style = \"text-align: left;\">Int64?</th><th title = \"Float64\" style = \"text-align: left;\">Float64</th></tr></thead><tbody><tr><td class = \"rowNumber\" style = \"font-weight: bold; text-align: right;\">1</td><td style = \"text-align: left;\">Total_Fat</td><td style = \"text-align: right;\">70</td><td style = \"text-align: right;\">90.0</td></tr><tr><td class = \"rowNumber\" style = \"font-weight: bold; text-align: right;\">2</td><td style = \"text-align: left;\">Saturated_Fat</td><td style = \"text-align: right;\">20</td><td style = \"text-align: right;\">30.0</td></tr><tr><td class = \"rowNumber\" style = \"font-weight: bold; text-align: right;\">3</td><td style = \"text-align: left;\">Trans_Fat</td><td style = \"font-style: italic; text-align: right;\">missing</td><td style = \"text-align: right;\">2.75</td></tr><tr><td class = \"rowNumber\" style = \"font-weight: bold; text-align: right;\">4</td><td style = \"text-align: left;\">Cholesterol</td><td style = \"font-style: italic; text-align: right;\">missing</td><td style = \"text-align: right;\">300.0</td></tr><tr><td class = \"rowNumber\" style = \"font-weight: bold; text-align: right;\">5</td><td style = \"text-align: left;\">Sodium</td><td style = \"font-style: italic; text-align: right;\">missing</td><td style = \"text-align: right;\">2300.0</td></tr><tr><td class = \"rowNumber\" style = \"font-weight: bold; text-align: right;\">6</td><td style = \"text-align: left;\">Carbohydrates</td><td style = \"text-align: right;\">225</td><td style = \"text-align: right;\">400.0</td></tr><tr><td class = \"rowNumber\" style = \"font-weight: bold; text-align: right;\">7</td><td style = \"text-align: left;\">Protein</td><td style = \"text-align: right;\">50</td><td style = \"text-align: right;\">220.0</td></tr><tr><td class = \"rowNumber\" style = \"font-weight: bold; text-align: right;\">8</td><td style = \"text-align: left;\">Sugar</td><td style = \"font-style: italic; text-align: right;\">missing</td><td style = \"text-align: right;\">36.0</td></tr><tr><td class = \"rowNumber\" style = \"font-weight: bold; text-align: right;\">9</td><td style = \"text-align: left;\">Fiber</td><td style = \"text-align: right;\">25</td><td style = \"text-align: right;\">38.0</td></tr></tbody></table></div>"
      ],
      "text/latex": [
       "\\begin{tabular}{r|ccc}\n",
       "\t& Nutrient & Lower\\_Limit & Upper\\_Limit\\\\\n",
       "\t\\hline\n",
       "\t& String15 & Int64? & Float64\\\\\n",
       "\t\\hline\n",
       "\t1 & Total\\_Fat & 70 & 90.0 \\\\\n",
       "\t2 & Saturated\\_Fat & 20 & 30.0 \\\\\n",
       "\t3 & Trans\\_Fat & \\emph{missing} & 2.75 \\\\\n",
       "\t4 & Cholesterol & \\emph{missing} & 300.0 \\\\\n",
       "\t5 & Sodium & \\emph{missing} & 2300.0 \\\\\n",
       "\t6 & Carbohydrates & 225 & 400.0 \\\\\n",
       "\t7 & Protein & 50 & 220.0 \\\\\n",
       "\t8 & Sugar & \\emph{missing} & 36.0 \\\\\n",
       "\t9 & Fiber & 25 & 38.0 \\\\\n",
       "\\end{tabular}\n"
      ],
      "text/plain": [
       "\u001b[1m9×3 DataFrame\u001b[0m\n",
       "\u001b[1m Row \u001b[0m│\u001b[1m Nutrient      \u001b[0m\u001b[1m Lower_Limit \u001b[0m\u001b[1m Upper_Limit \u001b[0m\n",
       "     │\u001b[90m String15      \u001b[0m\u001b[90m Int64?      \u001b[0m\u001b[90m Float64     \u001b[0m\n",
       "─────┼─────────────────────────────────────────\n",
       "   1 │ Total_Fat               70        90.0\n",
       "   2 │ Saturated_Fat           20        30.0\n",
       "   3 │ Trans_Fat     \u001b[90m     missing \u001b[0m        2.75\n",
       "   4 │ Cholesterol   \u001b[90m     missing \u001b[0m      300.0\n",
       "   5 │ Sodium        \u001b[90m     missing \u001b[0m     2300.0\n",
       "   6 │ Carbohydrates          225       400.0\n",
       "   7 │ Protein                 50       220.0\n",
       "   8 │ Sugar         \u001b[90m     missing \u001b[0m       36.0\n",
       "   9 │ Fiber                   25        38.0"
      ]
     },
     "execution_count": 5,
     "metadata": {},
     "output_type": "execute_result"
    }
   ],
   "source": [
    "df_nutrient_limits"
   ]
  },
  {
   "cell_type": "markdown",
   "id": "4f9f805f",
   "metadata": {},
   "source": [
    "## Feature engineering"
   ]
  },
  {
   "cell_type": "markdown",
   "id": "4b80ac4e",
   "metadata": {},
   "source": [
    "### Rename columns"
   ]
  },
  {
   "cell_type": "code",
   "execution_count": 6,
   "id": "31c71323",
   "metadata": {},
   "outputs": [
    {
     "data": {
      "text/html": [
       "<div><div style = \"float: left;\"><span>443×12 DataFrame</span></div><div style = \"float: right;\"><span style = \"font-style: italic;\">418 rows omitted</span></div><div style = \"clear: both;\"></div></div><div class = \"data-frame\" style = \"overflow-x: scroll;\"><table class = \"data-frame\" style = \"margin-bottom: 6px;\"><thead><tr class = \"header\"><th class = \"rowNumber\" style = \"font-weight: bold; text-align: right;\">Row</th><th style = \"text-align: left;\">Restaurant_Item_Name</th><th style = \"text-align: left;\">Food_Category</th><th style = \"text-align: left;\">Calories</th><th style = \"text-align: left;\">Total_Fat</th><th style = \"text-align: left;\">Saturated_Fat</th><th style = \"text-align: left;\">Trans_Fat</th><th style = \"text-align: left;\">Cholesterol</th><th style = \"text-align: left;\">Sodium</th><th style = \"text-align: left;\">Carbohydrates</th><th style = \"text-align: left;\">Protein</th><th style = \"text-align: left;\">Sugar</th><th style = \"text-align: left;\">Fiber</th></tr><tr class = \"subheader headerLastRow\"><th class = \"rowNumber\" style = \"font-weight: bold; text-align: right;\"></th><th title = \"String\" style = \"text-align: left;\">String</th><th title = \"String31\" style = \"text-align: left;\">String31</th><th title = \"Float64\" style = \"text-align: left;\">Float64</th><th title = \"Float64\" style = \"text-align: left;\">Float64</th><th title = \"Float64\" style = \"text-align: left;\">Float64</th><th title = \"Float64\" style = \"text-align: left;\">Float64</th><th title = \"Float64\" style = \"text-align: left;\">Float64</th><th title = \"Float64\" style = \"text-align: left;\">Float64</th><th title = \"Float64\" style = \"text-align: left;\">Float64</th><th title = \"Float64\" style = \"text-align: left;\">Float64</th><th title = \"Float64\" style = \"text-align: left;\">Float64</th><th title = \"Float64\" style = \"text-align: left;\">Float64</th></tr></thead><tbody><tr><td class = \"rowNumber\" style = \"font-weight: bold; text-align: right;\">1</td><td style = \"text-align: left;\">McDonald&apos;s Dr Pepper Large</td><td style = \"text-align: left;\">Beverages</td><td style = \"text-align: right;\">290.0</td><td style = \"text-align: right;\">0.0</td><td style = \"text-align: right;\">0.0</td><td style = \"text-align: right;\">0.0</td><td style = \"text-align: right;\">0.0</td><td style = \"text-align: right;\">95.0</td><td style = \"text-align: right;\">79.0</td><td style = \"text-align: right;\">0.0</td><td style = \"text-align: right;\">78.0</td><td style = \"text-align: right;\">0.0</td></tr><tr><td class = \"rowNumber\" style = \"font-weight: bold; text-align: right;\">2</td><td style = \"text-align: left;\">McDonald&apos;s Dr Pepper Medium</td><td style = \"text-align: left;\">Beverages</td><td style = \"text-align: right;\">210.0</td><td style = \"text-align: right;\">0.0</td><td style = \"text-align: right;\">0.0</td><td style = \"text-align: right;\">0.0</td><td style = \"text-align: right;\">0.0</td><td style = \"text-align: right;\">70.0</td><td style = \"text-align: right;\">58.0</td><td style = \"text-align: right;\">0.0</td><td style = \"text-align: right;\">57.0</td><td style = \"text-align: right;\">0.0</td></tr><tr><td class = \"rowNumber\" style = \"font-weight: bold; text-align: right;\">3</td><td style = \"text-align: left;\">McDonald&apos;s Tangy Barbeque Sauce</td><td style = \"text-align: left;\">Toppings &amp; Ingredients</td><td style = \"text-align: right;\">45.0</td><td style = \"text-align: right;\">0.0</td><td style = \"text-align: right;\">0.0</td><td style = \"text-align: right;\">0.0</td><td style = \"text-align: right;\">0.0</td><td style = \"text-align: right;\">260.0</td><td style = \"text-align: right;\">11.0</td><td style = \"text-align: right;\">0.0</td><td style = \"text-align: right;\">9.0</td><td style = \"text-align: right;\">0.0</td></tr><tr><td class = \"rowNumber\" style = \"font-weight: bold; text-align: right;\">4</td><td style = \"text-align: left;\">McDonald&apos;s Sweet N Sour Sauce</td><td style = \"text-align: left;\">Toppings &amp; Ingredients</td><td style = \"text-align: right;\">50.0</td><td style = \"text-align: right;\">0.0</td><td style = \"text-align: right;\">0.0</td><td style = \"text-align: right;\">0.0</td><td style = \"text-align: right;\">0.0</td><td style = \"text-align: right;\">160.0</td><td style = \"text-align: right;\">11.0</td><td style = \"text-align: right;\">1.0</td><td style = \"text-align: right;\">9.0</td><td style = \"text-align: right;\">0.0</td></tr><tr><td class = \"rowNumber\" style = \"font-weight: bold; text-align: right;\">5</td><td style = \"text-align: left;\">McDonald&apos;s Hamburger</td><td style = \"text-align: left;\">Burgers</td><td style = \"text-align: right;\">250.0</td><td style = \"text-align: right;\">8.0</td><td style = \"text-align: right;\">3.0</td><td style = \"text-align: right;\">0.0</td><td style = \"text-align: right;\">30.0</td><td style = \"text-align: right;\">480.0</td><td style = \"text-align: right;\">31.0</td><td style = \"text-align: right;\">13.0</td><td style = \"text-align: right;\">6.0</td><td style = \"text-align: right;\">2.0</td></tr><tr><td class = \"rowNumber\" style = \"font-weight: bold; text-align: right;\">6</td><td style = \"text-align: left;\">McDonald&apos;s Cheeseburger</td><td style = \"text-align: left;\">Burgers</td><td style = \"text-align: right;\">300.0</td><td style = \"text-align: right;\">12.0</td><td style = \"text-align: right;\">5.0</td><td style = \"text-align: right;\">0.5</td><td style = \"text-align: right;\">40.0</td><td style = \"text-align: right;\">680.0</td><td style = \"text-align: right;\">33.0</td><td style = \"text-align: right;\">15.0</td><td style = \"text-align: right;\">7.0</td><td style = \"text-align: right;\">2.0</td></tr><tr><td class = \"rowNumber\" style = \"font-weight: bold; text-align: right;\">7</td><td style = \"text-align: left;\">McDonald&apos;s Double Cheeseburger</td><td style = \"text-align: left;\">Burgers</td><td style = \"text-align: right;\">430.0</td><td style = \"text-align: right;\">21.0</td><td style = \"text-align: right;\">11.0</td><td style = \"text-align: right;\">1.0</td><td style = \"text-align: right;\">85.0</td><td style = \"text-align: right;\">1040.0</td><td style = \"text-align: right;\">35.0</td><td style = \"text-align: right;\">25.0</td><td style = \"text-align: right;\">7.0</td><td style = \"text-align: right;\">2.0</td></tr><tr><td class = \"rowNumber\" style = \"font-weight: bold; text-align: right;\">8</td><td style = \"text-align: left;\">McDonald&apos;s Quarter Pounder w/ Cheese</td><td style = \"text-align: left;\">Burgers</td><td style = \"text-align: right;\">530.0</td><td style = \"text-align: right;\">27.0</td><td style = \"text-align: right;\">13.0</td><td style = \"text-align: right;\">1.5</td><td style = \"text-align: right;\">100.0</td><td style = \"text-align: right;\">1090.0</td><td style = \"text-align: right;\">41.0</td><td style = \"text-align: right;\">31.0</td><td style = \"text-align: right;\">10.0</td><td style = \"text-align: right;\">3.0</td></tr><tr><td class = \"rowNumber\" style = \"font-weight: bold; text-align: right;\">9</td><td style = \"text-align: left;\">McDonald&apos;s Big Mac</td><td style = \"text-align: left;\">Burgers</td><td style = \"text-align: right;\">540.0</td><td style = \"text-align: right;\">28.0</td><td style = \"text-align: right;\">10.0</td><td style = \"text-align: right;\">1.0</td><td style = \"text-align: right;\">80.0</td><td style = \"text-align: right;\">950.0</td><td style = \"text-align: right;\">46.0</td><td style = \"text-align: right;\">25.0</td><td style = \"text-align: right;\">9.0</td><td style = \"text-align: right;\">3.0</td></tr><tr><td class = \"rowNumber\" style = \"font-weight: bold; text-align: right;\">10</td><td style = \"text-align: left;\">McDonald&apos;s Double Quarter Pounder w/ Cheese</td><td style = \"text-align: left;\">Burgers</td><td style = \"text-align: right;\">770.0</td><td style = \"text-align: right;\">45.0</td><td style = \"text-align: right;\">21.0</td><td style = \"text-align: right;\">2.5</td><td style = \"text-align: right;\">175.0</td><td style = \"text-align: right;\">1290.0</td><td style = \"text-align: right;\">42.0</td><td style = \"text-align: right;\">51.0</td><td style = \"text-align: right;\">10.0</td><td style = \"text-align: right;\">3.0</td></tr><tr><td class = \"rowNumber\" style = \"font-weight: bold; text-align: right;\">11</td><td style = \"text-align: left;\">McDonald&apos;s McChicken</td><td style = \"text-align: left;\">Sandwiches</td><td style = \"text-align: right;\">350.0</td><td style = \"text-align: right;\">15.0</td><td style = \"text-align: right;\">3.5</td><td style = \"text-align: right;\">0.0</td><td style = \"text-align: right;\">40.0</td><td style = \"text-align: right;\">600.0</td><td style = \"text-align: right;\">40.0</td><td style = \"text-align: right;\">15.0</td><td style = \"text-align: right;\">5.0</td><td style = \"text-align: right;\">2.0</td></tr><tr><td class = \"rowNumber\" style = \"font-weight: bold; text-align: right;\">12</td><td style = \"text-align: left;\">McDonald&apos;s Filet O Fish</td><td style = \"text-align: left;\">Sandwiches</td><td style = \"text-align: right;\">390.0</td><td style = \"text-align: right;\">19.0</td><td style = \"text-align: right;\">4.0</td><td style = \"text-align: right;\">0.0</td><td style = \"text-align: right;\">45.0</td><td style = \"text-align: right;\">560.0</td><td style = \"text-align: right;\">38.0</td><td style = \"text-align: right;\">17.0</td><td style = \"text-align: right;\">5.0</td><td style = \"text-align: right;\">2.0</td></tr><tr><td class = \"rowNumber\" style = \"font-weight: bold; text-align: right;\">13</td><td style = \"text-align: left;\">McDonald&apos;s Sausage Biscuit w/ Egg Large</td><td style = \"text-align: left;\">Sandwiches</td><td style = \"text-align: right;\">530.0</td><td style = \"text-align: right;\">34.0</td><td style = \"text-align: right;\">14.0</td><td style = \"text-align: right;\">0.0</td><td style = \"text-align: right;\">210.0</td><td style = \"text-align: right;\">1160.0</td><td style = \"text-align: right;\">38.0</td><td style = \"text-align: right;\">17.0</td><td style = \"text-align: right;\">3.0</td><td style = \"text-align: right;\">2.0</td></tr><tr><td style = \"text-align: right;\">&vellip;</td><td style = \"text-align: right;\">&vellip;</td><td style = \"text-align: right;\">&vellip;</td><td style = \"text-align: right;\">&vellip;</td><td style = \"text-align: right;\">&vellip;</td><td style = \"text-align: right;\">&vellip;</td><td style = \"text-align: right;\">&vellip;</td><td style = \"text-align: right;\">&vellip;</td><td style = \"text-align: right;\">&vellip;</td><td style = \"text-align: right;\">&vellip;</td><td style = \"text-align: right;\">&vellip;</td><td style = \"text-align: right;\">&vellip;</td><td style = \"text-align: right;\">&vellip;</td></tr><tr><td class = \"rowNumber\" style = \"font-weight: bold; text-align: right;\">432</td><td style = \"text-align: left;\">McDonald&apos;s Filet O Fish</td><td style = \"text-align: left;\">Sandwiches</td><td style = \"text-align: right;\">410.0</td><td style = \"text-align: right;\">20.0</td><td style = \"text-align: right;\">5.0</td><td style = \"text-align: right;\">0.0</td><td style = \"text-align: right;\">50.0</td><td style = \"text-align: right;\">660.0</td><td style = \"text-align: right;\">39.0</td><td style = \"text-align: right;\">18.0</td><td style = \"text-align: right;\">5.0</td><td style = \"text-align: right;\">2.0</td></tr><tr><td class = \"rowNumber\" style = \"font-weight: bold; text-align: right;\">433</td><td style = \"text-align: left;\">McDonald&apos;s Extra Value Meal w/ Egg McMuffin</td><td style = \"text-align: left;\">Entrees</td><td style = \"text-align: right;\">450.0</td><td style = \"text-align: right;\">21.0</td><td style = \"text-align: right;\">7.0</td><td style = \"text-align: right;\">0.0</td><td style = \"text-align: right;\">245.0</td><td style = \"text-align: right;\">1070.0</td><td style = \"text-align: right;\">47.0</td><td style = \"text-align: right;\">21.0</td><td style = \"text-align: right;\">3.0</td><td style = \"text-align: right;\">3.0</td></tr><tr><td class = \"rowNumber\" style = \"font-weight: bold; text-align: right;\">434</td><td style = \"text-align: left;\">McDonald&apos;s McCafe Cappuccino w/ Whole Milk Small</td><td style = \"text-align: left;\">Beverages</td><td style = \"text-align: right;\">120.0</td><td style = \"text-align: right;\">6.0</td><td style = \"text-align: right;\">3.5</td><td style = \"text-align: right;\">0.0</td><td style = \"text-align: right;\">20.0</td><td style = \"text-align: right;\">80.0</td><td style = \"text-align: right;\">9.0</td><td style = \"text-align: right;\">6.0</td><td style = \"text-align: right;\">9.0</td><td style = \"text-align: right;\">0.0</td></tr><tr><td class = \"rowNumber\" style = \"font-weight: bold; text-align: right;\">435</td><td style = \"text-align: left;\">McDonald&apos;s Coca Cola Large</td><td style = \"text-align: left;\">Beverages</td><td style = \"text-align: right;\">290.0</td><td style = \"text-align: right;\">0.0</td><td style = \"text-align: right;\">0.0</td><td style = \"text-align: right;\">0.0</td><td style = \"text-align: right;\">0.0</td><td style = \"text-align: right;\">70.0</td><td style = \"text-align: right;\">77.0</td><td style = \"text-align: right;\">0.0</td><td style = \"text-align: right;\">77.0</td><td style = \"text-align: right;\">0.0</td></tr><tr><td class = \"rowNumber\" style = \"font-weight: bold; text-align: right;\">436</td><td style = \"text-align: left;\">McDonald&apos;s McCafe French Vanilla Iced Coffee w/ Light Cream Large</td><td style = \"text-align: left;\">Beverages</td><td style = \"text-align: right;\">220.0</td><td style = \"text-align: right;\">7.0</td><td style = \"text-align: right;\">4.5</td><td style = \"text-align: right;\">0.0</td><td style = \"text-align: right;\">30.0</td><td style = \"text-align: right;\">85.0</td><td style = \"text-align: right;\">40.0</td><td style = \"text-align: right;\">3.0</td><td style = \"text-align: right;\">37.0</td><td style = \"text-align: right;\">0.0</td></tr><tr><td class = \"rowNumber\" style = \"font-weight: bold; text-align: right;\">437</td><td style = \"text-align: left;\">McDonald&apos;s Extra Value Meal w/ 4 Pc Nuggets Medium Coke &amp; Medium Fries</td><td style = \"text-align: left;\">Entrees</td><td style = \"text-align: right;\">730.0</td><td style = \"text-align: right;\">27.0</td><td style = \"text-align: right;\">4.0</td><td style = \"text-align: right;\">0.0</td><td style = \"text-align: right;\">30.0</td><td style = \"text-align: right;\">620.0</td><td style = \"text-align: right;\">111.0</td><td style = \"text-align: right;\">14.0</td><td style = \"text-align: right;\">57.0</td><td style = \"text-align: right;\">5.0</td></tr><tr><td class = \"rowNumber\" style = \"font-weight: bold; text-align: right;\">438</td><td style = \"text-align: left;\">McDonald&apos;s McCafe Caramel Frappe Large</td><td style = \"text-align: left;\">Beverages</td><td style = \"text-align: right;\">670.0</td><td style = \"text-align: right;\">27.0</td><td style = \"text-align: right;\">17.0</td><td style = \"text-align: right;\">1.0</td><td style = \"text-align: right;\">95.0</td><td style = \"text-align: right;\">200.0</td><td style = \"text-align: right;\">96.0</td><td style = \"text-align: right;\">11.0</td><td style = \"text-align: right;\">89.0</td><td style = \"text-align: right;\">0.0</td></tr><tr><td class = \"rowNumber\" style = \"font-weight: bold; text-align: right;\">439</td><td style = \"text-align: left;\">McDonald&apos;s McCafe Frappe Chocolate Chip Small</td><td style = \"text-align: left;\">Beverages</td><td style = \"text-align: right;\">500.0</td><td style = \"text-align: right;\">22.0</td><td style = \"text-align: right;\">14.0</td><td style = \"text-align: right;\">1.0</td><td style = \"text-align: right;\">65.0</td><td style = \"text-align: right;\">130.0</td><td style = \"text-align: right;\">72.0</td><td style = \"text-align: right;\">8.0</td><td style = \"text-align: right;\">64.0</td><td style = \"text-align: right;\">1.0</td></tr><tr><td class = \"rowNumber\" style = \"font-weight: bold; text-align: right;\">440</td><td style = \"text-align: left;\">McDonald&apos;s Powerade Mountain Berry Blast Extra Small</td><td style = \"text-align: left;\">Beverages</td><td style = \"text-align: right;\">90.0</td><td style = \"text-align: right;\">0.0</td><td style = \"text-align: right;\">0.0</td><td style = \"text-align: right;\">0.0</td><td style = \"text-align: right;\">0.0</td><td style = \"text-align: right;\">110.0</td><td style = \"text-align: right;\">22.0</td><td style = \"text-align: right;\">0.0</td><td style = \"text-align: right;\">22.0</td><td style = \"text-align: right;\">0.0</td></tr><tr><td class = \"rowNumber\" style = \"font-weight: bold; text-align: right;\">441</td><td style = \"text-align: left;\">McDonald&apos;s Sausage Biscuit</td><td style = \"text-align: left;\">Sandwiches</td><td style = \"text-align: right;\">460.0</td><td style = \"text-align: right;\">30.0</td><td style = \"text-align: right;\">13.0</td><td style = \"text-align: right;\">0.0</td><td style = \"text-align: right;\">40.0</td><td style = \"text-align: right;\">1050.0</td><td style = \"text-align: right;\">36.0</td><td style = \"text-align: right;\">11.0</td><td style = \"text-align: right;\">3.0</td><td style = \"text-align: right;\">2.0</td></tr><tr><td class = \"rowNumber\" style = \"font-weight: bold; text-align: right;\">442</td><td style = \"text-align: left;\">McDonald&apos;s Bacon Egg &amp; Cheese Biscuit</td><td style = \"text-align: left;\">Sandwiches</td><td style = \"text-align: right;\">450.0</td><td style = \"text-align: right;\">24.0</td><td style = \"text-align: right;\">12.0</td><td style = \"text-align: right;\">0.0</td><td style = \"text-align: right;\">200.0</td><td style = \"text-align: right;\">1290.0</td><td style = \"text-align: right;\">40.0</td><td style = \"text-align: right;\">18.0</td><td style = \"text-align: right;\">3.0</td><td style = \"text-align: right;\">3.0</td></tr><tr><td class = \"rowNumber\" style = \"font-weight: bold; text-align: right;\">443</td><td style = \"text-align: left;\">McDonald&apos;s Steak Egg &amp; Cheese Biscuit</td><td style = \"text-align: left;\">Sandwiches</td><td style = \"text-align: right;\">530.0</td><td style = \"text-align: right;\">30.0</td><td style = \"text-align: right;\">15.0</td><td style = \"text-align: right;\">1.0</td><td style = \"text-align: right;\">230.0</td><td style = \"text-align: right;\">1490.0</td><td style = \"text-align: right;\">40.0</td><td style = \"text-align: right;\">25.0</td><td style = \"text-align: right;\">4.0</td><td style = \"text-align: right;\">3.0</td></tr></tbody></table></div>"
      ],
      "text/latex": [
       "\\begin{tabular}{r|ccc}\n",
       "\t& Restaurant\\_Item\\_Name & Food\\_Category & \\\\\n",
       "\t\\hline\n",
       "\t& String & String31 & \\\\\n",
       "\t\\hline\n",
       "\t1 & McDonald's Dr Pepper Large & Beverages & $\\dots$ \\\\\n",
       "\t2 & McDonald's Dr Pepper Medium & Beverages & $\\dots$ \\\\\n",
       "\t3 & McDonald's Tangy Barbeque Sauce & Toppings \\& Ingredients & $\\dots$ \\\\\n",
       "\t4 & McDonald's Sweet N Sour Sauce & Toppings \\& Ingredients & $\\dots$ \\\\\n",
       "\t5 & McDonald's Hamburger & Burgers & $\\dots$ \\\\\n",
       "\t6 & McDonald's Cheeseburger & Burgers & $\\dots$ \\\\\n",
       "\t7 & McDonald's Double Cheeseburger & Burgers & $\\dots$ \\\\\n",
       "\t8 & McDonald's Quarter Pounder w/ Cheese & Burgers & $\\dots$ \\\\\n",
       "\t9 & McDonald's Big Mac & Burgers & $\\dots$ \\\\\n",
       "\t10 & McDonald's Double Quarter Pounder w/ Cheese & Burgers & $\\dots$ \\\\\n",
       "\t11 & McDonald's McChicken & Sandwiches & $\\dots$ \\\\\n",
       "\t12 & McDonald's Filet O Fish & Sandwiches & $\\dots$ \\\\\n",
       "\t13 & McDonald's Sausage Biscuit w/ Egg Large & Sandwiches & $\\dots$ \\\\\n",
       "\t14 & McDonald's Egg McMuffin & Sandwiches & $\\dots$ \\\\\n",
       "\t15 & McDonald's Sausage McMuffin & Sandwiches & $\\dots$ \\\\\n",
       "\t16 & McDonald's Sausage McMuffin w/ Egg & Sandwiches & $\\dots$ \\\\\n",
       "\t17 & McDonald's Bacon Egg \\& Cheese Regular & Sandwiches & $\\dots$ \\\\\n",
       "\t18 & McDonald's Bacon Egg \\& Cheese on Scratch Biscuit Large & Sandwiches & $\\dots$ \\\\\n",
       "\t19 & McDonald's Sausage Biscuit w/ Egg Regular & Sandwiches & $\\dots$ \\\\\n",
       "\t20 & McDonald's Sausage Biscuit Regular & Sandwiches & $\\dots$ \\\\\n",
       "\t21 & McDonald's Sausage Biscuit on Scratch Biscuit Large & Sandwiches & $\\dots$ \\\\\n",
       "\t22 & McDonald's Sausage Burrito & Sandwiches & $\\dots$ \\\\\n",
       "\t23 & McDonald's 4 Chicken McNuggets & Entrees & $\\dots$ \\\\\n",
       "\t24 & McDonald's 6 Chicken McNuggets & Entrees & $\\dots$ \\\\\n",
       "\t25 & McDonald's 10 Chicken McNuggets & Entrees & $\\dots$ \\\\\n",
       "\t26 & McDonald's French Fries Small & Fried Potatoes & $\\dots$ \\\\\n",
       "\t27 & McDonald's French Fries Medium & Fried Potatoes & $\\dots$ \\\\\n",
       "\t28 & McDonald's French Fries Large & Fried Potatoes & $\\dots$ \\\\\n",
       "\t29 & McDonald's Bacon Ranch Salad w/ Grilled Chicken & Salads & $\\dots$ \\\\\n",
       "\t30 & McDonald's Bacon Ranch Salad w/ Buttermilk Crispy Chicken & Salads & $\\dots$ \\\\\n",
       "\t$\\dots$ & $\\dots$ & $\\dots$ &  \\\\\n",
       "\\end{tabular}\n"
      ],
      "text/plain": [
       "\u001b[1m443×12 DataFrame\u001b[0m\n",
       "\u001b[1m Row \u001b[0m│\u001b[1m Restaurant_Item_Name              \u001b[0m\u001b[1m Food_Category          \u001b[0m\u001b[1m Calories \u001b[0m\u001b[1m To\u001b[0m ⋯\n",
       "     │\u001b[90m String                            \u001b[0m\u001b[90m String31               \u001b[0m\u001b[90m Float64  \u001b[0m\u001b[90m Fl\u001b[0m ⋯\n",
       "─────┼──────────────────────────────────────────────────────────────────────────\n",
       "   1 │ McDonald's Dr Pepper Large         Beverages                  290.0     ⋯\n",
       "   2 │ McDonald's Dr Pepper Medium        Beverages                  210.0\n",
       "   3 │ McDonald's Tangy Barbeque Sauce    Toppings & Ingredients      45.0\n",
       "   4 │ McDonald's Sweet N Sour Sauce      Toppings & Ingredients      50.0\n",
       "   5 │ McDonald's Hamburger               Burgers                    250.0     ⋯\n",
       "   6 │ McDonald's Cheeseburger            Burgers                    300.0\n",
       "   7 │ McDonald's Double Cheeseburger     Burgers                    430.0\n",
       "   8 │ McDonald's Quarter Pounder w/ Ch…  Burgers                    530.0\n",
       "   9 │ McDonald's Big Mac                 Burgers                    540.0     ⋯\n",
       "  10 │ McDonald's Double Quarter Pounde…  Burgers                    770.0\n",
       "  11 │ McDonald's McChicken               Sandwiches                 350.0\n",
       "  ⋮  │                 ⋮                            ⋮                ⋮         ⋱\n",
       " 434 │ McDonald's McCafe Cappuccino w/ …  Beverages                  120.0\n",
       " 435 │ McDonald's Coca Cola Large         Beverages                  290.0     ⋯\n",
       " 436 │ McDonald's McCafe French Vanilla…  Beverages                  220.0\n",
       " 437 │ McDonald's Extra Value Meal w/ 4…  Entrees                    730.0\n",
       " 438 │ McDonald's McCafe Caramel Frappe…  Beverages                  670.0\n",
       " 439 │ McDonald's McCafe Frappe Chocola…  Beverages                  500.0     ⋯\n",
       " 440 │ McDonald's Powerade Mountain Ber…  Beverages                   90.0\n",
       " 441 │ McDonald's Sausage Biscuit         Sandwiches                 460.0\n",
       " 442 │ McDonald's Bacon Egg & Cheese Bi…  Sandwiches                 450.0\n",
       " 443 │ McDonald's Steak Egg & Cheese Bi…  Sandwiches                 530.0     ⋯\n",
       "\u001b[36m                                                  9 columns and 422 rows omitted\u001b[0m"
      ]
     },
     "execution_count": 6,
     "metadata": {},
     "output_type": "execute_result"
    }
   ],
   "source": [
    "# Rename Dietary_Fiber column to match name in nutrient_limits\n",
    "\n",
    "rename!(df_mcdonalds_menu, :Dietary_Fiber => :Fiber)"
   ]
  },
  {
   "cell_type": "markdown",
   "id": "cc1b450d",
   "metadata": {},
   "source": [
    "### Convert categorical data to the CategoricalArray data type"
   ]
  },
  {
   "cell_type": "code",
   "execution_count": 7,
   "id": "aabff423",
   "metadata": {},
   "outputs": [
    {
     "data": {
      "text/plain": [
       "9-element Vector{Int64}:\n",
       " 8\n",
       " 5\n",
       " 9\n",
       " 2\n",
       " 6\n",
       " 1\n",
       " 4\n",
       " 7\n",
       " 3"
      ]
     },
     "execution_count": 7,
     "metadata": {},
     "output_type": "execute_result"
    }
   ],
   "source": [
    "df_mcdonalds_menu.Restaurant_Item_Name = categorical(df_mcdonalds_menu.Restaurant_Item_Name)\n",
    "df_mcdonalds_menu.Food_Category = categorical(df_mcdonalds_menu.Food_Category)\n",
    "\n",
    "df_nutrient_limits.Nutrient = categorical(df_nutrient_limits.Nutrient)\n",
    "\n",
    "# Add numeric versions\n",
    "df_mcdonalds_menu.Restaurant_Item_Name_Num = levelcode.(df_mcdonalds_menu.Restaurant_Item_Name)\n",
    "df_mcdonalds_menu.Food_Category_Num = levelcode.(df_mcdonalds_menu.Food_Category)\n",
    "\n",
    "df_nutrient_limits.Nutrient_Num = levelcode.(df_nutrient_limits.Nutrient)\n"
   ]
  },
  {
   "cell_type": "markdown",
   "id": "b5ad54ea",
   "metadata": {},
   "source": [
    "### Fill in missing data"
   ]
  },
  {
   "cell_type": "code",
   "execution_count": 8,
   "id": "dfdd3ada",
   "metadata": {},
   "outputs": [
    {
     "data": {
      "text/plain": [
       "9-element Vector{Int64}:\n",
       "  70\n",
       "  20\n",
       "   0\n",
       "   0\n",
       "   0\n",
       " 225\n",
       "  50\n",
       "   0\n",
       "  25"
      ]
     },
     "execution_count": 8,
     "metadata": {},
     "output_type": "execute_result"
    }
   ],
   "source": [
    "df_nutrient_limits.Lower_Limit = coalesce.(df_nutrient_limits.Lower_Limit, 0)"
   ]
  },
  {
   "cell_type": "markdown",
   "id": "e8ede8e4",
   "metadata": {},
   "source": [
    "## Applying Linear Optimization "
   ]
  },
  {
   "cell_type": "code",
   "execution_count": 9,
   "id": "f13b2646",
   "metadata": {},
   "outputs": [
    {
     "data": {
      "text/html": [
       "<div><div style = \"float: left;\"><span>331×14 DataFrame</span></div><div style = \"float: right;\"><span style = \"font-style: italic;\">306 rows omitted</span></div><div style = \"clear: both;\"></div></div><div class = \"data-frame\" style = \"overflow-x: scroll;\"><table class = \"data-frame\" style = \"margin-bottom: 6px;\"><thead><tr class = \"header\"><th class = \"rowNumber\" style = \"font-weight: bold; text-align: right;\">Row</th><th style = \"text-align: left;\">Restaurant_Item_Name</th><th style = \"text-align: left;\">Food_Category</th><th style = \"text-align: left;\">Calories</th><th style = \"text-align: left;\">Total_Fat</th><th style = \"text-align: left;\">Saturated_Fat</th><th style = \"text-align: left;\">Trans_Fat</th><th style = \"text-align: left;\">Cholesterol</th><th style = \"text-align: left;\">Sodium</th><th style = \"text-align: left;\">Carbohydrates</th><th style = \"text-align: left;\">Protein</th><th style = \"text-align: left;\">Sugar</th><th style = \"text-align: left;\">Fiber</th><th style = \"text-align: left;\">Restaurant_Item_Name_Num</th><th style = \"text-align: left;\">Food_Category_Num</th></tr><tr class = \"subheader headerLastRow\"><th class = \"rowNumber\" style = \"font-weight: bold; text-align: right;\"></th><th title = \"CategoricalValue{String, UInt32}\" style = \"text-align: left;\">Cat…</th><th title = \"CategoricalValue{String31, UInt32}\" style = \"text-align: left;\">Cat…</th><th title = \"Float64\" style = \"text-align: left;\">Float64</th><th title = \"Float64\" style = \"text-align: left;\">Float64</th><th title = \"Float64\" style = \"text-align: left;\">Float64</th><th title = \"Float64\" style = \"text-align: left;\">Float64</th><th title = \"Float64\" style = \"text-align: left;\">Float64</th><th title = \"Float64\" style = \"text-align: left;\">Float64</th><th title = \"Float64\" style = \"text-align: left;\">Float64</th><th title = \"Float64\" style = \"text-align: left;\">Float64</th><th title = \"Float64\" style = \"text-align: left;\">Float64</th><th title = \"Float64\" style = \"text-align: left;\">Float64</th><th title = \"Int64\" style = \"text-align: left;\">Int64</th><th title = \"Int64\" style = \"text-align: left;\">Int64</th></tr></thead><tbody><tr><td class = \"rowNumber\" style = \"font-weight: bold; text-align: right;\">1</td><td style = \"text-align: left;\">McDonald&apos;s Dr Pepper Large</td><td style = \"text-align: left;\">Beverages</td><td style = \"text-align: right;\">290.0</td><td style = \"text-align: right;\">0.0</td><td style = \"text-align: right;\">0.0</td><td style = \"text-align: right;\">0.0</td><td style = \"text-align: right;\">0.0</td><td style = \"text-align: right;\">95.0</td><td style = \"text-align: right;\">79.0</td><td style = \"text-align: right;\">0.0</td><td style = \"text-align: right;\">78.0</td><td style = \"text-align: right;\">0.0</td><td style = \"text-align: right;\">45</td><td style = \"text-align: right;\">2</td></tr><tr><td class = \"rowNumber\" style = \"font-weight: bold; text-align: right;\">2</td><td style = \"text-align: left;\">McDonald&apos;s Dr Pepper Medium</td><td style = \"text-align: left;\">Beverages</td><td style = \"text-align: right;\">210.0</td><td style = \"text-align: right;\">0.0</td><td style = \"text-align: right;\">0.0</td><td style = \"text-align: right;\">0.0</td><td style = \"text-align: right;\">0.0</td><td style = \"text-align: right;\">70.0</td><td style = \"text-align: right;\">58.0</td><td style = \"text-align: right;\">0.0</td><td style = \"text-align: right;\">57.0</td><td style = \"text-align: right;\">0.0</td><td style = \"text-align: right;\">46</td><td style = \"text-align: right;\">2</td></tr><tr><td class = \"rowNumber\" style = \"font-weight: bold; text-align: right;\">3</td><td style = \"text-align: left;\">McDonald&apos;s Tangy Barbeque Sauce</td><td style = \"text-align: left;\">Toppings &amp; Ingredients</td><td style = \"text-align: right;\">45.0</td><td style = \"text-align: right;\">0.0</td><td style = \"text-align: right;\">0.0</td><td style = \"text-align: right;\">0.0</td><td style = \"text-align: right;\">0.0</td><td style = \"text-align: right;\">260.0</td><td style = \"text-align: right;\">11.0</td><td style = \"text-align: right;\">0.0</td><td style = \"text-align: right;\">9.0</td><td style = \"text-align: right;\">0.0</td><td style = \"text-align: right;\">391</td><td style = \"text-align: right;\">9</td></tr><tr><td class = \"rowNumber\" style = \"font-weight: bold; text-align: right;\">4</td><td style = \"text-align: left;\">McDonald&apos;s Sweet N Sour Sauce</td><td style = \"text-align: left;\">Toppings &amp; Ingredients</td><td style = \"text-align: right;\">50.0</td><td style = \"text-align: right;\">0.0</td><td style = \"text-align: right;\">0.0</td><td style = \"text-align: right;\">0.0</td><td style = \"text-align: right;\">0.0</td><td style = \"text-align: right;\">160.0</td><td style = \"text-align: right;\">11.0</td><td style = \"text-align: right;\">1.0</td><td style = \"text-align: right;\">9.0</td><td style = \"text-align: right;\">0.0</td><td style = \"text-align: right;\">386</td><td style = \"text-align: right;\">9</td></tr><tr><td class = \"rowNumber\" style = \"font-weight: bold; text-align: right;\">5</td><td style = \"text-align: left;\">McDonald&apos;s French Fries Small</td><td style = \"text-align: left;\">Fried Potatoes</td><td style = \"text-align: right;\">230.0</td><td style = \"text-align: right;\">11.0</td><td style = \"text-align: right;\">1.5</td><td style = \"text-align: right;\">0.0</td><td style = \"text-align: right;\">0.0</td><td style = \"text-align: right;\">160.0</td><td style = \"text-align: right;\">29.0</td><td style = \"text-align: right;\">3.0</td><td style = \"text-align: right;\">0.0</td><td style = \"text-align: right;\">3.0</td><td style = \"text-align: right;\">97</td><td style = \"text-align: right;\">6</td></tr><tr><td class = \"rowNumber\" style = \"font-weight: bold; text-align: right;\">6</td><td style = \"text-align: left;\">McDonald&apos;s French Fries Medium</td><td style = \"text-align: left;\">Fried Potatoes</td><td style = \"text-align: right;\">340.0</td><td style = \"text-align: right;\">16.0</td><td style = \"text-align: right;\">2.0</td><td style = \"text-align: right;\">0.0</td><td style = \"text-align: right;\">0.0</td><td style = \"text-align: right;\">230.0</td><td style = \"text-align: right;\">44.0</td><td style = \"text-align: right;\">4.0</td><td style = \"text-align: right;\">0.0</td><td style = \"text-align: right;\">4.0</td><td style = \"text-align: right;\">96</td><td style = \"text-align: right;\">6</td></tr><tr><td class = \"rowNumber\" style = \"font-weight: bold; text-align: right;\">7</td><td style = \"text-align: left;\">McDonald&apos;s French Fries Large</td><td style = \"text-align: left;\">Fried Potatoes</td><td style = \"text-align: right;\">510.0</td><td style = \"text-align: right;\">24.0</td><td style = \"text-align: right;\">3.5</td><td style = \"text-align: right;\">0.0</td><td style = \"text-align: right;\">0.0</td><td style = \"text-align: right;\">350.0</td><td style = \"text-align: right;\">66.0</td><td style = \"text-align: right;\">7.0</td><td style = \"text-align: right;\">0.0</td><td style = \"text-align: right;\">6.0</td><td style = \"text-align: right;\">95</td><td style = \"text-align: right;\">6</td></tr><tr><td class = \"rowNumber\" style = \"font-weight: bold; text-align: right;\">8</td><td style = \"text-align: left;\">McDonald&apos;s Bacon Ranch Salad w/ Grilled Chicken</td><td style = \"text-align: left;\">Salads</td><td style = \"text-align: right;\">320.0</td><td style = \"text-align: right;\">14.0</td><td style = \"text-align: right;\">6.0</td><td style = \"text-align: right;\">0.0</td><td style = \"text-align: right;\">135.0</td><td style = \"text-align: right;\">1090.0</td><td style = \"text-align: right;\">9.0</td><td style = \"text-align: right;\">42.0</td><td style = \"text-align: right;\">4.0</td><td style = \"text-align: right;\">3.0</td><td style = \"text-align: right;\">23</td><td style = \"text-align: right;\">7</td></tr><tr><td class = \"rowNumber\" style = \"font-weight: bold; text-align: right;\">9</td><td style = \"text-align: left;\">McDonald&apos;s Bacon Ranch Salad w/ Buttermilk Crispy Chicken</td><td style = \"text-align: left;\">Salads</td><td style = \"text-align: right;\">490.0</td><td style = \"text-align: right;\">28.0</td><td style = \"text-align: right;\">8.0</td><td style = \"text-align: right;\">0.0</td><td style = \"text-align: right;\">95.0</td><td style = \"text-align: right;\">1120.0</td><td style = \"text-align: right;\">28.0</td><td style = \"text-align: right;\">33.0</td><td style = \"text-align: right;\">4.0</td><td style = \"text-align: right;\">4.0</td><td style = \"text-align: right;\">22</td><td style = \"text-align: right;\">7</td></tr><tr><td class = \"rowNumber\" style = \"font-weight: bold; text-align: right;\">10</td><td style = \"text-align: left;\">McDonald&apos;s Southwest Salad w/ Grilled Chicken</td><td style = \"text-align: left;\">Salads</td><td style = \"text-align: right;\">350.0</td><td style = \"text-align: right;\">12.0</td><td style = \"text-align: right;\">4.5</td><td style = \"text-align: right;\">0.0</td><td style = \"text-align: right;\">110.0</td><td style = \"text-align: right;\">930.0</td><td style = \"text-align: right;\">27.0</td><td style = \"text-align: right;\">37.0</td><td style = \"text-align: right;\">9.0</td><td style = \"text-align: right;\">6.0</td><td style = \"text-align: right;\">371</td><td style = \"text-align: right;\">7</td></tr><tr><td class = \"rowNumber\" style = \"font-weight: bold; text-align: right;\">11</td><td style = \"text-align: left;\">McDonald&apos;s Southwest Salad w/ Buttermilk Crispy Chicken</td><td style = \"text-align: left;\">Salads</td><td style = \"text-align: right;\">520.0</td><td style = \"text-align: right;\">25.0</td><td style = \"text-align: right;\">6.0</td><td style = \"text-align: right;\">0.0</td><td style = \"text-align: right;\">75.0</td><td style = \"text-align: right;\">960.0</td><td style = \"text-align: right;\">46.0</td><td style = \"text-align: right;\">28.0</td><td style = \"text-align: right;\">9.0</td><td style = \"text-align: right;\">8.0</td><td style = \"text-align: right;\">370</td><td style = \"text-align: right;\">7</td></tr><tr><td class = \"rowNumber\" style = \"font-weight: bold; text-align: right;\">12</td><td style = \"text-align: left;\">McDonald&apos;s Newman&apos;s Own Creamy Southwest Dressing</td><td style = \"text-align: left;\">Toppings &amp; Ingredients</td><td style = \"text-align: right;\">120.0</td><td style = \"text-align: right;\">8.0</td><td style = \"text-align: right;\">1.5</td><td style = \"text-align: right;\">0.0</td><td style = \"text-align: right;\">20.0</td><td style = \"text-align: right;\">300.0</td><td style = \"text-align: right;\">11.0</td><td style = \"text-align: right;\">1.0</td><td style = \"text-align: right;\">3.0</td><td style = \"text-align: right;\">0.0</td><td style = \"text-align: right;\">339</td><td style = \"text-align: right;\">9</td></tr><tr><td class = \"rowNumber\" style = \"font-weight: bold; text-align: right;\">13</td><td style = \"text-align: left;\">McDonald&apos;s Newman&apos;s Own Low Fat Balsamic Vinaigrette</td><td style = \"text-align: left;\">Toppings &amp; Ingredients</td><td style = \"text-align: right;\">35.0</td><td style = \"text-align: right;\">1.5</td><td style = \"text-align: right;\">0.0</td><td style = \"text-align: right;\">0.0</td><td style = \"text-align: right;\">0.0</td><td style = \"text-align: right;\">400.0</td><td style = \"text-align: right;\">5.0</td><td style = \"text-align: right;\">0.0</td><td style = \"text-align: right;\">3.0</td><td style = \"text-align: right;\">0.0</td><td style = \"text-align: right;\">340</td><td style = \"text-align: right;\">9</td></tr><tr><td style = \"text-align: right;\">&vellip;</td><td style = \"text-align: right;\">&vellip;</td><td style = \"text-align: right;\">&vellip;</td><td style = \"text-align: right;\">&vellip;</td><td style = \"text-align: right;\">&vellip;</td><td style = \"text-align: right;\">&vellip;</td><td style = \"text-align: right;\">&vellip;</td><td style = \"text-align: right;\">&vellip;</td><td style = \"text-align: right;\">&vellip;</td><td style = \"text-align: right;\">&vellip;</td><td style = \"text-align: right;\">&vellip;</td><td style = \"text-align: right;\">&vellip;</td><td style = \"text-align: right;\">&vellip;</td><td style = \"text-align: right;\">&vellip;</td><td style = \"text-align: right;\">&vellip;</td></tr><tr><td class = \"rowNumber\" style = \"font-weight: bold; text-align: right;\">320</td><td style = \"text-align: left;\">McDonald&apos;s Mayonnaise</td><td style = \"text-align: left;\">Toppings &amp; Ingredients</td><td style = \"text-align: right;\">90.0</td><td style = \"text-align: right;\">10.0</td><td style = \"text-align: right;\">1.5</td><td style = \"text-align: right;\">0.0</td><td style = \"text-align: right;\">0.0</td><td style = \"text-align: right;\">65.0</td><td style = \"text-align: right;\">0.0</td><td style = \"text-align: right;\">0.0</td><td style = \"text-align: right;\">0.0</td><td style = \"text-align: right;\">0.0</td><td style = \"text-align: right;\">126</td><td style = \"text-align: right;\">9</td></tr><tr><td class = \"rowNumber\" style = \"font-weight: bold; text-align: right;\">321</td><td style = \"text-align: left;\">McDonald&apos;s Tangy Barbeque Sauce</td><td style = \"text-align: left;\">Toppings &amp; Ingredients</td><td style = \"text-align: right;\">45.0</td><td style = \"text-align: right;\">0.0</td><td style = \"text-align: right;\">0.0</td><td style = \"text-align: right;\">0.0</td><td style = \"text-align: right;\">0.0</td><td style = \"text-align: right;\">250.0</td><td style = \"text-align: right;\">11.0</td><td style = \"text-align: right;\">0.0</td><td style = \"text-align: right;\">9.0</td><td style = \"text-align: right;\">0.0</td><td style = \"text-align: right;\">391</td><td style = \"text-align: right;\">9</td></tr><tr><td class = \"rowNumber\" style = \"font-weight: bold; text-align: right;\">322</td><td style = \"text-align: left;\">McDonald&apos;s McCafe Frappe Chocolate Chip Medium</td><td style = \"text-align: left;\">Beverages</td><td style = \"text-align: right;\">590.0</td><td style = \"text-align: right;\">33.0</td><td style = \"text-align: right;\">15.0</td><td style = \"text-align: right;\">1.5</td><td style = \"text-align: right;\">110.0</td><td style = \"text-align: right;\">960.0</td><td style = \"text-align: right;\">37.0</td><td style = \"text-align: right;\">37.0</td><td style = \"text-align: right;\">7.0</td><td style = \"text-align: right;\">2.0</td><td style = \"text-align: right;\">176</td><td style = \"text-align: right;\">2</td></tr><tr><td class = \"rowNumber\" style = \"font-weight: bold; text-align: right;\">323</td><td style = \"text-align: left;\">McDonald&apos;s McCafe French Vanilla Cappuccino w/ Whole Milk Small</td><td style = \"text-align: left;\">Beverages</td><td style = \"text-align: right;\">190.0</td><td style = \"text-align: right;\">5.0</td><td style = \"text-align: right;\">3.0</td><td style = \"text-align: right;\">0.0</td><td style = \"text-align: right;\">15.0</td><td style = \"text-align: right;\">70.0</td><td style = \"text-align: right;\">30.0</td><td style = \"text-align: right;\">6.0</td><td style = \"text-align: right;\">29.0</td><td style = \"text-align: right;\">0.0</td><td style = \"text-align: right;\">186</td><td style = \"text-align: right;\">2</td></tr><tr><td class = \"rowNumber\" style = \"font-weight: bold; text-align: right;\">324</td><td style = \"text-align: left;\">McDonald&apos;s McCafe Chocolate Shake Large</td><td style = \"text-align: left;\">Beverages</td><td style = \"text-align: right;\">850.0</td><td style = \"text-align: right;\">23.0</td><td style = \"text-align: right;\">14.0</td><td style = \"text-align: right;\">1.0</td><td style = \"text-align: right;\">90.0</td><td style = \"text-align: right;\">420.0</td><td style = \"text-align: right;\">110.0</td><td style = \"text-align: right;\">19.0</td><td style = \"text-align: right;\">122.0</td><td style = \"text-align: right;\">1.0</td><td style = \"text-align: right;\">162</td><td style = \"text-align: right;\">2</td></tr><tr><td class = \"rowNumber\" style = \"font-weight: bold; text-align: right;\">325</td><td style = \"text-align: left;\">McDonald&apos;s McCafe Mocha Frappe Large</td><td style = \"text-align: left;\">Beverages</td><td style = \"text-align: right;\">670.0</td><td style = \"text-align: right;\">26.0</td><td style = \"text-align: right;\">17.0</td><td style = \"text-align: right;\">1.0</td><td style = \"text-align: right;\">90.0</td><td style = \"text-align: right;\">190.0</td><td style = \"text-align: right;\">97.0</td><td style = \"text-align: right;\">11.0</td><td style = \"text-align: right;\">88.0</td><td style = \"text-align: right;\">1.0</td><td style = \"text-align: right;\">288</td><td style = \"text-align: right;\">2</td></tr><tr><td class = \"rowNumber\" style = \"font-weight: bold; text-align: right;\">326</td><td style = \"text-align: left;\">McDonald&apos;s McCafe Cappuccino w/ Whole Milk Small</td><td style = \"text-align: left;\">Beverages</td><td style = \"text-align: right;\">120.0</td><td style = \"text-align: right;\">6.0</td><td style = \"text-align: right;\">3.5</td><td style = \"text-align: right;\">0.0</td><td style = \"text-align: right;\">20.0</td><td style = \"text-align: right;\">80.0</td><td style = \"text-align: right;\">9.0</td><td style = \"text-align: right;\">6.0</td><td style = \"text-align: right;\">9.0</td><td style = \"text-align: right;\">0.0</td><td style = \"text-align: right;\">129</td><td style = \"text-align: right;\">2</td></tr><tr><td class = \"rowNumber\" style = \"font-weight: bold; text-align: right;\">327</td><td style = \"text-align: left;\">McDonald&apos;s Coca Cola Large</td><td style = \"text-align: left;\">Beverages</td><td style = \"text-align: right;\">290.0</td><td style = \"text-align: right;\">0.0</td><td style = \"text-align: right;\">0.0</td><td style = \"text-align: right;\">0.0</td><td style = \"text-align: right;\">0.0</td><td style = \"text-align: right;\">70.0</td><td style = \"text-align: right;\">77.0</td><td style = \"text-align: right;\">0.0</td><td style = \"text-align: right;\">77.0</td><td style = \"text-align: right;\">0.0</td><td style = \"text-align: right;\">36</td><td style = \"text-align: right;\">2</td></tr><tr><td class = \"rowNumber\" style = \"font-weight: bold; text-align: right;\">328</td><td style = \"text-align: left;\">McDonald&apos;s McCafe French Vanilla Iced Coffee w/ Light Cream Large</td><td style = \"text-align: left;\">Beverages</td><td style = \"text-align: right;\">220.0</td><td style = \"text-align: right;\">7.0</td><td style = \"text-align: right;\">4.5</td><td style = \"text-align: right;\">0.0</td><td style = \"text-align: right;\">30.0</td><td style = \"text-align: right;\">85.0</td><td style = \"text-align: right;\">40.0</td><td style = \"text-align: right;\">3.0</td><td style = \"text-align: right;\">37.0</td><td style = \"text-align: right;\">0.0</td><td style = \"text-align: right;\">187</td><td style = \"text-align: right;\">2</td></tr><tr><td class = \"rowNumber\" style = \"font-weight: bold; text-align: right;\">329</td><td style = \"text-align: left;\">McDonald&apos;s McCafe Caramel Frappe Large</td><td style = \"text-align: left;\">Beverages</td><td style = \"text-align: right;\">670.0</td><td style = \"text-align: right;\">27.0</td><td style = \"text-align: right;\">17.0</td><td style = \"text-align: right;\">1.0</td><td style = \"text-align: right;\">95.0</td><td style = \"text-align: right;\">200.0</td><td style = \"text-align: right;\">96.0</td><td style = \"text-align: right;\">11.0</td><td style = \"text-align: right;\">89.0</td><td style = \"text-align: right;\">0.0</td><td style = \"text-align: right;\">133</td><td style = \"text-align: right;\">2</td></tr><tr><td class = \"rowNumber\" style = \"font-weight: bold; text-align: right;\">330</td><td style = \"text-align: left;\">McDonald&apos;s McCafe Frappe Chocolate Chip Small</td><td style = \"text-align: left;\">Beverages</td><td style = \"text-align: right;\">500.0</td><td style = \"text-align: right;\">22.0</td><td style = \"text-align: right;\">14.0</td><td style = \"text-align: right;\">1.0</td><td style = \"text-align: right;\">65.0</td><td style = \"text-align: right;\">130.0</td><td style = \"text-align: right;\">72.0</td><td style = \"text-align: right;\">8.0</td><td style = \"text-align: right;\">64.0</td><td style = \"text-align: right;\">1.0</td><td style = \"text-align: right;\">177</td><td style = \"text-align: right;\">2</td></tr><tr><td class = \"rowNumber\" style = \"font-weight: bold; text-align: right;\">331</td><td style = \"text-align: left;\">McDonald&apos;s Powerade Mountain Berry Blast Extra Small</td><td style = \"text-align: left;\">Beverages</td><td style = \"text-align: right;\">90.0</td><td style = \"text-align: right;\">0.0</td><td style = \"text-align: right;\">0.0</td><td style = \"text-align: right;\">0.0</td><td style = \"text-align: right;\">0.0</td><td style = \"text-align: right;\">110.0</td><td style = \"text-align: right;\">22.0</td><td style = \"text-align: right;\">0.0</td><td style = \"text-align: right;\">22.0</td><td style = \"text-align: right;\">0.0</td><td style = \"text-align: right;\">351</td><td style = \"text-align: right;\">2</td></tr></tbody></table></div>"
      ],
      "text/latex": [
       "\\begin{tabular}{r|ccc}\n",
       "\t& Restaurant\\_Item\\_Name & Food\\_Category & \\\\\n",
       "\t\\hline\n",
       "\t& Cat… & Cat… & \\\\\n",
       "\t\\hline\n",
       "\t1 & McDonald's Dr Pepper Large & Beverages & $\\dots$ \\\\\n",
       "\t2 & McDonald's Dr Pepper Medium & Beverages & $\\dots$ \\\\\n",
       "\t3 & McDonald's Tangy Barbeque Sauce & Toppings \\& Ingredients & $\\dots$ \\\\\n",
       "\t4 & McDonald's Sweet N Sour Sauce & Toppings \\& Ingredients & $\\dots$ \\\\\n",
       "\t5 & McDonald's French Fries Small & Fried Potatoes & $\\dots$ \\\\\n",
       "\t6 & McDonald's French Fries Medium & Fried Potatoes & $\\dots$ \\\\\n",
       "\t7 & McDonald's French Fries Large & Fried Potatoes & $\\dots$ \\\\\n",
       "\t8 & McDonald's Bacon Ranch Salad w/ Grilled Chicken & Salads & $\\dots$ \\\\\n",
       "\t9 & McDonald's Bacon Ranch Salad w/ Buttermilk Crispy Chicken & Salads & $\\dots$ \\\\\n",
       "\t10 & McDonald's Southwest Salad w/ Grilled Chicken & Salads & $\\dots$ \\\\\n",
       "\t11 & McDonald's Southwest Salad w/ Buttermilk Crispy Chicken & Salads & $\\dots$ \\\\\n",
       "\t12 & McDonald's Newman's Own Creamy Southwest Dressing & Toppings \\& Ingredients & $\\dots$ \\\\\n",
       "\t13 & McDonald's Newman's Own Low Fat Balsamic Vinaigrette & Toppings \\& Ingredients & $\\dots$ \\\\\n",
       "\t14 & McDonald's Newman's Own Low Fat Family Recipe Italian Dressing & Toppings \\& Ingredients & $\\dots$ \\\\\n",
       "\t15 & McDonald's Newman's Own Ranch Dressing & Toppings \\& Ingredients & $\\dots$ \\\\\n",
       "\t16 & McDonald's Creamy Ranch Sauce & Toppings \\& Ingredients & $\\dots$ \\\\\n",
       "\t17 & McDonald's Honey & Toppings \\& Ingredients & $\\dots$ \\\\\n",
       "\t18 & McDonald's Hotcake Syrup & Toppings \\& Ingredients & $\\dots$ \\\\\n",
       "\t19 & McDonald's Chocolate Chip Cookie & Desserts & $\\dots$ \\\\\n",
       "\t20 & McDonald's Oatmeal Raisin Cookie & Desserts & $\\dots$ \\\\\n",
       "\t21 & McDonald's Baked Hot Apple Pie & Desserts & $\\dots$ \\\\\n",
       "\t22 & McDonald's Dr Pepper Extra Small & Beverages & $\\dots$ \\\\\n",
       "\t23 & McDonald's Side Salad & Salads & $\\dots$ \\\\\n",
       "\t24 & McDonald's Hash Brown & Fried Potatoes & $\\dots$ \\\\\n",
       "\t25 & McDonald's French Fries Kids & Fried Potatoes & $\\dots$ \\\\\n",
       "\t26 & McDonald's Kiddie Cone & Desserts & $\\dots$ \\\\\n",
       "\t27 & McDonald's Chopped Peanuts & Toppings \\& Ingredients & $\\dots$ \\\\\n",
       "\t28 & McDonald's Sugar Packet & Toppings \\& Ingredients & $\\dots$ \\\\\n",
       "\t29 & McDonald's Hot Caramel Sundae & Desserts & $\\dots$ \\\\\n",
       "\t30 & McDonald's Hot Fudge Sundae & Desserts & $\\dots$ \\\\\n",
       "\t$\\dots$ & $\\dots$ & $\\dots$ &  \\\\\n",
       "\\end{tabular}\n"
      ],
      "text/plain": [
       "\u001b[1m331×14 DataFrame\u001b[0m\n",
       "\u001b[1m Row \u001b[0m│\u001b[1m Restaurant_Item_Name              \u001b[0m\u001b[1m Food_Category          \u001b[0m\u001b[1m Calories \u001b[0m\u001b[1m To\u001b[0m ⋯\n",
       "     │\u001b[90m CategoricalValue…                 \u001b[0m\u001b[90m Categorical…           \u001b[0m\u001b[90m Float64  \u001b[0m\u001b[90m Fl\u001b[0m ⋯\n",
       "─────┼──────────────────────────────────────────────────────────────────────────\n",
       "   1 │ McDonald's Dr Pepper Large         Beverages                  290.0     ⋯\n",
       "   2 │ McDonald's Dr Pepper Medium        Beverages                  210.0\n",
       "   3 │ McDonald's Tangy Barbeque Sauce    Toppings & Ingredients      45.0\n",
       "   4 │ McDonald's Sweet N Sour Sauce      Toppings & Ingredients      50.0\n",
       "   5 │ McDonald's French Fries Small      Fried Potatoes             230.0     ⋯\n",
       "   6 │ McDonald's French Fries Medium     Fried Potatoes             340.0\n",
       "   7 │ McDonald's French Fries Large      Fried Potatoes             510.0\n",
       "   8 │ McDonald's Bacon Ranch Salad w/ …  Salads                     320.0\n",
       "   9 │ McDonald's Bacon Ranch Salad w/ …  Salads                     490.0     ⋯\n",
       "  10 │ McDonald's Southwest Salad w/ Gr…  Salads                     350.0\n",
       "  11 │ McDonald's Southwest Salad w/ Bu…  Salads                     520.0\n",
       "  ⋮  │                 ⋮                            ⋮                ⋮         ⋱\n",
       " 322 │ McDonald's McCafe Frappe Chocola…  Beverages                  590.0\n",
       " 323 │ McDonald's McCafe French Vanilla…  Beverages                  190.0     ⋯\n",
       " 324 │ McDonald's McCafe Chocolate Shak…  Beverages                  850.0\n",
       " 325 │ McDonald's McCafe Mocha Frappe L…  Beverages                  670.0\n",
       " 326 │ McDonald's McCafe Cappuccino w/ …  Beverages                  120.0\n",
       " 327 │ McDonald's Coca Cola Large         Beverages                  290.0     ⋯\n",
       " 328 │ McDonald's McCafe French Vanilla…  Beverages                  220.0\n",
       " 329 │ McDonald's McCafe Caramel Frappe…  Beverages                  670.0\n",
       " 330 │ McDonald's McCafe Frappe Chocola…  Beverages                  500.0\n",
       " 331 │ McDonald's Powerade Mountain Ber…  Beverages                   90.0     ⋯\n",
       "\u001b[36m                                                 11 columns and 310 rows omitted\u001b[0m"
      ]
     },
     "execution_count": 9,
     "metadata": {},
     "output_type": "execute_result"
    }
   ],
   "source": [
    "df_mcdonalds_menu__mains = filter((x) -> x.Food_Category in [\"Entrees\", \"Burgers\", \"Sandwiches\"], df_mcdonalds_menu)\n",
    "df_mcdonalds_menu__non_main = filter((x) -> !(x.Food_Category in [\"Entrees\", \"Burgers\", \"Sandwiches\"]), df_mcdonalds_menu)"
   ]
  },
  {
   "cell_type": "code",
   "execution_count": 19,
   "id": "983ff9d5",
   "metadata": {},
   "outputs": [],
   "source": [
    "model = Model(HiGHS.Optimizer)\n",
    "set_silent(model)"
   ]
  },
  {
   "cell_type": "code",
   "execution_count": 35,
   "id": "015efc6b",
   "metadata": {},
   "outputs": [
    {
     "data": {
      "text/plain": [
       "443-element Vector{Bool}:\n",
       " 0\n",
       " 0\n",
       " 0\n",
       " 0\n",
       " 0\n",
       " 0\n",
       " 0\n",
       " 0\n",
       " 0\n",
       " 0\n",
       " 0\n",
       " 0\n",
       " 0\n",
       " ⋮\n",
       " 1\n",
       " 1\n",
       " 0\n",
       " 1\n",
       " 0\n",
       " 0\n",
       " 0\n",
       " 0\n",
       " 1\n",
       " 0\n",
       " 0\n",
       " 0"
      ]
     },
     "execution_count": 35,
     "metadata": {},
     "output_type": "execute_result"
    }
   ],
   "source": [
    "# debug\n",
    "\n",
    "nonunique(df_mcdonalds_menu[!, [\"Restaurant_Item_Name\"]])"
   ]
  },
  {
   "cell_type": "code",
   "execution_count": 34,
   "id": "f7c4bcea",
   "metadata": {},
   "outputs": [
    {
     "data": {
      "text/plain": [
       "43-element CategoricalArray{String,1,UInt32}:\n",
       " \"McDonald's 20 Chicken McNuggets\"\n",
       " \"McDonald's Artisan Grilled Chicken Sandwich\"\n",
       " \"McDonald's Baked Hot Apple Pie\"\n",
       " \"McDonald's Big Breakfast w/ Hotcakes\"\n",
       " \"McDonald's Coca Cola Extra Small\"\n",
       " \"McDonald's Coca Cola Large\"\n",
       " \"McDonald's Coca Cola Medium\"\n",
       " \"McDonald's Coca Cola Small\"\n",
       " \"McDonald's Dr Pepper Small\"\n",
       " \"McDonald's Egg McMuffin\"\n",
       " \"McDonald's Egg White Delight McMuffin\"\n",
       " \"McDonald's Extra Value Meal w/ Bacon Egg & Cheese Biscuit\"\n",
       " \"McDonald's Extra Value Meal w/ Bacon Egg & Cheese McGriddles\"\n",
       " ⋮\n",
       " \"McDonald's Powerade Mountain Berry Blast Medium\"\n",
       " \"McDonald's Sausage McMuffin\"\n",
       " \"McDonald's Sausage McMuffin w/ Egg\"\n",
       " \"McDonald's Sprite Extra Small\"\n",
       " \"McDonald's Sprite Large\"\n",
       " \"McDonald's Sprite Medium\"\n",
       " \"McDonald's Sprite Small\"\n",
       " \"McDonald's Strawberry & Cream Pie\"\n",
       " \"McDonald's Strawberry Sundae\"\n",
       " \"McDonald's Sweet N Sour Sauce\"\n",
       " \"McDonald's Sweet Tea Extra Small\"\n",
       " \"McDonald's Tangy Barbeque Sauce\""
      ]
     },
     "execution_count": 34,
     "metadata": {},
     "output_type": "execute_result"
    }
   ],
   "source": [
    "# debug\n",
    "\n",
    "sort(df_mcdonalds_menu[nonunique(df_mcdonalds_menu[!, [\"Restaurant_Item_Name\"]]), \"Restaurant_Item_Name\"])"
   ]
  },
  {
   "cell_type": "code",
   "execution_count": 33,
   "id": "f9dc5cea",
   "metadata": {},
   "outputs": [
    {
     "data": {
      "text/plain": [
       "43-element CategoricalArray{String,1,UInt32}:\n",
       " \"McDonald's 20 Chicken McNuggets\"\n",
       " \"McDonald's Artisan Grilled Chicken Sandwich\"\n",
       " \"McDonald's Baked Hot Apple Pie\"\n",
       " \"McDonald's Big Breakfast w/ Hotcakes\"\n",
       " \"McDonald's Coca Cola Extra Small\"\n",
       " \"McDonald's Coca Cola Large\"\n",
       " \"McDonald's Coca Cola Medium\"\n",
       " \"McDonald's Coca Cola Small\"\n",
       " \"McDonald's Dr Pepper Small\"\n",
       " \"McDonald's Egg McMuffin\"\n",
       " \"McDonald's Egg White Delight McMuffin\"\n",
       " \"McDonald's Extra Value Meal w/ Bacon Egg & Cheese Biscuit\"\n",
       " \"McDonald's Extra Value Meal w/ Bacon Egg & Cheese McGriddles\"\n",
       " ⋮\n",
       " \"McDonald's Powerade Mountain Berry Blast Medium\"\n",
       " \"McDonald's Sausage McMuffin\"\n",
       " \"McDonald's Sausage McMuffin w/ Egg\"\n",
       " \"McDonald's Sprite Extra Small\"\n",
       " \"McDonald's Sprite Large\"\n",
       " \"McDonald's Sprite Medium\"\n",
       " \"McDonald's Sprite Small\"\n",
       " \"McDonald's Strawberry & Cream Pie\"\n",
       " \"McDonald's Strawberry Sundae\"\n",
       " \"McDonald's Sweet N Sour Sauce\"\n",
       " \"McDonald's Sweet Tea Extra Small\"\n",
       " \"McDonald's Tangy Barbeque Sauce\""
      ]
     },
     "execution_count": 33,
     "metadata": {},
     "output_type": "execute_result"
    }
   ],
   "source": [
    "# debug\n",
    "\n",
    "sort(df_mcdonalds_menu[findall(nonunique(df_mcdonalds_menu[!, [\"Restaurant_Item_Name\"]])), \"Restaurant_Item_Name\"])"
   ]
  },
  {
   "cell_type": "code",
   "execution_count": 22,
   "id": "c0c5680f",
   "metadata": {},
   "outputs": [
    {
     "ename": "LoadError",
     "evalue": "MethodError: no method matching nonunique(::CategoricalVector{String, UInt32, String, CategoricalValue{String, UInt32}, Union{}})\n\u001b[0mClosest candidates are:\n\u001b[0m  nonunique(\u001b[91m::AbstractDataFrame\u001b[39m; keep) at ~/.julia/packages/DataFrames/LteEl/src/abstractdataframe/unique.jl:86\n\u001b[0m  nonunique(\u001b[91m::AbstractDataFrame\u001b[39m, \u001b[91m::Any\u001b[39m; keep) at ~/.julia/packages/DataFrames/LteEl/src/abstractdataframe/unique.jl:156",
     "output_type": "error",
     "traceback": [
      "MethodError: no method matching nonunique(::CategoricalVector{String, UInt32, String, CategoricalValue{String, UInt32}, Union{}})\n\u001b[0mClosest candidates are:\n\u001b[0m  nonunique(\u001b[91m::AbstractDataFrame\u001b[39m; keep) at ~/.julia/packages/DataFrames/LteEl/src/abstractdataframe/unique.jl:86\n\u001b[0m  nonunique(\u001b[91m::AbstractDataFrame\u001b[39m, \u001b[91m::Any\u001b[39m; keep) at ~/.julia/packages/DataFrames/LteEl/src/abstractdataframe/unique.jl:156",
      "",
      "Stacktrace:",
      " [1] top-level scope",
      "   @ In[22]:3"
     ]
    }
   ],
   "source": [
    "# debug\n",
    "\n",
    "df_mcdonalds_menu[findall(nonunique(df_mcdonalds_menu.Restaurant_Item_Name)), :]"
   ]
  },
  {
   "cell_type": "code",
   "execution_count": 17,
   "id": "fd0abe48",
   "metadata": {},
   "outputs": [
    {
     "data": {
      "text/html": [
       "<div><div style = \"float: left;\"><span>0×14 DataFrame</span></div><div style = \"clear: both;\"></div></div><div class = \"data-frame\" style = \"overflow-x: scroll;\"><table class = \"data-frame\" style = \"margin-bottom: 6px;\"><thead><tr class = \"header\"><th class = \"rowNumber\" style = \"font-weight: bold; text-align: right;\">Row</th><th style = \"text-align: left;\">Restaurant_Item_Name</th><th style = \"text-align: left;\">Food_Category</th><th style = \"text-align: left;\">Calories</th><th style = \"text-align: left;\">Total_Fat</th><th style = \"text-align: left;\">Saturated_Fat</th><th style = \"text-align: left;\">Trans_Fat</th><th style = \"text-align: left;\">Cholesterol</th><th style = \"text-align: left;\">Sodium</th><th style = \"text-align: left;\">Carbohydrates</th><th style = \"text-align: left;\">Protein</th><th style = \"text-align: left;\">Sugar</th><th style = \"text-align: left;\">Fiber</th><th style = \"text-align: left;\">Restaurant_Item_Name_Num</th><th style = \"text-align: left;\">Food_Category_Num</th></tr><tr class = \"subheader headerLastRow\"><th class = \"rowNumber\" style = \"font-weight: bold; text-align: right;\"></th><th title = \"CategoricalValue{String, UInt32}\" style = \"text-align: left;\">Cat…</th><th title = \"CategoricalValue{String31, UInt32}\" style = \"text-align: left;\">Cat…</th><th title = \"Float64\" style = \"text-align: left;\">Float64</th><th title = \"Float64\" style = \"text-align: left;\">Float64</th><th title = \"Float64\" style = \"text-align: left;\">Float64</th><th title = \"Float64\" style = \"text-align: left;\">Float64</th><th title = \"Float64\" style = \"text-align: left;\">Float64</th><th title = \"Float64\" style = \"text-align: left;\">Float64</th><th title = \"Float64\" style = \"text-align: left;\">Float64</th><th title = \"Float64\" style = \"text-align: left;\">Float64</th><th title = \"Float64\" style = \"text-align: left;\">Float64</th><th title = \"Float64\" style = \"text-align: left;\">Float64</th><th title = \"Int64\" style = \"text-align: left;\">Int64</th><th title = \"Int64\" style = \"text-align: left;\">Int64</th></tr></thead><tbody></tbody></table></div>"
      ],
      "text/latex": [
       "\\begin{tabular}{r|ccccccc}\n",
       "\t& Restaurant\\_Item\\_Name & Food\\_Category & Calories & Total\\_Fat & Saturated\\_Fat & Trans\\_Fat & \\\\\n",
       "\t\\hline\n",
       "\t& Cat… & Cat… & Float64 & Float64 & Float64 & Float64 & \\\\\n",
       "\t\\hline\n",
       "\\end{tabular}\n"
      ],
      "text/plain": [
       "\u001b[1m0×14 DataFrame\u001b[0m\n",
       "\u001b[1m Row \u001b[0m│\u001b[1m Restaurant_Item_Name \u001b[0m\u001b[1m Food_Category \u001b[0m\u001b[1m Calories \u001b[0m\u001b[1m Total_Fat \u001b[0m\u001b[1m Saturated_Fat\u001b[0m ⋯\n",
       "     │\u001b[90m CategoricalValue…    \u001b[0m\u001b[90m Categorical…  \u001b[0m\u001b[90m Float64  \u001b[0m\u001b[90m Float64   \u001b[0m\u001b[90m Float64      \u001b[0m ⋯\n",
       "─────┴──────────────────────────────────────────────────────────────────────────\n",
       "\u001b[36m                                                               9 columns omitted\u001b[0m"
      ]
     },
     "execution_count": 17,
     "metadata": {},
     "output_type": "execute_result"
    }
   ],
   "source": [
    "# debug\n",
    "\n",
    "df_mcdonalds_menu__mains[findall(nonunique(df_mcdonalds_menu__mains)), :]"
   ]
  },
  {
   "cell_type": "code",
   "execution_count": 18,
   "id": "6a9dbc93",
   "metadata": {},
   "outputs": [
    {
     "data": {
      "text/html": [
       "<div><div style = \"float: left;\"><span>0×14 DataFrame</span></div><div style = \"clear: both;\"></div></div><div class = \"data-frame\" style = \"overflow-x: scroll;\"><table class = \"data-frame\" style = \"margin-bottom: 6px;\"><thead><tr class = \"header\"><th class = \"rowNumber\" style = \"font-weight: bold; text-align: right;\">Row</th><th style = \"text-align: left;\">Restaurant_Item_Name</th><th style = \"text-align: left;\">Food_Category</th><th style = \"text-align: left;\">Calories</th><th style = \"text-align: left;\">Total_Fat</th><th style = \"text-align: left;\">Saturated_Fat</th><th style = \"text-align: left;\">Trans_Fat</th><th style = \"text-align: left;\">Cholesterol</th><th style = \"text-align: left;\">Sodium</th><th style = \"text-align: left;\">Carbohydrates</th><th style = \"text-align: left;\">Protein</th><th style = \"text-align: left;\">Sugar</th><th style = \"text-align: left;\">Fiber</th><th style = \"text-align: left;\">Restaurant_Item_Name_Num</th><th style = \"text-align: left;\">Food_Category_Num</th></tr><tr class = \"subheader headerLastRow\"><th class = \"rowNumber\" style = \"font-weight: bold; text-align: right;\"></th><th title = \"CategoricalValue{String, UInt32}\" style = \"text-align: left;\">Cat…</th><th title = \"CategoricalValue{String31, UInt32}\" style = \"text-align: left;\">Cat…</th><th title = \"Float64\" style = \"text-align: left;\">Float64</th><th title = \"Float64\" style = \"text-align: left;\">Float64</th><th title = \"Float64\" style = \"text-align: left;\">Float64</th><th title = \"Float64\" style = \"text-align: left;\">Float64</th><th title = \"Float64\" style = \"text-align: left;\">Float64</th><th title = \"Float64\" style = \"text-align: left;\">Float64</th><th title = \"Float64\" style = \"text-align: left;\">Float64</th><th title = \"Float64\" style = \"text-align: left;\">Float64</th><th title = \"Float64\" style = \"text-align: left;\">Float64</th><th title = \"Float64\" style = \"text-align: left;\">Float64</th><th title = \"Int64\" style = \"text-align: left;\">Int64</th><th title = \"Int64\" style = \"text-align: left;\">Int64</th></tr></thead><tbody></tbody></table></div>"
      ],
      "text/latex": [
       "\\begin{tabular}{r|ccccccc}\n",
       "\t& Restaurant\\_Item\\_Name & Food\\_Category & Calories & Total\\_Fat & Saturated\\_Fat & Trans\\_Fat & \\\\\n",
       "\t\\hline\n",
       "\t& Cat… & Cat… & Float64 & Float64 & Float64 & Float64 & \\\\\n",
       "\t\\hline\n",
       "\\end{tabular}\n"
      ],
      "text/plain": [
       "\u001b[1m0×14 DataFrame\u001b[0m\n",
       "\u001b[1m Row \u001b[0m│\u001b[1m Restaurant_Item_Name \u001b[0m\u001b[1m Food_Category \u001b[0m\u001b[1m Calories \u001b[0m\u001b[1m Total_Fat \u001b[0m\u001b[1m Saturated_Fat\u001b[0m ⋯\n",
       "     │\u001b[90m CategoricalValue…    \u001b[0m\u001b[90m Categorical…  \u001b[0m\u001b[90m Float64  \u001b[0m\u001b[90m Float64   \u001b[0m\u001b[90m Float64      \u001b[0m ⋯\n",
       "─────┴──────────────────────────────────────────────────────────────────────────\n",
       "\u001b[36m                                                               9 columns omitted\u001b[0m"
      ]
     },
     "execution_count": 18,
     "metadata": {},
     "output_type": "execute_result"
    }
   ],
   "source": [
    "# debug\n",
    "\n",
    "df_mcdonalds_menu__non_main[findall(nonunique(df_mcdonalds_menu__non_main)), :]"
   ]
  },
  {
   "cell_type": "code",
   "execution_count": 20,
   "id": "4ba6d1dd",
   "metadata": {},
   "outputs": [
    {
     "ename": "LoadError",
     "evalue": "Repeated index McDonald's Artisan Grilled Chicken Sandwich. Index sets must have unique elements.",
     "output_type": "error",
     "traceback": [
      "Repeated index McDonald's Artisan Grilled Chicken Sandwich. Index sets must have unique elements.",
      "",
      "Stacktrace:",
      "  [1] error(s::String)",
      "    @ Base ./error.jl:35",
      "  [2] build_lookup(ax::CategoricalVector{String, UInt32, String, CategoricalValue{String, UInt32}, Union{}})",
      "    @ JuMP.Containers ~/.julia/packages/JuMP/pQApG/src/Containers/DenseAxisArray.jl:44",
      "  [3] _broadcast_getindex_evalf",
      "    @ ./broadcast.jl:670 [inlined]",
      "  [4] _broadcast_getindex",
      "    @ ./broadcast.jl:643 [inlined]",
      "  [5] #29",
      "    @ ./broadcast.jl:1075 [inlined]",
      "  [6] ntuple",
      "    @ ./ntuple.jl:48 [inlined]",
      "  [7] copy",
      "    @ ./broadcast.jl:1075 [inlined]",
      "  [8] materialize",
      "    @ ./broadcast.jl:860 [inlined]",
      "  [9] #DenseAxisArray#9",
      "    @ ~/.julia/packages/JuMP/pQApG/src/Containers/DenseAxisArray.jl:212 [inlined]",
      " [10] container(f::Function, indices::JuMP.Containers.VectorizedProductIterator{Tuple{CategoricalVector{String, UInt32, String, CategoricalValue{String, UInt32}, Union{}}}}, ::Type{JuMP.Containers.DenseAxisArray}, names::Vector{Any})",
      "    @ JuMP.Containers ~/.julia/packages/JuMP/pQApG/src/Containers/container.jl:123",
      " [11] container(f::Function, indices::JuMP.Containers.VectorizedProductIterator{Tuple{CategoricalVector{String, UInt32, String, CategoricalValue{String, UInt32}, Union{}}}}, #unused#::Type{JuMP.Containers.AutoContainerType}, names::Vector{Any})",
      "    @ JuMP.Containers ~/.julia/packages/JuMP/pQApG/src/Containers/container.jl:75",
      " [12] macro expansion",
      "    @ ~/.julia/packages/JuMP/pQApG/src/macros.jl:136 [inlined]",
      " [13] top-level scope",
      "    @ In[20]:1"
     ]
    }
   ],
   "source": [
    "@variable(model, xm[df_mcdonalds_menu__mains.Restaurant_Item_Name] >= 0)\n",
    "@variable(model, xnm[df_mcdonalds_menu__non_mains.Restaurant_Item_Name] >= 0)"
   ]
  },
  {
   "cell_type": "markdown",
   "id": "be3536e9",
   "metadata": {},
   "source": [
    "----"
   ]
  },
  {
   "cell_type": "code",
   "execution_count": null,
   "id": "a527b2a1",
   "metadata": {},
   "outputs": [],
   "source": [
    "n_mains = nrow(df_mcdonalds_menu__mains)\n",
    "n_non_main = nrow(df_mcdonalds_menu__non_main)\n",
    "\n",
    "@variable(model, xm[1:n_mains] >= 0)\n",
    "@variable(model, xnm[1:n_non_main] >= 0)\n",
    "@variable(model, constraint_mains[1:n_mains], Bin)"
   ]
  },
  {
   "cell_type": "code",
   "execution_count": null,
   "id": "0eee055a",
   "metadata": {},
   "outputs": [],
   "source": [
    "@objective(model, Min, sum(df_mcdonalds_menu_.Calories[i]*x[i] for i in 1:n))"
   ]
  },
  {
   "cell_type": "markdown",
   "id": "26e16edf",
   "metadata": {},
   "source": [
    "----"
   ]
  },
  {
   "cell_type": "markdown",
   "id": "cf7002a8",
   "metadata": {},
   "source": [
    "Questions for Maurice:\n",
    "- Is creating variables in a for loop for the 30 days the best way to the optimization equation? This way you end up with at least `30*n_menu_items` number of variables "
   ]
  },
  {
   "cell_type": "markdown",
   "id": "bbdf03c5",
   "metadata": {},
   "source": [
    "----"
   ]
  },
  {
   "cell_type": "code",
   "execution_count": null,
   "id": "9d669215",
   "metadata": {},
   "outputs": [],
   "source": []
  },
  {
   "cell_type": "code",
   "execution_count": null,
   "id": "f3d7cd61",
   "metadata": {},
   "outputs": [],
   "source": []
  },
  {
   "cell_type": "code",
   "execution_count": null,
   "id": "536dab6b",
   "metadata": {},
   "outputs": [],
   "source": [
    "domain_menu_variables = unique(\n",
    "    select(\n",
    "        df_mcdonalds_menu, \n",
    "        :Restaurant_Item_Name_Num => minimum => :item_min,\n",
    "        :Restaurant_Item_Name_Num => maximum => :item_max,\n",
    "        :Food_Category_Num => minimum => :food_category_min,\n",
    "        :Food_Category_Num => maximum => :food_category_max,\n",
    "    )\n",
    ")"
   ]
  },
  {
   "cell_type": "code",
   "execution_count": null,
   "id": "f0587695",
   "metadata": {},
   "outputs": [],
   "source": [
    "domain_menu_variables[!, r\"min\"]"
   ]
  },
  {
   "cell_type": "code",
   "execution_count": null,
   "id": "a33818d9",
   "metadata": {},
   "outputs": [],
   "source": []
  },
  {
   "cell_type": "code",
   "execution_count": null,
   "id": "42a706b7",
   "metadata": {},
   "outputs": [],
   "source": []
  },
  {
   "cell_type": "code",
   "execution_count": null,
   "id": "5cec3298",
   "metadata": {},
   "outputs": [],
   "source": []
  },
  {
   "cell_type": "code",
   "execution_count": null,
   "id": "41a62d11",
   "metadata": {},
   "outputs": [],
   "source": [
    "model = Model()\n",
    "S = [2, 5, 6, 8, 10]\n",
    "@variable(model, x, Int)\n",
    "@variable(model, z[1:length(S)], Bin)\n",
    "@constraint(model, sum(z) == 1)\n",
    "@constraint(model, x == sum(S[i] * z[i] for i = 1:length(S))"
   ]
  }
 ],
 "metadata": {
  "kernelspec": {
   "display_name": "Julia 1.8.5",
   "language": "julia",
   "name": "julia-1.8"
  },
  "language_info": {
   "file_extension": ".jl",
   "mimetype": "application/julia",
   "name": "julia",
   "version": "1.8.5"
  }
 },
 "nbformat": 4,
 "nbformat_minor": 5
}
